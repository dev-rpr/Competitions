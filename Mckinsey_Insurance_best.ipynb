{
 "cells": [
  {
   "cell_type": "markdown",
   "metadata": {},
   "source": [
    "## Predict their clients' repayment abilities"
   ]
  },
  {
   "cell_type": "code",
   "execution_count": 1,
   "metadata": {
    "collapsed": true
   },
   "outputs": [],
   "source": [
    "folder = r\"G:\\Study material\\Data Science\\Datasets\\Mckinsey_Insurance\"\n",
    "#r\"/home/ws01/Documents/Datasets/Mckinsey_Insurance\"\n",
    "seed = 24"
   ]
  },
  {
   "cell_type": "code",
   "execution_count": 2,
   "metadata": {
    "collapsed": true
   },
   "outputs": [],
   "source": [
    "import warnings\n",
    "warnings.filterwarnings('ignore')"
   ]
  },
  {
   "cell_type": "code",
   "execution_count": 3,
   "metadata": {
    "collapsed": true
   },
   "outputs": [],
   "source": [
    "#Basic libraries\n",
    "import sys\n",
    "import os\n",
    "import datetime\n",
    "import pandas as pd\n",
    "import numpy as np\n",
    "import gc\n",
    "import time"
   ]
  },
  {
   "cell_type": "code",
   "execution_count": 4,
   "metadata": {
    "collapsed": true
   },
   "outputs": [],
   "source": [
    "#Visualization libraries\n",
    "from matplotlib.pyplot import rcParams\n",
    "import matplotlib.pyplot as plt\n",
    "rcParams['figure.figsize'] = 20, 8"
   ]
  },
  {
   "cell_type": "code",
   "execution_count": 5,
   "metadata": {
    "collapsed": true
   },
   "outputs": [],
   "source": [
    "#modelling libraries\n",
    "from sklearn.preprocessing import StandardScaler,LabelEncoder\n",
    "#Train, test split and normalizing \n",
    "from sklearn.model_selection import train_test_split,StratifiedKFold,GridSearchCV,cross_val_score\n",
    "\n",
    "#Metric\n",
    "from sklearn.metrics import roc_auc_score\n",
    "\n",
    "import xgboost as xgb\n",
    "from xgboost import XGBClassifier as xgc"
   ]
  },
  {
   "cell_type": "code",
   "execution_count": 6,
   "metadata": {
    "collapsed": true
   },
   "outputs": [],
   "source": [
    "pd.set_option('display.max_rows', 500)\n",
    "pd.set_option('display.max_columns', 500)\n",
    "pd.set_option('display.width', 1000)\n",
    "pd.set_option('display.max_colwidth', 200)\n",
    "pd.set_option('display.precision', 3)"
   ]
  },
  {
   "cell_type": "code",
   "execution_count": 7,
   "metadata": {},
   "outputs": [
    {
     "data": {
      "text/plain": [
       "(79853, 13)"
      ]
     },
     "execution_count": 7,
     "metadata": {},
     "output_type": "execute_result"
    }
   ],
   "source": [
    "train = pd.read_csv(os.path.join(folder,\"train.csv\"))\n",
    "train.shape"
   ]
  },
  {
   "cell_type": "code",
   "execution_count": 8,
   "metadata": {},
   "outputs": [
    {
     "data": {
      "text/html": [
       "<div>\n",
       "<style>\n",
       "    .dataframe thead tr:only-child th {\n",
       "        text-align: right;\n",
       "    }\n",
       "\n",
       "    .dataframe thead th {\n",
       "        text-align: left;\n",
       "    }\n",
       "\n",
       "    .dataframe tbody tr th {\n",
       "        vertical-align: top;\n",
       "    }\n",
       "</style>\n",
       "<table border=\"1\" class=\"dataframe\">\n",
       "  <thead>\n",
       "    <tr style=\"text-align: right;\">\n",
       "      <th></th>\n",
       "      <th>id</th>\n",
       "      <th>perc_premium_paid_by_cash_credit</th>\n",
       "      <th>age_in_days</th>\n",
       "      <th>Income</th>\n",
       "      <th>Count_3-6_months_late</th>\n",
       "      <th>Count_6-12_months_late</th>\n",
       "      <th>Count_more_than_12_months_late</th>\n",
       "      <th>application_underwriting_score</th>\n",
       "      <th>no_of_premiums_paid</th>\n",
       "      <th>sourcing_channel</th>\n",
       "      <th>residence_area_type</th>\n",
       "      <th>premium</th>\n",
       "      <th>renewal</th>\n",
       "    </tr>\n",
       "  </thead>\n",
       "  <tbody>\n",
       "    <tr>\n",
       "      <th>0</th>\n",
       "      <td>110936</td>\n",
       "      <td>0.429</td>\n",
       "      <td>12058</td>\n",
       "      <td>355060</td>\n",
       "      <td>0.0</td>\n",
       "      <td>0.0</td>\n",
       "      <td>0.0</td>\n",
       "      <td>99.02</td>\n",
       "      <td>13</td>\n",
       "      <td>C</td>\n",
       "      <td>Urban</td>\n",
       "      <td>3300</td>\n",
       "      <td>1</td>\n",
       "    </tr>\n",
       "    <tr>\n",
       "      <th>1</th>\n",
       "      <td>41492</td>\n",
       "      <td>0.010</td>\n",
       "      <td>21546</td>\n",
       "      <td>315150</td>\n",
       "      <td>0.0</td>\n",
       "      <td>0.0</td>\n",
       "      <td>0.0</td>\n",
       "      <td>99.89</td>\n",
       "      <td>21</td>\n",
       "      <td>A</td>\n",
       "      <td>Urban</td>\n",
       "      <td>18000</td>\n",
       "      <td>1</td>\n",
       "    </tr>\n",
       "    <tr>\n",
       "      <th>2</th>\n",
       "      <td>31300</td>\n",
       "      <td>0.917</td>\n",
       "      <td>17531</td>\n",
       "      <td>84140</td>\n",
       "      <td>2.0</td>\n",
       "      <td>3.0</td>\n",
       "      <td>1.0</td>\n",
       "      <td>98.69</td>\n",
       "      <td>7</td>\n",
       "      <td>C</td>\n",
       "      <td>Rural</td>\n",
       "      <td>3300</td>\n",
       "      <td>0</td>\n",
       "    </tr>\n",
       "    <tr>\n",
       "      <th>3</th>\n",
       "      <td>19415</td>\n",
       "      <td>0.049</td>\n",
       "      <td>15341</td>\n",
       "      <td>250510</td>\n",
       "      <td>0.0</td>\n",
       "      <td>0.0</td>\n",
       "      <td>0.0</td>\n",
       "      <td>99.57</td>\n",
       "      <td>9</td>\n",
       "      <td>A</td>\n",
       "      <td>Urban</td>\n",
       "      <td>9600</td>\n",
       "      <td>1</td>\n",
       "    </tr>\n",
       "    <tr>\n",
       "      <th>4</th>\n",
       "      <td>99379</td>\n",
       "      <td>0.052</td>\n",
       "      <td>31400</td>\n",
       "      <td>198680</td>\n",
       "      <td>0.0</td>\n",
       "      <td>0.0</td>\n",
       "      <td>0.0</td>\n",
       "      <td>99.87</td>\n",
       "      <td>12</td>\n",
       "      <td>B</td>\n",
       "      <td>Urban</td>\n",
       "      <td>9600</td>\n",
       "      <td>1</td>\n",
       "    </tr>\n",
       "  </tbody>\n",
       "</table>\n",
       "</div>"
      ],
      "text/plain": [
       "       id  perc_premium_paid_by_cash_credit  age_in_days  Income  Count_3-6_months_late  Count_6-12_months_late  Count_more_than_12_months_late  application_underwriting_score  no_of_premiums_paid sourcing_channel residence_area_type  premium  renewal\n",
       "0  110936                             0.429        12058  355060                    0.0                     0.0                             0.0                           99.02                   13                C               Urban     3300        1\n",
       "1   41492                             0.010        21546  315150                    0.0                     0.0                             0.0                           99.89                   21                A               Urban    18000        1\n",
       "2   31300                             0.917        17531   84140                    2.0                     3.0                             1.0                           98.69                    7                C               Rural     3300        0\n",
       "3   19415                             0.049        15341  250510                    0.0                     0.0                             0.0                           99.57                    9                A               Urban     9600        1\n",
       "4   99379                             0.052        31400  198680                    0.0                     0.0                             0.0                           99.87                   12                B               Urban     9600        1"
      ]
     },
     "execution_count": 8,
     "metadata": {},
     "output_type": "execute_result"
    }
   ],
   "source": [
    "train.head()"
   ]
  },
  {
   "cell_type": "code",
   "execution_count": 9,
   "metadata": {
    "collapsed": true
   },
   "outputs": [],
   "source": [
    "id_col = 'id'"
   ]
  },
  {
   "cell_type": "code",
   "execution_count": 10,
   "metadata": {
    "collapsed": true
   },
   "outputs": [],
   "source": [
    "target = train['renewal']"
   ]
  },
  {
   "cell_type": "code",
   "execution_count": 11,
   "metadata": {},
   "outputs": [
    {
     "data": {
      "text/plain": [
       "(34224, 12)"
      ]
     },
     "execution_count": 11,
     "metadata": {},
     "output_type": "execute_result"
    }
   ],
   "source": [
    "test = pd.read_csv(os.path.join(folder,\"test.csv\"))\n",
    "test.shape"
   ]
  },
  {
   "cell_type": "code",
   "execution_count": 12,
   "metadata": {
    "collapsed": true
   },
   "outputs": [],
   "source": [
    "train.set_index(id_col,inplace=True)\n",
    "test.set_index(id_col,inplace=True)"
   ]
  },
  {
   "cell_type": "code",
   "execution_count": 13,
   "metadata": {},
   "outputs": [
    {
     "data": {
      "text/plain": [
       "1    93.7\n",
       "0     6.3\n",
       "Name: renewal, dtype: float64"
      ]
     },
     "execution_count": 13,
     "metadata": {},
     "output_type": "execute_result"
    }
   ],
   "source": [
    "target.value_counts(normalize=True).round(3) *100 #Imbalanced"
   ]
  },
  {
   "cell_type": "code",
   "execution_count": 14,
   "metadata": {},
   "outputs": [
    {
     "data": {
      "text/plain": [
       "float64    5\n",
       "int64      5\n",
       "object     2\n",
       "dtype: int64"
      ]
     },
     "execution_count": 14,
     "metadata": {},
     "output_type": "execute_result"
    }
   ],
   "source": [
    "train.dtypes.value_counts()"
   ]
  },
  {
   "cell_type": "code",
   "execution_count": 15,
   "metadata": {},
   "outputs": [
    {
     "data": {
      "text/plain": [
       "(2998, 12)"
      ]
     },
     "execution_count": 15,
     "metadata": {},
     "output_type": "execute_result"
    }
   ],
   "source": [
    "train[train.isnull().any(axis=1)].shape #empty rows"
   ]
  },
  {
   "cell_type": "code",
   "execution_count": 16,
   "metadata": {
    "collapsed": true
   },
   "outputs": [],
   "source": [
    "def info(df,sort = True,save = \"No\"):\n",
    "    size = df.shape[0]\n",
    "    null = df.isnull().sum()\n",
    "    nuni = df.nunique()\n",
    "    dtype = df.dtypes\n",
    "    missing_pct = null*100/size\n",
    "    df_info  = pd.concat([dtype, missing_pct.round(2),nuni], axis=1, keys=['type','missing','nunique'])\n",
    "    if sort == True:\n",
    "        df_info.sort_values (['missing'],ascending=False,inplace=True)\n",
    "    if (save == \"Yes\"):\n",
    "        df_info.to_csv(os.path.join(folder,'info.csv'))\n",
    "    return df_info"
   ]
  },
  {
   "cell_type": "code",
   "execution_count": 17,
   "metadata": {
    "collapsed": true
   },
   "outputs": [],
   "source": [
    "def create_cat(df,col,values):\n",
    "    prefix = col\n",
    "    unique_vals = values #list(df[col].unique())    \n",
    "    dummies = pd.DataFrame()\n",
    "    for val in unique_vals:\n",
    "        dummies[prefix + \"_\" + val] = df[col] == val\n",
    "        dummies[prefix + \"_\" + val] = dummies[prefix + \"_\" + val].apply(lambda x: 1 if x == True else 0)\n",
    "            #le = LabelEncoder()\n",
    "            #dummies[prefix + \"_\" + val] = le.fit_transform(dummies[prefix + \"_\" + val])\n",
    "    \n",
    "    df = pd.concat([df,dummies],axis=1)\n",
    "    return df "
   ]
  },
  {
   "cell_type": "code",
   "execution_count": 18,
   "metadata": {
    "collapsed": true
   },
   "outputs": [],
   "source": [
    "def cat_all(train,test,cols):\n",
    "    #For example, one has to create dummies for zip code\n",
    "    for col in cols:\n",
    "        highest_cat = train[col].value_counts().index[0]\n",
    "        values_cat = [i for i in list(train[col].unique()) if i not in [highest_cat]]\n",
    "\n",
    "        start = time.time()\n",
    "        train = create_cat(train,col,values_cat)\n",
    "        print(\"Time taken: \", time.time() - start)\n",
    "        train.drop(col,axis=1, inplace=True)\n",
    "\n",
    "        test = create_cat(test,col,values_cat)\n",
    "        print(\"Time taken: \", time.time() - start)\n",
    "        test.drop(col,axis=1, inplace=True)\n",
    "    \n",
    "    return train,test"
   ]
  },
  {
   "cell_type": "code",
   "execution_count": 19,
   "metadata": {
    "collapsed": true
   },
   "outputs": [],
   "source": [
    "train_info = info(train,False,'Yes')"
   ]
  },
  {
   "cell_type": "code",
   "execution_count": 20,
   "metadata": {
    "collapsed": true
   },
   "outputs": [],
   "source": [
    "train_info.sort_values('missing',inplace=True, ascending=False)"
   ]
  },
  {
   "cell_type": "code",
   "execution_count": 21,
   "metadata": {
    "scrolled": true
   },
   "outputs": [
    {
     "data": {
      "text/html": [
       "<div>\n",
       "<style>\n",
       "    .dataframe thead tr:only-child th {\n",
       "        text-align: right;\n",
       "    }\n",
       "\n",
       "    .dataframe thead th {\n",
       "        text-align: left;\n",
       "    }\n",
       "\n",
       "    .dataframe tbody tr th {\n",
       "        vertical-align: top;\n",
       "    }\n",
       "</style>\n",
       "<table border=\"1\" class=\"dataframe\">\n",
       "  <thead>\n",
       "    <tr style=\"text-align: right;\">\n",
       "      <th></th>\n",
       "      <th>application_underwriting_score</th>\n",
       "      <th>Count_3-6_months_late</th>\n",
       "      <th>Count_6-12_months_late</th>\n",
       "      <th>Count_more_than_12_months_late</th>\n",
       "      <th>perc_premium_paid_by_cash_credit</th>\n",
       "      <th>age_in_days</th>\n",
       "      <th>Income</th>\n",
       "      <th>no_of_premiums_paid</th>\n",
       "      <th>sourcing_channel</th>\n",
       "      <th>residence_area_type</th>\n",
       "      <th>premium</th>\n",
       "      <th>renewal</th>\n",
       "    </tr>\n",
       "  </thead>\n",
       "  <tbody>\n",
       "    <tr>\n",
       "      <th>type</th>\n",
       "      <td>float64</td>\n",
       "      <td>float64</td>\n",
       "      <td>float64</td>\n",
       "      <td>float64</td>\n",
       "      <td>float64</td>\n",
       "      <td>int64</td>\n",
       "      <td>int64</td>\n",
       "      <td>int64</td>\n",
       "      <td>object</td>\n",
       "      <td>object</td>\n",
       "      <td>int64</td>\n",
       "      <td>int64</td>\n",
       "    </tr>\n",
       "    <tr>\n",
       "      <th>missing</th>\n",
       "      <td>3.72</td>\n",
       "      <td>0.12</td>\n",
       "      <td>0.12</td>\n",
       "      <td>0.12</td>\n",
       "      <td>0</td>\n",
       "      <td>0</td>\n",
       "      <td>0</td>\n",
       "      <td>0</td>\n",
       "      <td>0</td>\n",
       "      <td>0</td>\n",
       "      <td>0</td>\n",
       "      <td>0</td>\n",
       "    </tr>\n",
       "    <tr>\n",
       "      <th>nunique</th>\n",
       "      <td>672</td>\n",
       "      <td>14</td>\n",
       "      <td>17</td>\n",
       "      <td>10</td>\n",
       "      <td>1001</td>\n",
       "      <td>833</td>\n",
       "      <td>24165</td>\n",
       "      <td>57</td>\n",
       "      <td>5</td>\n",
       "      <td>2</td>\n",
       "      <td>30</td>\n",
       "      <td>2</td>\n",
       "    </tr>\n",
       "  </tbody>\n",
       "</table>\n",
       "</div>"
      ],
      "text/plain": [
       "        application_underwriting_score Count_3-6_months_late Count_6-12_months_late Count_more_than_12_months_late perc_premium_paid_by_cash_credit age_in_days Income no_of_premiums_paid sourcing_channel residence_area_type premium renewal\n",
       "type                           float64               float64                float64                        float64                          float64       int64  int64               int64           object              object   int64   int64\n",
       "missing                           3.72                  0.12                   0.12                           0.12                                0           0      0                   0                0                   0       0       0\n",
       "nunique                            672                    14                     17                             10                             1001         833  24165                  57                5                   2      30       2"
      ]
     },
     "execution_count": 21,
     "metadata": {},
     "output_type": "execute_result"
    }
   ],
   "source": [
    "train_info.T"
   ]
  },
  {
   "cell_type": "code",
   "execution_count": 22,
   "metadata": {
    "collapsed": true
   },
   "outputs": [],
   "source": [
    "drop_missing = list(train_info[train_info['missing'] > 40].index)"
   ]
  },
  {
   "cell_type": "code",
   "execution_count": 23,
   "metadata": {},
   "outputs": [
    {
     "data": {
      "text/plain": [
       "[]"
      ]
     },
     "execution_count": 23,
     "metadata": {},
     "output_type": "execute_result"
    }
   ],
   "source": [
    "drop_missing"
   ]
  },
  {
   "cell_type": "code",
   "execution_count": 24,
   "metadata": {
    "collapsed": true
   },
   "outputs": [],
   "source": [
    "train.drop(drop_missing, axis =1 , inplace = True)\n",
    "test.drop(drop_missing, axis =1 , inplace = True)"
   ]
  },
  {
   "cell_type": "code",
   "execution_count": 25,
   "metadata": {
    "collapsed": true
   },
   "outputs": [],
   "source": [
    "#Explore columns"
   ]
  },
  {
   "cell_type": "code",
   "execution_count": 26,
   "metadata": {},
   "outputs": [
    {
     "data": {
      "text/html": [
       "<div>\n",
       "<style>\n",
       "    .dataframe thead tr:only-child th {\n",
       "        text-align: right;\n",
       "    }\n",
       "\n",
       "    .dataframe thead th {\n",
       "        text-align: left;\n",
       "    }\n",
       "\n",
       "    .dataframe tbody tr th {\n",
       "        vertical-align: top;\n",
       "    }\n",
       "</style>\n",
       "<table border=\"1\" class=\"dataframe\">\n",
       "  <thead>\n",
       "    <tr style=\"text-align: right;\">\n",
       "      <th></th>\n",
       "      <th>perc_premium_paid_by_cash_credit</th>\n",
       "      <th>age_in_days</th>\n",
       "      <th>Income</th>\n",
       "      <th>Count_3-6_months_late</th>\n",
       "      <th>Count_6-12_months_late</th>\n",
       "      <th>Count_more_than_12_months_late</th>\n",
       "      <th>application_underwriting_score</th>\n",
       "      <th>no_of_premiums_paid</th>\n",
       "      <th>sourcing_channel</th>\n",
       "      <th>residence_area_type</th>\n",
       "      <th>premium</th>\n",
       "      <th>renewal</th>\n",
       "    </tr>\n",
       "    <tr>\n",
       "      <th>id</th>\n",
       "      <th></th>\n",
       "      <th></th>\n",
       "      <th></th>\n",
       "      <th></th>\n",
       "      <th></th>\n",
       "      <th></th>\n",
       "      <th></th>\n",
       "      <th></th>\n",
       "      <th></th>\n",
       "      <th></th>\n",
       "      <th></th>\n",
       "      <th></th>\n",
       "    </tr>\n",
       "  </thead>\n",
       "  <tbody>\n",
       "    <tr>\n",
       "      <th>73099</th>\n",
       "      <td>1.0</td>\n",
       "      <td>15336</td>\n",
       "      <td>210100</td>\n",
       "      <td>NaN</td>\n",
       "      <td>NaN</td>\n",
       "      <td>NaN</td>\n",
       "      <td>NaN</td>\n",
       "      <td>2</td>\n",
       "      <td>A</td>\n",
       "      <td>Urban</td>\n",
       "      <td>9600</td>\n",
       "      <td>0</td>\n",
       "    </tr>\n",
       "    <tr>\n",
       "      <th>81690</th>\n",
       "      <td>1.0</td>\n",
       "      <td>7679</td>\n",
       "      <td>39040</td>\n",
       "      <td>NaN</td>\n",
       "      <td>NaN</td>\n",
       "      <td>NaN</td>\n",
       "      <td>NaN</td>\n",
       "      <td>2</td>\n",
       "      <td>A</td>\n",
       "      <td>Rural</td>\n",
       "      <td>1200</td>\n",
       "      <td>0</td>\n",
       "    </tr>\n",
       "    <tr>\n",
       "      <th>49862</th>\n",
       "      <td>1.0</td>\n",
       "      <td>10593</td>\n",
       "      <td>49520</td>\n",
       "      <td>NaN</td>\n",
       "      <td>NaN</td>\n",
       "      <td>NaN</td>\n",
       "      <td>NaN</td>\n",
       "      <td>2</td>\n",
       "      <td>A</td>\n",
       "      <td>Rural</td>\n",
       "      <td>1200</td>\n",
       "      <td>0</td>\n",
       "    </tr>\n",
       "    <tr>\n",
       "      <th>59</th>\n",
       "      <td>1.0</td>\n",
       "      <td>17891</td>\n",
       "      <td>90100</td>\n",
       "      <td>NaN</td>\n",
       "      <td>NaN</td>\n",
       "      <td>NaN</td>\n",
       "      <td>NaN</td>\n",
       "      <td>2</td>\n",
       "      <td>A</td>\n",
       "      <td>Urban</td>\n",
       "      <td>5700</td>\n",
       "      <td>1</td>\n",
       "    </tr>\n",
       "    <tr>\n",
       "      <th>19184</th>\n",
       "      <td>1.0</td>\n",
       "      <td>18260</td>\n",
       "      <td>40530</td>\n",
       "      <td>NaN</td>\n",
       "      <td>NaN</td>\n",
       "      <td>NaN</td>\n",
       "      <td>NaN</td>\n",
       "      <td>2</td>\n",
       "      <td>A</td>\n",
       "      <td>Rural</td>\n",
       "      <td>1200</td>\n",
       "      <td>0</td>\n",
       "    </tr>\n",
       "    <tr>\n",
       "      <th>74860</th>\n",
       "      <td>1.0</td>\n",
       "      <td>17535</td>\n",
       "      <td>36130</td>\n",
       "      <td>NaN</td>\n",
       "      <td>NaN</td>\n",
       "      <td>NaN</td>\n",
       "      <td>NaN</td>\n",
       "      <td>2</td>\n",
       "      <td>A</td>\n",
       "      <td>Urban</td>\n",
       "      <td>5700</td>\n",
       "      <td>0</td>\n",
       "    </tr>\n",
       "    <tr>\n",
       "      <th>61476</th>\n",
       "      <td>1.0</td>\n",
       "      <td>9139</td>\n",
       "      <td>90090</td>\n",
       "      <td>NaN</td>\n",
       "      <td>NaN</td>\n",
       "      <td>NaN</td>\n",
       "      <td>NaN</td>\n",
       "      <td>2</td>\n",
       "      <td>A</td>\n",
       "      <td>Urban</td>\n",
       "      <td>5400</td>\n",
       "      <td>1</td>\n",
       "    </tr>\n",
       "    <tr>\n",
       "      <th>52266</th>\n",
       "      <td>1.0</td>\n",
       "      <td>9501</td>\n",
       "      <td>30040</td>\n",
       "      <td>NaN</td>\n",
       "      <td>NaN</td>\n",
       "      <td>NaN</td>\n",
       "      <td>NaN</td>\n",
       "      <td>2</td>\n",
       "      <td>A</td>\n",
       "      <td>Urban</td>\n",
       "      <td>1200</td>\n",
       "      <td>0</td>\n",
       "    </tr>\n",
       "    <tr>\n",
       "      <th>14736</th>\n",
       "      <td>1.0</td>\n",
       "      <td>14612</td>\n",
       "      <td>216650</td>\n",
       "      <td>NaN</td>\n",
       "      <td>NaN</td>\n",
       "      <td>NaN</td>\n",
       "      <td>NaN</td>\n",
       "      <td>2</td>\n",
       "      <td>C</td>\n",
       "      <td>Rural</td>\n",
       "      <td>1200</td>\n",
       "      <td>1</td>\n",
       "    </tr>\n",
       "    <tr>\n",
       "      <th>18097</th>\n",
       "      <td>1.0</td>\n",
       "      <td>8409</td>\n",
       "      <td>84040</td>\n",
       "      <td>NaN</td>\n",
       "      <td>NaN</td>\n",
       "      <td>NaN</td>\n",
       "      <td>NaN</td>\n",
       "      <td>2</td>\n",
       "      <td>A</td>\n",
       "      <td>Urban</td>\n",
       "      <td>3300</td>\n",
       "      <td>1</td>\n",
       "    </tr>\n",
       "    <tr>\n",
       "      <th>3188</th>\n",
       "      <td>1.0</td>\n",
       "      <td>7680</td>\n",
       "      <td>26130</td>\n",
       "      <td>NaN</td>\n",
       "      <td>NaN</td>\n",
       "      <td>NaN</td>\n",
       "      <td>NaN</td>\n",
       "      <td>2</td>\n",
       "      <td>A</td>\n",
       "      <td>Urban</td>\n",
       "      <td>3300</td>\n",
       "      <td>1</td>\n",
       "    </tr>\n",
       "    <tr>\n",
       "      <th>84203</th>\n",
       "      <td>1.0</td>\n",
       "      <td>19724</td>\n",
       "      <td>60100</td>\n",
       "      <td>NaN</td>\n",
       "      <td>NaN</td>\n",
       "      <td>NaN</td>\n",
       "      <td>99.87</td>\n",
       "      <td>2</td>\n",
       "      <td>A</td>\n",
       "      <td>Urban</td>\n",
       "      <td>5400</td>\n",
       "      <td>0</td>\n",
       "    </tr>\n",
       "    <tr>\n",
       "      <th>39915</th>\n",
       "      <td>1.0</td>\n",
       "      <td>21185</td>\n",
       "      <td>39040</td>\n",
       "      <td>NaN</td>\n",
       "      <td>NaN</td>\n",
       "      <td>NaN</td>\n",
       "      <td>99.73</td>\n",
       "      <td>2</td>\n",
       "      <td>C</td>\n",
       "      <td>Urban</td>\n",
       "      <td>3300</td>\n",
       "      <td>0</td>\n",
       "    </tr>\n",
       "    <tr>\n",
       "      <th>25729</th>\n",
       "      <td>1.0</td>\n",
       "      <td>9133</td>\n",
       "      <td>119790</td>\n",
       "      <td>NaN</td>\n",
       "      <td>NaN</td>\n",
       "      <td>NaN</td>\n",
       "      <td>NaN</td>\n",
       "      <td>2</td>\n",
       "      <td>C</td>\n",
       "      <td>Urban</td>\n",
       "      <td>5400</td>\n",
       "      <td>0</td>\n",
       "    </tr>\n",
       "    <tr>\n",
       "      <th>93120</th>\n",
       "      <td>1.0</td>\n",
       "      <td>12418</td>\n",
       "      <td>96040</td>\n",
       "      <td>NaN</td>\n",
       "      <td>NaN</td>\n",
       "      <td>NaN</td>\n",
       "      <td>99.87</td>\n",
       "      <td>2</td>\n",
       "      <td>A</td>\n",
       "      <td>Urban</td>\n",
       "      <td>5400</td>\n",
       "      <td>1</td>\n",
       "    </tr>\n",
       "    <tr>\n",
       "      <th>79385</th>\n",
       "      <td>1.0</td>\n",
       "      <td>9498</td>\n",
       "      <td>60130</td>\n",
       "      <td>NaN</td>\n",
       "      <td>NaN</td>\n",
       "      <td>NaN</td>\n",
       "      <td>NaN</td>\n",
       "      <td>2</td>\n",
       "      <td>A</td>\n",
       "      <td>Urban</td>\n",
       "      <td>7500</td>\n",
       "      <td>1</td>\n",
       "    </tr>\n",
       "    <tr>\n",
       "      <th>67121</th>\n",
       "      <td>1.0</td>\n",
       "      <td>18621</td>\n",
       "      <td>24080</td>\n",
       "      <td>NaN</td>\n",
       "      <td>NaN</td>\n",
       "      <td>NaN</td>\n",
       "      <td>NaN</td>\n",
       "      <td>2</td>\n",
       "      <td>A</td>\n",
       "      <td>Urban</td>\n",
       "      <td>5700</td>\n",
       "      <td>0</td>\n",
       "    </tr>\n",
       "    <tr>\n",
       "      <th>21148</th>\n",
       "      <td>1.0</td>\n",
       "      <td>12785</td>\n",
       "      <td>90030</td>\n",
       "      <td>NaN</td>\n",
       "      <td>NaN</td>\n",
       "      <td>NaN</td>\n",
       "      <td>99.88</td>\n",
       "      <td>2</td>\n",
       "      <td>A</td>\n",
       "      <td>Rural</td>\n",
       "      <td>3300</td>\n",
       "      <td>0</td>\n",
       "    </tr>\n",
       "    <tr>\n",
       "      <th>74334</th>\n",
       "      <td>1.0</td>\n",
       "      <td>21908</td>\n",
       "      <td>51130</td>\n",
       "      <td>NaN</td>\n",
       "      <td>NaN</td>\n",
       "      <td>NaN</td>\n",
       "      <td>99.80</td>\n",
       "      <td>2</td>\n",
       "      <td>A</td>\n",
       "      <td>Urban</td>\n",
       "      <td>3300</td>\n",
       "      <td>1</td>\n",
       "    </tr>\n",
       "    <tr>\n",
       "      <th>69950</th>\n",
       "      <td>1.0</td>\n",
       "      <td>23005</td>\n",
       "      <td>29640</td>\n",
       "      <td>NaN</td>\n",
       "      <td>NaN</td>\n",
       "      <td>NaN</td>\n",
       "      <td>NaN</td>\n",
       "      <td>2</td>\n",
       "      <td>A</td>\n",
       "      <td>Urban</td>\n",
       "      <td>3300</td>\n",
       "      <td>0</td>\n",
       "    </tr>\n",
       "    <tr>\n",
       "      <th>31769</th>\n",
       "      <td>1.0</td>\n",
       "      <td>13514</td>\n",
       "      <td>95050</td>\n",
       "      <td>NaN</td>\n",
       "      <td>NaN</td>\n",
       "      <td>NaN</td>\n",
       "      <td>99.88</td>\n",
       "      <td>2</td>\n",
       "      <td>A</td>\n",
       "      <td>Urban</td>\n",
       "      <td>9600</td>\n",
       "      <td>0</td>\n",
       "    </tr>\n",
       "    <tr>\n",
       "      <th>105570</th>\n",
       "      <td>1.0</td>\n",
       "      <td>21911</td>\n",
       "      <td>27960</td>\n",
       "      <td>NaN</td>\n",
       "      <td>NaN</td>\n",
       "      <td>NaN</td>\n",
       "      <td>NaN</td>\n",
       "      <td>2</td>\n",
       "      <td>A</td>\n",
       "      <td>Urban</td>\n",
       "      <td>1200</td>\n",
       "      <td>0</td>\n",
       "    </tr>\n",
       "    <tr>\n",
       "      <th>48518</th>\n",
       "      <td>1.0</td>\n",
       "      <td>12059</td>\n",
       "      <td>123120</td>\n",
       "      <td>NaN</td>\n",
       "      <td>NaN</td>\n",
       "      <td>NaN</td>\n",
       "      <td>NaN</td>\n",
       "      <td>2</td>\n",
       "      <td>B</td>\n",
       "      <td>Rural</td>\n",
       "      <td>9600</td>\n",
       "      <td>0</td>\n",
       "    </tr>\n",
       "    <tr>\n",
       "      <th>72114</th>\n",
       "      <td>1.0</td>\n",
       "      <td>14248</td>\n",
       "      <td>66130</td>\n",
       "      <td>NaN</td>\n",
       "      <td>NaN</td>\n",
       "      <td>NaN</td>\n",
       "      <td>NaN</td>\n",
       "      <td>2</td>\n",
       "      <td>B</td>\n",
       "      <td>Urban</td>\n",
       "      <td>3300</td>\n",
       "      <td>0</td>\n",
       "    </tr>\n",
       "    <tr>\n",
       "      <th>51110</th>\n",
       "      <td>1.0</td>\n",
       "      <td>12417</td>\n",
       "      <td>94410</td>\n",
       "      <td>NaN</td>\n",
       "      <td>NaN</td>\n",
       "      <td>NaN</td>\n",
       "      <td>NaN</td>\n",
       "      <td>2</td>\n",
       "      <td>C</td>\n",
       "      <td>Urban</td>\n",
       "      <td>9600</td>\n",
       "      <td>0</td>\n",
       "    </tr>\n",
       "    <tr>\n",
       "      <th>26382</th>\n",
       "      <td>1.0</td>\n",
       "      <td>16072</td>\n",
       "      <td>108480</td>\n",
       "      <td>NaN</td>\n",
       "      <td>NaN</td>\n",
       "      <td>NaN</td>\n",
       "      <td>NaN</td>\n",
       "      <td>2</td>\n",
       "      <td>C</td>\n",
       "      <td>Urban</td>\n",
       "      <td>3300</td>\n",
       "      <td>0</td>\n",
       "    </tr>\n",
       "    <tr>\n",
       "      <th>15150</th>\n",
       "      <td>1.0</td>\n",
       "      <td>13517</td>\n",
       "      <td>180030</td>\n",
       "      <td>NaN</td>\n",
       "      <td>NaN</td>\n",
       "      <td>NaN</td>\n",
       "      <td>NaN</td>\n",
       "      <td>2</td>\n",
       "      <td>B</td>\n",
       "      <td>Urban</td>\n",
       "      <td>9600</td>\n",
       "      <td>0</td>\n",
       "    </tr>\n",
       "    <tr>\n",
       "      <th>68994</th>\n",
       "      <td>1.0</td>\n",
       "      <td>16065</td>\n",
       "      <td>188630</td>\n",
       "      <td>NaN</td>\n",
       "      <td>NaN</td>\n",
       "      <td>NaN</td>\n",
       "      <td>NaN</td>\n",
       "      <td>3</td>\n",
       "      <td>C</td>\n",
       "      <td>Urban</td>\n",
       "      <td>13800</td>\n",
       "      <td>0</td>\n",
       "    </tr>\n",
       "    <tr>\n",
       "      <th>59609</th>\n",
       "      <td>1.0</td>\n",
       "      <td>14247</td>\n",
       "      <td>38020</td>\n",
       "      <td>NaN</td>\n",
       "      <td>NaN</td>\n",
       "      <td>NaN</td>\n",
       "      <td>NaN</td>\n",
       "      <td>2</td>\n",
       "      <td>C</td>\n",
       "      <td>Urban</td>\n",
       "      <td>3300</td>\n",
       "      <td>1</td>\n",
       "    </tr>\n",
       "    <tr>\n",
       "      <th>37497</th>\n",
       "      <td>1.0</td>\n",
       "      <td>10232</td>\n",
       "      <td>50070</td>\n",
       "      <td>NaN</td>\n",
       "      <td>NaN</td>\n",
       "      <td>NaN</td>\n",
       "      <td>NaN</td>\n",
       "      <td>2</td>\n",
       "      <td>A</td>\n",
       "      <td>Rural</td>\n",
       "      <td>5400</td>\n",
       "      <td>0</td>\n",
       "    </tr>\n",
       "    <tr>\n",
       "      <th>56259</th>\n",
       "      <td>1.0</td>\n",
       "      <td>18629</td>\n",
       "      <td>225040</td>\n",
       "      <td>NaN</td>\n",
       "      <td>NaN</td>\n",
       "      <td>NaN</td>\n",
       "      <td>NaN</td>\n",
       "      <td>2</td>\n",
       "      <td>A</td>\n",
       "      <td>Urban</td>\n",
       "      <td>1200</td>\n",
       "      <td>0</td>\n",
       "    </tr>\n",
       "    <tr>\n",
       "      <th>33874</th>\n",
       "      <td>1.0</td>\n",
       "      <td>8039</td>\n",
       "      <td>135080</td>\n",
       "      <td>NaN</td>\n",
       "      <td>NaN</td>\n",
       "      <td>NaN</td>\n",
       "      <td>NaN</td>\n",
       "      <td>2</td>\n",
       "      <td>A</td>\n",
       "      <td>Rural</td>\n",
       "      <td>11700</td>\n",
       "      <td>1</td>\n",
       "    </tr>\n",
       "    <tr>\n",
       "      <th>20431</th>\n",
       "      <td>1.0</td>\n",
       "      <td>9868</td>\n",
       "      <td>59620</td>\n",
       "      <td>NaN</td>\n",
       "      <td>NaN</td>\n",
       "      <td>NaN</td>\n",
       "      <td>NaN</td>\n",
       "      <td>2</td>\n",
       "      <td>A</td>\n",
       "      <td>Urban</td>\n",
       "      <td>3300</td>\n",
       "      <td>1</td>\n",
       "    </tr>\n",
       "    <tr>\n",
       "      <th>83766</th>\n",
       "      <td>1.0</td>\n",
       "      <td>16439</td>\n",
       "      <td>43300</td>\n",
       "      <td>NaN</td>\n",
       "      <td>NaN</td>\n",
       "      <td>NaN</td>\n",
       "      <td>99.34</td>\n",
       "      <td>2</td>\n",
       "      <td>A</td>\n",
       "      <td>Rural</td>\n",
       "      <td>1200</td>\n",
       "      <td>1</td>\n",
       "    </tr>\n",
       "    <tr>\n",
       "      <th>87053</th>\n",
       "      <td>1.0</td>\n",
       "      <td>23732</td>\n",
       "      <td>104350</td>\n",
       "      <td>NaN</td>\n",
       "      <td>NaN</td>\n",
       "      <td>NaN</td>\n",
       "      <td>99.84</td>\n",
       "      <td>2</td>\n",
       "      <td>B</td>\n",
       "      <td>Urban</td>\n",
       "      <td>5400</td>\n",
       "      <td>0</td>\n",
       "    </tr>\n",
       "    <tr>\n",
       "      <th>41715</th>\n",
       "      <td>1.0</td>\n",
       "      <td>7679</td>\n",
       "      <td>42030</td>\n",
       "      <td>NaN</td>\n",
       "      <td>NaN</td>\n",
       "      <td>NaN</td>\n",
       "      <td>NaN</td>\n",
       "      <td>2</td>\n",
       "      <td>A</td>\n",
       "      <td>Urban</td>\n",
       "      <td>1200</td>\n",
       "      <td>0</td>\n",
       "    </tr>\n",
       "    <tr>\n",
       "      <th>112528</th>\n",
       "      <td>1.0</td>\n",
       "      <td>9868</td>\n",
       "      <td>90120</td>\n",
       "      <td>NaN</td>\n",
       "      <td>NaN</td>\n",
       "      <td>NaN</td>\n",
       "      <td>NaN</td>\n",
       "      <td>2</td>\n",
       "      <td>A</td>\n",
       "      <td>Urban</td>\n",
       "      <td>3300</td>\n",
       "      <td>1</td>\n",
       "    </tr>\n",
       "    <tr>\n",
       "      <th>18953</th>\n",
       "      <td>1.0</td>\n",
       "      <td>9132</td>\n",
       "      <td>66030</td>\n",
       "      <td>NaN</td>\n",
       "      <td>NaN</td>\n",
       "      <td>NaN</td>\n",
       "      <td>NaN</td>\n",
       "      <td>2</td>\n",
       "      <td>A</td>\n",
       "      <td>Rural</td>\n",
       "      <td>3300</td>\n",
       "      <td>0</td>\n",
       "    </tr>\n",
       "    <tr>\n",
       "      <th>127</th>\n",
       "      <td>1.0</td>\n",
       "      <td>11329</td>\n",
       "      <td>66140</td>\n",
       "      <td>NaN</td>\n",
       "      <td>NaN</td>\n",
       "      <td>NaN</td>\n",
       "      <td>NaN</td>\n",
       "      <td>2</td>\n",
       "      <td>D</td>\n",
       "      <td>Rural</td>\n",
       "      <td>7500</td>\n",
       "      <td>0</td>\n",
       "    </tr>\n",
       "    <tr>\n",
       "      <th>16965</th>\n",
       "      <td>1.0</td>\n",
       "      <td>10595</td>\n",
       "      <td>84130</td>\n",
       "      <td>NaN</td>\n",
       "      <td>NaN</td>\n",
       "      <td>NaN</td>\n",
       "      <td>NaN</td>\n",
       "      <td>2</td>\n",
       "      <td>C</td>\n",
       "      <td>Urban</td>\n",
       "      <td>5400</td>\n",
       "      <td>0</td>\n",
       "    </tr>\n",
       "    <tr>\n",
       "      <th>42642</th>\n",
       "      <td>1.0</td>\n",
       "      <td>16072</td>\n",
       "      <td>87530</td>\n",
       "      <td>NaN</td>\n",
       "      <td>NaN</td>\n",
       "      <td>NaN</td>\n",
       "      <td>99.81</td>\n",
       "      <td>2</td>\n",
       "      <td>C</td>\n",
       "      <td>Urban</td>\n",
       "      <td>5400</td>\n",
       "      <td>0</td>\n",
       "    </tr>\n",
       "    <tr>\n",
       "      <th>69623</th>\n",
       "      <td>1.0</td>\n",
       "      <td>16802</td>\n",
       "      <td>138510</td>\n",
       "      <td>NaN</td>\n",
       "      <td>NaN</td>\n",
       "      <td>NaN</td>\n",
       "      <td>99.78</td>\n",
       "      <td>2</td>\n",
       "      <td>A</td>\n",
       "      <td>Urban</td>\n",
       "      <td>9600</td>\n",
       "      <td>1</td>\n",
       "    </tr>\n",
       "    <tr>\n",
       "      <th>60112</th>\n",
       "      <td>1.0</td>\n",
       "      <td>8036</td>\n",
       "      <td>24130</td>\n",
       "      <td>NaN</td>\n",
       "      <td>NaN</td>\n",
       "      <td>NaN</td>\n",
       "      <td>NaN</td>\n",
       "      <td>2</td>\n",
       "      <td>A</td>\n",
       "      <td>Urban</td>\n",
       "      <td>1200</td>\n",
       "      <td>0</td>\n",
       "    </tr>\n",
       "    <tr>\n",
       "      <th>67466</th>\n",
       "      <td>1.0</td>\n",
       "      <td>7679</td>\n",
       "      <td>69070</td>\n",
       "      <td>NaN</td>\n",
       "      <td>NaN</td>\n",
       "      <td>NaN</td>\n",
       "      <td>NaN</td>\n",
       "      <td>2</td>\n",
       "      <td>A</td>\n",
       "      <td>Urban</td>\n",
       "      <td>5700</td>\n",
       "      <td>0</td>\n",
       "    </tr>\n",
       "    <tr>\n",
       "      <th>12484</th>\n",
       "      <td>1.0</td>\n",
       "      <td>18627</td>\n",
       "      <td>225120</td>\n",
       "      <td>NaN</td>\n",
       "      <td>NaN</td>\n",
       "      <td>NaN</td>\n",
       "      <td>NaN</td>\n",
       "      <td>2</td>\n",
       "      <td>B</td>\n",
       "      <td>Urban</td>\n",
       "      <td>9600</td>\n",
       "      <td>1</td>\n",
       "    </tr>\n",
       "    <tr>\n",
       "      <th>103531</th>\n",
       "      <td>1.0</td>\n",
       "      <td>10956</td>\n",
       "      <td>24040</td>\n",
       "      <td>NaN</td>\n",
       "      <td>NaN</td>\n",
       "      <td>NaN</td>\n",
       "      <td>NaN</td>\n",
       "      <td>2</td>\n",
       "      <td>A</td>\n",
       "      <td>Rural</td>\n",
       "      <td>5700</td>\n",
       "      <td>0</td>\n",
       "    </tr>\n",
       "    <tr>\n",
       "      <th>53006</th>\n",
       "      <td>1.0</td>\n",
       "      <td>22635</td>\n",
       "      <td>72120</td>\n",
       "      <td>NaN</td>\n",
       "      <td>NaN</td>\n",
       "      <td>NaN</td>\n",
       "      <td>NaN</td>\n",
       "      <td>2</td>\n",
       "      <td>A</td>\n",
       "      <td>Urban</td>\n",
       "      <td>3300</td>\n",
       "      <td>0</td>\n",
       "    </tr>\n",
       "    <tr>\n",
       "      <th>41527</th>\n",
       "      <td>1.0</td>\n",
       "      <td>28849</td>\n",
       "      <td>33810</td>\n",
       "      <td>NaN</td>\n",
       "      <td>NaN</td>\n",
       "      <td>NaN</td>\n",
       "      <td>99.89</td>\n",
       "      <td>2</td>\n",
       "      <td>A</td>\n",
       "      <td>Rural</td>\n",
       "      <td>1200</td>\n",
       "      <td>0</td>\n",
       "    </tr>\n",
       "    <tr>\n",
       "      <th>14410</th>\n",
       "      <td>1.0</td>\n",
       "      <td>10226</td>\n",
       "      <td>65260</td>\n",
       "      <td>NaN</td>\n",
       "      <td>NaN</td>\n",
       "      <td>NaN</td>\n",
       "      <td>NaN</td>\n",
       "      <td>2</td>\n",
       "      <td>A</td>\n",
       "      <td>Urban</td>\n",
       "      <td>1200</td>\n",
       "      <td>1</td>\n",
       "    </tr>\n",
       "    <tr>\n",
       "      <th>11501</th>\n",
       "      <td>1.0</td>\n",
       "      <td>17528</td>\n",
       "      <td>120150</td>\n",
       "      <td>NaN</td>\n",
       "      <td>NaN</td>\n",
       "      <td>NaN</td>\n",
       "      <td>NaN</td>\n",
       "      <td>2</td>\n",
       "      <td>B</td>\n",
       "      <td>Rural</td>\n",
       "      <td>9600</td>\n",
       "      <td>1</td>\n",
       "    </tr>\n",
       "    <tr>\n",
       "      <th>50034</th>\n",
       "      <td>1.0</td>\n",
       "      <td>21185</td>\n",
       "      <td>75130</td>\n",
       "      <td>NaN</td>\n",
       "      <td>NaN</td>\n",
       "      <td>NaN</td>\n",
       "      <td>NaN</td>\n",
       "      <td>2</td>\n",
       "      <td>A</td>\n",
       "      <td>Urban</td>\n",
       "      <td>5700</td>\n",
       "      <td>0</td>\n",
       "    </tr>\n",
       "    <tr>\n",
       "      <th>90142</th>\n",
       "      <td>1.0</td>\n",
       "      <td>12052</td>\n",
       "      <td>76060</td>\n",
       "      <td>NaN</td>\n",
       "      <td>NaN</td>\n",
       "      <td>NaN</td>\n",
       "      <td>NaN</td>\n",
       "      <td>2</td>\n",
       "      <td>A</td>\n",
       "      <td>Urban</td>\n",
       "      <td>7500</td>\n",
       "      <td>1</td>\n",
       "    </tr>\n",
       "    <tr>\n",
       "      <th>52201</th>\n",
       "      <td>1.0</td>\n",
       "      <td>7672</td>\n",
       "      <td>106410</td>\n",
       "      <td>NaN</td>\n",
       "      <td>NaN</td>\n",
       "      <td>NaN</td>\n",
       "      <td>NaN</td>\n",
       "      <td>2</td>\n",
       "      <td>A</td>\n",
       "      <td>Urban</td>\n",
       "      <td>5400</td>\n",
       "      <td>0</td>\n",
       "    </tr>\n",
       "    <tr>\n",
       "      <th>78128</th>\n",
       "      <td>1.0</td>\n",
       "      <td>13155</td>\n",
       "      <td>98400</td>\n",
       "      <td>NaN</td>\n",
       "      <td>NaN</td>\n",
       "      <td>NaN</td>\n",
       "      <td>99.88</td>\n",
       "      <td>2</td>\n",
       "      <td>C</td>\n",
       "      <td>Urban</td>\n",
       "      <td>5400</td>\n",
       "      <td>0</td>\n",
       "    </tr>\n",
       "    <tr>\n",
       "      <th>68733</th>\n",
       "      <td>1.0</td>\n",
       "      <td>9498</td>\n",
       "      <td>69240</td>\n",
       "      <td>NaN</td>\n",
       "      <td>NaN</td>\n",
       "      <td>NaN</td>\n",
       "      <td>NaN</td>\n",
       "      <td>2</td>\n",
       "      <td>A</td>\n",
       "      <td>Rural</td>\n",
       "      <td>1200</td>\n",
       "      <td>1</td>\n",
       "    </tr>\n",
       "    <tr>\n",
       "      <th>7743</th>\n",
       "      <td>1.0</td>\n",
       "      <td>10227</td>\n",
       "      <td>37410</td>\n",
       "      <td>NaN</td>\n",
       "      <td>NaN</td>\n",
       "      <td>NaN</td>\n",
       "      <td>99.82</td>\n",
       "      <td>2</td>\n",
       "      <td>A</td>\n",
       "      <td>Rural</td>\n",
       "      <td>5700</td>\n",
       "      <td>0</td>\n",
       "    </tr>\n",
       "    <tr>\n",
       "      <th>90188</th>\n",
       "      <td>1.0</td>\n",
       "      <td>15702</td>\n",
       "      <td>60150</td>\n",
       "      <td>NaN</td>\n",
       "      <td>NaN</td>\n",
       "      <td>NaN</td>\n",
       "      <td>NaN</td>\n",
       "      <td>2</td>\n",
       "      <td>B</td>\n",
       "      <td>Urban</td>\n",
       "      <td>1200</td>\n",
       "      <td>1</td>\n",
       "    </tr>\n",
       "    <tr>\n",
       "      <th>103592</th>\n",
       "      <td>1.0</td>\n",
       "      <td>9861</td>\n",
       "      <td>235300</td>\n",
       "      <td>NaN</td>\n",
       "      <td>NaN</td>\n",
       "      <td>NaN</td>\n",
       "      <td>NaN</td>\n",
       "      <td>2</td>\n",
       "      <td>A</td>\n",
       "      <td>Rural</td>\n",
       "      <td>22200</td>\n",
       "      <td>0</td>\n",
       "    </tr>\n",
       "    <tr>\n",
       "      <th>101949</th>\n",
       "      <td>1.0</td>\n",
       "      <td>18993</td>\n",
       "      <td>111100</td>\n",
       "      <td>NaN</td>\n",
       "      <td>NaN</td>\n",
       "      <td>NaN</td>\n",
       "      <td>NaN</td>\n",
       "      <td>2</td>\n",
       "      <td>A</td>\n",
       "      <td>Urban</td>\n",
       "      <td>5400</td>\n",
       "      <td>1</td>\n",
       "    </tr>\n",
       "    <tr>\n",
       "      <th>58415</th>\n",
       "      <td>1.0</td>\n",
       "      <td>12785</td>\n",
       "      <td>51050</td>\n",
       "      <td>NaN</td>\n",
       "      <td>NaN</td>\n",
       "      <td>NaN</td>\n",
       "      <td>NaN</td>\n",
       "      <td>3</td>\n",
       "      <td>B</td>\n",
       "      <td>Urban</td>\n",
       "      <td>1200</td>\n",
       "      <td>1</td>\n",
       "    </tr>\n",
       "    <tr>\n",
       "      <th>32002</th>\n",
       "      <td>1.0</td>\n",
       "      <td>9504</td>\n",
       "      <td>46640</td>\n",
       "      <td>NaN</td>\n",
       "      <td>NaN</td>\n",
       "      <td>NaN</td>\n",
       "      <td>NaN</td>\n",
       "      <td>2</td>\n",
       "      <td>A</td>\n",
       "      <td>Urban</td>\n",
       "      <td>3300</td>\n",
       "      <td>0</td>\n",
       "    </tr>\n",
       "    <tr>\n",
       "      <th>108716</th>\n",
       "      <td>1.0</td>\n",
       "      <td>20818</td>\n",
       "      <td>90690</td>\n",
       "      <td>NaN</td>\n",
       "      <td>NaN</td>\n",
       "      <td>NaN</td>\n",
       "      <td>99.85</td>\n",
       "      <td>2</td>\n",
       "      <td>A</td>\n",
       "      <td>Urban</td>\n",
       "      <td>5400</td>\n",
       "      <td>0</td>\n",
       "    </tr>\n",
       "    <tr>\n",
       "      <th>13187</th>\n",
       "      <td>1.0</td>\n",
       "      <td>14974</td>\n",
       "      <td>69060</td>\n",
       "      <td>NaN</td>\n",
       "      <td>NaN</td>\n",
       "      <td>NaN</td>\n",
       "      <td>NaN</td>\n",
       "      <td>2</td>\n",
       "      <td>B</td>\n",
       "      <td>Urban</td>\n",
       "      <td>5700</td>\n",
       "      <td>0</td>\n",
       "    </tr>\n",
       "    <tr>\n",
       "      <th>34678</th>\n",
       "      <td>1.0</td>\n",
       "      <td>9865</td>\n",
       "      <td>54720</td>\n",
       "      <td>NaN</td>\n",
       "      <td>NaN</td>\n",
       "      <td>NaN</td>\n",
       "      <td>NaN</td>\n",
       "      <td>2</td>\n",
       "      <td>C</td>\n",
       "      <td>Urban</td>\n",
       "      <td>3300</td>\n",
       "      <td>1</td>\n",
       "    </tr>\n",
       "    <tr>\n",
       "      <th>48176</th>\n",
       "      <td>1.0</td>\n",
       "      <td>21911</td>\n",
       "      <td>41280</td>\n",
       "      <td>NaN</td>\n",
       "      <td>NaN</td>\n",
       "      <td>NaN</td>\n",
       "      <td>NaN</td>\n",
       "      <td>2</td>\n",
       "      <td>A</td>\n",
       "      <td>Urban</td>\n",
       "      <td>5400</td>\n",
       "      <td>0</td>\n",
       "    </tr>\n",
       "    <tr>\n",
       "      <th>91238</th>\n",
       "      <td>1.0</td>\n",
       "      <td>18992</td>\n",
       "      <td>90070</td>\n",
       "      <td>NaN</td>\n",
       "      <td>NaN</td>\n",
       "      <td>NaN</td>\n",
       "      <td>NaN</td>\n",
       "      <td>2</td>\n",
       "      <td>A</td>\n",
       "      <td>Urban</td>\n",
       "      <td>3300</td>\n",
       "      <td>1</td>\n",
       "    </tr>\n",
       "    <tr>\n",
       "      <th>13853</th>\n",
       "      <td>1.0</td>\n",
       "      <td>23738</td>\n",
       "      <td>54150</td>\n",
       "      <td>NaN</td>\n",
       "      <td>NaN</td>\n",
       "      <td>NaN</td>\n",
       "      <td>99.87</td>\n",
       "      <td>2</td>\n",
       "      <td>A</td>\n",
       "      <td>Urban</td>\n",
       "      <td>5700</td>\n",
       "      <td>0</td>\n",
       "    </tr>\n",
       "    <tr>\n",
       "      <th>95579</th>\n",
       "      <td>1.0</td>\n",
       "      <td>20810</td>\n",
       "      <td>75130</td>\n",
       "      <td>NaN</td>\n",
       "      <td>NaN</td>\n",
       "      <td>NaN</td>\n",
       "      <td>NaN</td>\n",
       "      <td>2</td>\n",
       "      <td>B</td>\n",
       "      <td>Urban</td>\n",
       "      <td>5400</td>\n",
       "      <td>0</td>\n",
       "    </tr>\n",
       "    <tr>\n",
       "      <th>80448</th>\n",
       "      <td>1.0</td>\n",
       "      <td>18262</td>\n",
       "      <td>862060</td>\n",
       "      <td>NaN</td>\n",
       "      <td>NaN</td>\n",
       "      <td>NaN</td>\n",
       "      <td>NaN</td>\n",
       "      <td>2</td>\n",
       "      <td>D</td>\n",
       "      <td>Rural</td>\n",
       "      <td>47400</td>\n",
       "      <td>1</td>\n",
       "    </tr>\n",
       "    <tr>\n",
       "      <th>10830</th>\n",
       "      <td>1.0</td>\n",
       "      <td>12060</td>\n",
       "      <td>100620</td>\n",
       "      <td>NaN</td>\n",
       "      <td>NaN</td>\n",
       "      <td>NaN</td>\n",
       "      <td>NaN</td>\n",
       "      <td>2</td>\n",
       "      <td>B</td>\n",
       "      <td>Rural</td>\n",
       "      <td>5400</td>\n",
       "      <td>0</td>\n",
       "    </tr>\n",
       "    <tr>\n",
       "      <th>13518</th>\n",
       "      <td>1.0</td>\n",
       "      <td>7675</td>\n",
       "      <td>60060</td>\n",
       "      <td>NaN</td>\n",
       "      <td>NaN</td>\n",
       "      <td>NaN</td>\n",
       "      <td>NaN</td>\n",
       "      <td>2</td>\n",
       "      <td>A</td>\n",
       "      <td>Rural</td>\n",
       "      <td>1200</td>\n",
       "      <td>1</td>\n",
       "    </tr>\n",
       "    <tr>\n",
       "      <th>64623</th>\n",
       "      <td>1.0</td>\n",
       "      <td>7678</td>\n",
       "      <td>40450</td>\n",
       "      <td>NaN</td>\n",
       "      <td>NaN</td>\n",
       "      <td>NaN</td>\n",
       "      <td>NaN</td>\n",
       "      <td>2</td>\n",
       "      <td>A</td>\n",
       "      <td>Urban</td>\n",
       "      <td>1200</td>\n",
       "      <td>1</td>\n",
       "    </tr>\n",
       "    <tr>\n",
       "      <th>31341</th>\n",
       "      <td>1.0</td>\n",
       "      <td>12056</td>\n",
       "      <td>45060</td>\n",
       "      <td>NaN</td>\n",
       "      <td>NaN</td>\n",
       "      <td>NaN</td>\n",
       "      <td>NaN</td>\n",
       "      <td>2</td>\n",
       "      <td>A</td>\n",
       "      <td>Rural</td>\n",
       "      <td>3300</td>\n",
       "      <td>1</td>\n",
       "    </tr>\n",
       "    <tr>\n",
       "      <th>81350</th>\n",
       "      <td>1.0</td>\n",
       "      <td>16801</td>\n",
       "      <td>56510</td>\n",
       "      <td>NaN</td>\n",
       "      <td>NaN</td>\n",
       "      <td>NaN</td>\n",
       "      <td>NaN</td>\n",
       "      <td>2</td>\n",
       "      <td>B</td>\n",
       "      <td>Urban</td>\n",
       "      <td>1200</td>\n",
       "      <td>1</td>\n",
       "    </tr>\n",
       "    <tr>\n",
       "      <th>102893</th>\n",
       "      <td>1.0</td>\n",
       "      <td>12416</td>\n",
       "      <td>105040</td>\n",
       "      <td>NaN</td>\n",
       "      <td>NaN</td>\n",
       "      <td>NaN</td>\n",
       "      <td>NaN</td>\n",
       "      <td>2</td>\n",
       "      <td>B</td>\n",
       "      <td>Urban</td>\n",
       "      <td>7500</td>\n",
       "      <td>0</td>\n",
       "    </tr>\n",
       "    <tr>\n",
       "      <th>92167</th>\n",
       "      <td>1.0</td>\n",
       "      <td>9130</td>\n",
       "      <td>58810</td>\n",
       "      <td>NaN</td>\n",
       "      <td>NaN</td>\n",
       "      <td>NaN</td>\n",
       "      <td>NaN</td>\n",
       "      <td>2</td>\n",
       "      <td>A</td>\n",
       "      <td>Urban</td>\n",
       "      <td>3300</td>\n",
       "      <td>1</td>\n",
       "    </tr>\n",
       "    <tr>\n",
       "      <th>52553</th>\n",
       "      <td>1.0</td>\n",
       "      <td>10961</td>\n",
       "      <td>36100</td>\n",
       "      <td>NaN</td>\n",
       "      <td>NaN</td>\n",
       "      <td>NaN</td>\n",
       "      <td>99.84</td>\n",
       "      <td>2</td>\n",
       "      <td>A</td>\n",
       "      <td>Rural</td>\n",
       "      <td>3300</td>\n",
       "      <td>0</td>\n",
       "    </tr>\n",
       "    <tr>\n",
       "      <th>31126</th>\n",
       "      <td>1.0</td>\n",
       "      <td>15341</td>\n",
       "      <td>96110</td>\n",
       "      <td>NaN</td>\n",
       "      <td>NaN</td>\n",
       "      <td>NaN</td>\n",
       "      <td>NaN</td>\n",
       "      <td>2</td>\n",
       "      <td>B</td>\n",
       "      <td>Urban</td>\n",
       "      <td>5400</td>\n",
       "      <td>0</td>\n",
       "    </tr>\n",
       "    <tr>\n",
       "      <th>80765</th>\n",
       "      <td>1.0</td>\n",
       "      <td>12055</td>\n",
       "      <td>123090</td>\n",
       "      <td>NaN</td>\n",
       "      <td>NaN</td>\n",
       "      <td>NaN</td>\n",
       "      <td>99.88</td>\n",
       "      <td>2</td>\n",
       "      <td>A</td>\n",
       "      <td>Urban</td>\n",
       "      <td>7500</td>\n",
       "      <td>0</td>\n",
       "    </tr>\n",
       "    <tr>\n",
       "      <th>96319</th>\n",
       "      <td>1.0</td>\n",
       "      <td>9869</td>\n",
       "      <td>60040</td>\n",
       "      <td>NaN</td>\n",
       "      <td>NaN</td>\n",
       "      <td>NaN</td>\n",
       "      <td>99.86</td>\n",
       "      <td>2</td>\n",
       "      <td>D</td>\n",
       "      <td>Urban</td>\n",
       "      <td>3300</td>\n",
       "      <td>0</td>\n",
       "    </tr>\n",
       "    <tr>\n",
       "      <th>80463</th>\n",
       "      <td>1.0</td>\n",
       "      <td>10592</td>\n",
       "      <td>55690</td>\n",
       "      <td>NaN</td>\n",
       "      <td>NaN</td>\n",
       "      <td>NaN</td>\n",
       "      <td>NaN</td>\n",
       "      <td>2</td>\n",
       "      <td>A</td>\n",
       "      <td>Urban</td>\n",
       "      <td>3300</td>\n",
       "      <td>1</td>\n",
       "    </tr>\n",
       "    <tr>\n",
       "      <th>57018</th>\n",
       "      <td>1.0</td>\n",
       "      <td>10234</td>\n",
       "      <td>49840</td>\n",
       "      <td>NaN</td>\n",
       "      <td>NaN</td>\n",
       "      <td>NaN</td>\n",
       "      <td>99.86</td>\n",
       "      <td>2</td>\n",
       "      <td>B</td>\n",
       "      <td>Rural</td>\n",
       "      <td>3300</td>\n",
       "      <td>1</td>\n",
       "    </tr>\n",
       "    <tr>\n",
       "      <th>15406</th>\n",
       "      <td>1.0</td>\n",
       "      <td>8400</td>\n",
       "      <td>65130</td>\n",
       "      <td>NaN</td>\n",
       "      <td>NaN</td>\n",
       "      <td>NaN</td>\n",
       "      <td>99.88</td>\n",
       "      <td>2</td>\n",
       "      <td>A</td>\n",
       "      <td>Rural</td>\n",
       "      <td>1200</td>\n",
       "      <td>0</td>\n",
       "    </tr>\n",
       "    <tr>\n",
       "      <th>83531</th>\n",
       "      <td>1.0</td>\n",
       "      <td>9138</td>\n",
       "      <td>100850</td>\n",
       "      <td>NaN</td>\n",
       "      <td>NaN</td>\n",
       "      <td>NaN</td>\n",
       "      <td>NaN</td>\n",
       "      <td>2</td>\n",
       "      <td>A</td>\n",
       "      <td>Rural</td>\n",
       "      <td>9600</td>\n",
       "      <td>0</td>\n",
       "    </tr>\n",
       "    <tr>\n",
       "      <th>109313</th>\n",
       "      <td>1.0</td>\n",
       "      <td>15702</td>\n",
       "      <td>69910</td>\n",
       "      <td>NaN</td>\n",
       "      <td>NaN</td>\n",
       "      <td>NaN</td>\n",
       "      <td>NaN</td>\n",
       "      <td>2</td>\n",
       "      <td>C</td>\n",
       "      <td>Urban</td>\n",
       "      <td>5700</td>\n",
       "      <td>0</td>\n",
       "    </tr>\n",
       "    <tr>\n",
       "      <th>80011</th>\n",
       "      <td>1.0</td>\n",
       "      <td>8042</td>\n",
       "      <td>59270</td>\n",
       "      <td>NaN</td>\n",
       "      <td>NaN</td>\n",
       "      <td>NaN</td>\n",
       "      <td>NaN</td>\n",
       "      <td>2</td>\n",
       "      <td>A</td>\n",
       "      <td>Rural</td>\n",
       "      <td>3300</td>\n",
       "      <td>1</td>\n",
       "    </tr>\n",
       "    <tr>\n",
       "      <th>23425</th>\n",
       "      <td>1.0</td>\n",
       "      <td>12785</td>\n",
       "      <td>67540</td>\n",
       "      <td>NaN</td>\n",
       "      <td>NaN</td>\n",
       "      <td>NaN</td>\n",
       "      <td>NaN</td>\n",
       "      <td>2</td>\n",
       "      <td>C</td>\n",
       "      <td>Urban</td>\n",
       "      <td>1200</td>\n",
       "      <td>0</td>\n",
       "    </tr>\n",
       "    <tr>\n",
       "      <th>109371</th>\n",
       "      <td>1.0</td>\n",
       "      <td>8772</td>\n",
       "      <td>31380</td>\n",
       "      <td>NaN</td>\n",
       "      <td>NaN</td>\n",
       "      <td>NaN</td>\n",
       "      <td>NaN</td>\n",
       "      <td>2</td>\n",
       "      <td>A</td>\n",
       "      <td>Urban</td>\n",
       "      <td>1200</td>\n",
       "      <td>1</td>\n",
       "    </tr>\n",
       "    <tr>\n",
       "      <th>33013</th>\n",
       "      <td>1.0</td>\n",
       "      <td>8407</td>\n",
       "      <td>90060</td>\n",
       "      <td>NaN</td>\n",
       "      <td>NaN</td>\n",
       "      <td>NaN</td>\n",
       "      <td>99.88</td>\n",
       "      <td>2</td>\n",
       "      <td>A</td>\n",
       "      <td>Urban</td>\n",
       "      <td>5400</td>\n",
       "      <td>0</td>\n",
       "    </tr>\n",
       "    <tr>\n",
       "      <th>109871</th>\n",
       "      <td>1.0</td>\n",
       "      <td>9866</td>\n",
       "      <td>81120</td>\n",
       "      <td>NaN</td>\n",
       "      <td>NaN</td>\n",
       "      <td>NaN</td>\n",
       "      <td>NaN</td>\n",
       "      <td>2</td>\n",
       "      <td>A</td>\n",
       "      <td>Urban</td>\n",
       "      <td>1200</td>\n",
       "      <td>0</td>\n",
       "    </tr>\n",
       "    <tr>\n",
       "      <th>50356</th>\n",
       "      <td>1.0</td>\n",
       "      <td>16431</td>\n",
       "      <td>108030</td>\n",
       "      <td>NaN</td>\n",
       "      <td>NaN</td>\n",
       "      <td>NaN</td>\n",
       "      <td>NaN</td>\n",
       "      <td>2</td>\n",
       "      <td>A</td>\n",
       "      <td>Urban</td>\n",
       "      <td>7500</td>\n",
       "      <td>0</td>\n",
       "    </tr>\n",
       "    <tr>\n",
       "      <th>90421</th>\n",
       "      <td>1.0</td>\n",
       "      <td>10232</td>\n",
       "      <td>42150</td>\n",
       "      <td>NaN</td>\n",
       "      <td>NaN</td>\n",
       "      <td>NaN</td>\n",
       "      <td>NaN</td>\n",
       "      <td>2</td>\n",
       "      <td>A</td>\n",
       "      <td>Rural</td>\n",
       "      <td>1200</td>\n",
       "      <td>1</td>\n",
       "    </tr>\n",
       "    <tr>\n",
       "      <th>57976</th>\n",
       "      <td>1.0</td>\n",
       "      <td>14607</td>\n",
       "      <td>98730</td>\n",
       "      <td>NaN</td>\n",
       "      <td>NaN</td>\n",
       "      <td>NaN</td>\n",
       "      <td>99.87</td>\n",
       "      <td>2</td>\n",
       "      <td>D</td>\n",
       "      <td>Rural</td>\n",
       "      <td>9600</td>\n",
       "      <td>0</td>\n",
       "    </tr>\n",
       "    <tr>\n",
       "      <th>66964</th>\n",
       "      <td>1.0</td>\n",
       "      <td>21545</td>\n",
       "      <td>65530</td>\n",
       "      <td>NaN</td>\n",
       "      <td>NaN</td>\n",
       "      <td>NaN</td>\n",
       "      <td>NaN</td>\n",
       "      <td>2</td>\n",
       "      <td>A</td>\n",
       "      <td>Rural</td>\n",
       "      <td>1200</td>\n",
       "      <td>0</td>\n",
       "    </tr>\n",
       "    <tr>\n",
       "      <th>14842</th>\n",
       "      <td>1.0</td>\n",
       "      <td>9139</td>\n",
       "      <td>57530</td>\n",
       "      <td>NaN</td>\n",
       "      <td>NaN</td>\n",
       "      <td>NaN</td>\n",
       "      <td>99.85</td>\n",
       "      <td>2</td>\n",
       "      <td>A</td>\n",
       "      <td>Rural</td>\n",
       "      <td>5400</td>\n",
       "      <td>1</td>\n",
       "    </tr>\n",
       "    <tr>\n",
       "      <th>101186</th>\n",
       "      <td>1.0</td>\n",
       "      <td>17897</td>\n",
       "      <td>62610</td>\n",
       "      <td>NaN</td>\n",
       "      <td>NaN</td>\n",
       "      <td>NaN</td>\n",
       "      <td>NaN</td>\n",
       "      <td>2</td>\n",
       "      <td>B</td>\n",
       "      <td>Urban</td>\n",
       "      <td>3300</td>\n",
       "      <td>1</td>\n",
       "    </tr>\n",
       "    <tr>\n",
       "      <th>20875</th>\n",
       "      <td>1.0</td>\n",
       "      <td>20082</td>\n",
       "      <td>78140</td>\n",
       "      <td>NaN</td>\n",
       "      <td>NaN</td>\n",
       "      <td>NaN</td>\n",
       "      <td>99.88</td>\n",
       "      <td>2</td>\n",
       "      <td>A</td>\n",
       "      <td>Urban</td>\n",
       "      <td>5400</td>\n",
       "      <td>0</td>\n",
       "    </tr>\n",
       "  </tbody>\n",
       "</table>\n",
       "</div>"
      ],
      "text/plain": [
       "        perc_premium_paid_by_cash_credit  age_in_days  Income  Count_3-6_months_late  Count_6-12_months_late  Count_more_than_12_months_late  application_underwriting_score  no_of_premiums_paid sourcing_channel residence_area_type  premium  renewal\n",
       "id                                                                                                                                                                                                                                                      \n",
       "73099                                1.0        15336  210100                    NaN                     NaN                             NaN                             NaN                    2                A               Urban     9600        0\n",
       "81690                                1.0         7679   39040                    NaN                     NaN                             NaN                             NaN                    2                A               Rural     1200        0\n",
       "49862                                1.0        10593   49520                    NaN                     NaN                             NaN                             NaN                    2                A               Rural     1200        0\n",
       "59                                   1.0        17891   90100                    NaN                     NaN                             NaN                             NaN                    2                A               Urban     5700        1\n",
       "19184                                1.0        18260   40530                    NaN                     NaN                             NaN                             NaN                    2                A               Rural     1200        0\n",
       "74860                                1.0        17535   36130                    NaN                     NaN                             NaN                             NaN                    2                A               Urban     5700        0\n",
       "61476                                1.0         9139   90090                    NaN                     NaN                             NaN                             NaN                    2                A               Urban     5400        1\n",
       "52266                                1.0         9501   30040                    NaN                     NaN                             NaN                             NaN                    2                A               Urban     1200        0\n",
       "14736                                1.0        14612  216650                    NaN                     NaN                             NaN                             NaN                    2                C               Rural     1200        1\n",
       "18097                                1.0         8409   84040                    NaN                     NaN                             NaN                             NaN                    2                A               Urban     3300        1\n",
       "3188                                 1.0         7680   26130                    NaN                     NaN                             NaN                             NaN                    2                A               Urban     3300        1\n",
       "84203                                1.0        19724   60100                    NaN                     NaN                             NaN                           99.87                    2                A               Urban     5400        0\n",
       "39915                                1.0        21185   39040                    NaN                     NaN                             NaN                           99.73                    2                C               Urban     3300        0\n",
       "25729                                1.0         9133  119790                    NaN                     NaN                             NaN                             NaN                    2                C               Urban     5400        0\n",
       "93120                                1.0        12418   96040                    NaN                     NaN                             NaN                           99.87                    2                A               Urban     5400        1\n",
       "79385                                1.0         9498   60130                    NaN                     NaN                             NaN                             NaN                    2                A               Urban     7500        1\n",
       "67121                                1.0        18621   24080                    NaN                     NaN                             NaN                             NaN                    2                A               Urban     5700        0\n",
       "21148                                1.0        12785   90030                    NaN                     NaN                             NaN                           99.88                    2                A               Rural     3300        0\n",
       "74334                                1.0        21908   51130                    NaN                     NaN                             NaN                           99.80                    2                A               Urban     3300        1\n",
       "69950                                1.0        23005   29640                    NaN                     NaN                             NaN                             NaN                    2                A               Urban     3300        0\n",
       "31769                                1.0        13514   95050                    NaN                     NaN                             NaN                           99.88                    2                A               Urban     9600        0\n",
       "105570                               1.0        21911   27960                    NaN                     NaN                             NaN                             NaN                    2                A               Urban     1200        0\n",
       "48518                                1.0        12059  123120                    NaN                     NaN                             NaN                             NaN                    2                B               Rural     9600        0\n",
       "72114                                1.0        14248   66130                    NaN                     NaN                             NaN                             NaN                    2                B               Urban     3300        0\n",
       "51110                                1.0        12417   94410                    NaN                     NaN                             NaN                             NaN                    2                C               Urban     9600        0\n",
       "26382                                1.0        16072  108480                    NaN                     NaN                             NaN                             NaN                    2                C               Urban     3300        0\n",
       "15150                                1.0        13517  180030                    NaN                     NaN                             NaN                             NaN                    2                B               Urban     9600        0\n",
       "68994                                1.0        16065  188630                    NaN                     NaN                             NaN                             NaN                    3                C               Urban    13800        0\n",
       "59609                                1.0        14247   38020                    NaN                     NaN                             NaN                             NaN                    2                C               Urban     3300        1\n",
       "37497                                1.0        10232   50070                    NaN                     NaN                             NaN                             NaN                    2                A               Rural     5400        0\n",
       "56259                                1.0        18629  225040                    NaN                     NaN                             NaN                             NaN                    2                A               Urban     1200        0\n",
       "33874                                1.0         8039  135080                    NaN                     NaN                             NaN                             NaN                    2                A               Rural    11700        1\n",
       "20431                                1.0         9868   59620                    NaN                     NaN                             NaN                             NaN                    2                A               Urban     3300        1\n",
       "83766                                1.0        16439   43300                    NaN                     NaN                             NaN                           99.34                    2                A               Rural     1200        1\n",
       "87053                                1.0        23732  104350                    NaN                     NaN                             NaN                           99.84                    2                B               Urban     5400        0\n",
       "41715                                1.0         7679   42030                    NaN                     NaN                             NaN                             NaN                    2                A               Urban     1200        0\n",
       "112528                               1.0         9868   90120                    NaN                     NaN                             NaN                             NaN                    2                A               Urban     3300        1\n",
       "18953                                1.0         9132   66030                    NaN                     NaN                             NaN                             NaN                    2                A               Rural     3300        0\n",
       "127                                  1.0        11329   66140                    NaN                     NaN                             NaN                             NaN                    2                D               Rural     7500        0\n",
       "16965                                1.0        10595   84130                    NaN                     NaN                             NaN                             NaN                    2                C               Urban     5400        0\n",
       "42642                                1.0        16072   87530                    NaN                     NaN                             NaN                           99.81                    2                C               Urban     5400        0\n",
       "69623                                1.0        16802  138510                    NaN                     NaN                             NaN                           99.78                    2                A               Urban     9600        1\n",
       "60112                                1.0         8036   24130                    NaN                     NaN                             NaN                             NaN                    2                A               Urban     1200        0\n",
       "67466                                1.0         7679   69070                    NaN                     NaN                             NaN                             NaN                    2                A               Urban     5700        0\n",
       "12484                                1.0        18627  225120                    NaN                     NaN                             NaN                             NaN                    2                B               Urban     9600        1\n",
       "103531                               1.0        10956   24040                    NaN                     NaN                             NaN                             NaN                    2                A               Rural     5700        0\n",
       "53006                                1.0        22635   72120                    NaN                     NaN                             NaN                             NaN                    2                A               Urban     3300        0\n",
       "41527                                1.0        28849   33810                    NaN                     NaN                             NaN                           99.89                    2                A               Rural     1200        0\n",
       "14410                                1.0        10226   65260                    NaN                     NaN                             NaN                             NaN                    2                A               Urban     1200        1\n",
       "11501                                1.0        17528  120150                    NaN                     NaN                             NaN                             NaN                    2                B               Rural     9600        1\n",
       "50034                                1.0        21185   75130                    NaN                     NaN                             NaN                             NaN                    2                A               Urban     5700        0\n",
       "90142                                1.0        12052   76060                    NaN                     NaN                             NaN                             NaN                    2                A               Urban     7500        1\n",
       "52201                                1.0         7672  106410                    NaN                     NaN                             NaN                             NaN                    2                A               Urban     5400        0\n",
       "78128                                1.0        13155   98400                    NaN                     NaN                             NaN                           99.88                    2                C               Urban     5400        0\n",
       "68733                                1.0         9498   69240                    NaN                     NaN                             NaN                             NaN                    2                A               Rural     1200        1\n",
       "7743                                 1.0        10227   37410                    NaN                     NaN                             NaN                           99.82                    2                A               Rural     5700        0\n",
       "90188                                1.0        15702   60150                    NaN                     NaN                             NaN                             NaN                    2                B               Urban     1200        1\n",
       "103592                               1.0         9861  235300                    NaN                     NaN                             NaN                             NaN                    2                A               Rural    22200        0\n",
       "101949                               1.0        18993  111100                    NaN                     NaN                             NaN                             NaN                    2                A               Urban     5400        1\n",
       "58415                                1.0        12785   51050                    NaN                     NaN                             NaN                             NaN                    3                B               Urban     1200        1\n",
       "32002                                1.0         9504   46640                    NaN                     NaN                             NaN                             NaN                    2                A               Urban     3300        0\n",
       "108716                               1.0        20818   90690                    NaN                     NaN                             NaN                           99.85                    2                A               Urban     5400        0\n",
       "13187                                1.0        14974   69060                    NaN                     NaN                             NaN                             NaN                    2                B               Urban     5700        0\n",
       "34678                                1.0         9865   54720                    NaN                     NaN                             NaN                             NaN                    2                C               Urban     3300        1\n",
       "48176                                1.0        21911   41280                    NaN                     NaN                             NaN                             NaN                    2                A               Urban     5400        0\n",
       "91238                                1.0        18992   90070                    NaN                     NaN                             NaN                             NaN                    2                A               Urban     3300        1\n",
       "13853                                1.0        23738   54150                    NaN                     NaN                             NaN                           99.87                    2                A               Urban     5700        0\n",
       "95579                                1.0        20810   75130                    NaN                     NaN                             NaN                             NaN                    2                B               Urban     5400        0\n",
       "80448                                1.0        18262  862060                    NaN                     NaN                             NaN                             NaN                    2                D               Rural    47400        1\n",
       "10830                                1.0        12060  100620                    NaN                     NaN                             NaN                             NaN                    2                B               Rural     5400        0\n",
       "13518                                1.0         7675   60060                    NaN                     NaN                             NaN                             NaN                    2                A               Rural     1200        1\n",
       "64623                                1.0         7678   40450                    NaN                     NaN                             NaN                             NaN                    2                A               Urban     1200        1\n",
       "31341                                1.0        12056   45060                    NaN                     NaN                             NaN                             NaN                    2                A               Rural     3300        1\n",
       "81350                                1.0        16801   56510                    NaN                     NaN                             NaN                             NaN                    2                B               Urban     1200        1\n",
       "102893                               1.0        12416  105040                    NaN                     NaN                             NaN                             NaN                    2                B               Urban     7500        0\n",
       "92167                                1.0         9130   58810                    NaN                     NaN                             NaN                             NaN                    2                A               Urban     3300        1\n",
       "52553                                1.0        10961   36100                    NaN                     NaN                             NaN                           99.84                    2                A               Rural     3300        0\n",
       "31126                                1.0        15341   96110                    NaN                     NaN                             NaN                             NaN                    2                B               Urban     5400        0\n",
       "80765                                1.0        12055  123090                    NaN                     NaN                             NaN                           99.88                    2                A               Urban     7500        0\n",
       "96319                                1.0         9869   60040                    NaN                     NaN                             NaN                           99.86                    2                D               Urban     3300        0\n",
       "80463                                1.0        10592   55690                    NaN                     NaN                             NaN                             NaN                    2                A               Urban     3300        1\n",
       "57018                                1.0        10234   49840                    NaN                     NaN                             NaN                           99.86                    2                B               Rural     3300        1\n",
       "15406                                1.0         8400   65130                    NaN                     NaN                             NaN                           99.88                    2                A               Rural     1200        0\n",
       "83531                                1.0         9138  100850                    NaN                     NaN                             NaN                             NaN                    2                A               Rural     9600        0\n",
       "109313                               1.0        15702   69910                    NaN                     NaN                             NaN                             NaN                    2                C               Urban     5700        0\n",
       "80011                                1.0         8042   59270                    NaN                     NaN                             NaN                             NaN                    2                A               Rural     3300        1\n",
       "23425                                1.0        12785   67540                    NaN                     NaN                             NaN                             NaN                    2                C               Urban     1200        0\n",
       "109371                               1.0         8772   31380                    NaN                     NaN                             NaN                             NaN                    2                A               Urban     1200        1\n",
       "33013                                1.0         8407   90060                    NaN                     NaN                             NaN                           99.88                    2                A               Urban     5400        0\n",
       "109871                               1.0         9866   81120                    NaN                     NaN                             NaN                             NaN                    2                A               Urban     1200        0\n",
       "50356                                1.0        16431  108030                    NaN                     NaN                             NaN                             NaN                    2                A               Urban     7500        0\n",
       "90421                                1.0        10232   42150                    NaN                     NaN                             NaN                             NaN                    2                A               Rural     1200        1\n",
       "57976                                1.0        14607   98730                    NaN                     NaN                             NaN                           99.87                    2                D               Rural     9600        0\n",
       "66964                                1.0        21545   65530                    NaN                     NaN                             NaN                             NaN                    2                A               Rural     1200        0\n",
       "14842                                1.0         9139   57530                    NaN                     NaN                             NaN                           99.85                    2                A               Rural     5400        1\n",
       "101186                               1.0        17897   62610                    NaN                     NaN                             NaN                             NaN                    2                B               Urban     3300        1\n",
       "20875                                1.0        20082   78140                    NaN                     NaN                             NaN                           99.88                    2                A               Urban     5400        0"
      ]
     },
     "execution_count": 26,
     "metadata": {},
     "output_type": "execute_result"
    }
   ],
   "source": [
    "train[train['Count_3-6_months_late'].isnull() == 1]"
   ]
  },
  {
   "cell_type": "code",
   "execution_count": 27,
   "metadata": {},
   "outputs": [
    {
     "data": {
      "text/plain": [
       "1    74855\n",
       "0     4998\n",
       "Name: renewal, dtype: int64"
      ]
     },
     "execution_count": 27,
     "metadata": {},
     "output_type": "execute_result"
    }
   ],
   "source": [
    "target.value_counts()"
   ]
  },
  {
   "cell_type": "code",
   "execution_count": 28,
   "metadata": {},
   "outputs": [
    {
     "data": {
      "text/plain": [
       "0    60\n",
       "1    37\n",
       "Name: renewal, dtype: int64"
      ]
     },
     "execution_count": 28,
     "metadata": {},
     "output_type": "execute_result"
    }
   ],
   "source": [
    "train[train['Count_3-6_months_late'].isnull() == 1].renewal.value_counts()"
   ]
  },
  {
   "cell_type": "code",
   "execution_count": 29,
   "metadata": {},
   "outputs": [
    {
     "data": {
      "text/plain": [
       "count    79756.000\n",
       "mean         0.249\n",
       "std          0.691\n",
       "min          0.000\n",
       "25%          0.000\n",
       "50%          0.000\n",
       "75%          0.000\n",
       "max         13.000\n",
       "Name: Count_3-6_months_late, dtype: float64"
      ]
     },
     "execution_count": 29,
     "metadata": {},
     "output_type": "execute_result"
    }
   ],
   "source": [
    "train['Count_3-6_months_late'].describe()"
   ]
  },
  {
   "cell_type": "code",
   "execution_count": 30,
   "metadata": {},
   "outputs": [
    {
     "name": "stdout",
     "output_type": "stream",
     "text": [
      "[2 3]\n",
      "[2 3]\n",
      "[2 3]\n"
     ]
    }
   ],
   "source": [
    "print(train[train['Count_3-6_months_late'].isnull() == 1].no_of_premiums_paid.unique())\n",
    "print(train[train['Count_6-12_months_late'].isnull() == 1].no_of_premiums_paid.unique())\n",
    "print(train[train['Count_more_than_12_months_late'].isnull() == 1].no_of_premiums_paid.unique())\n",
    "#Count_3-6_months_late is empty when the customers are look in perioed as shown by num of premiums paid 2 - 3 months"
   ]
  },
  {
   "cell_type": "code",
   "execution_count": 31,
   "metadata": {},
   "outputs": [
    {
     "data": {
      "text/plain": [
       "97.0"
      ]
     },
     "execution_count": 31,
     "metadata": {},
     "output_type": "execute_result"
    }
   ],
   "source": [
    "train[train[train['Count_3-6_months_late'].isnull() == 1] == \\\n",
    "      train[train['Count_6-12_months_late'].isnull() == 1]]\\\n",
    "    .perc_premium_paid_by_cash_credit.sum()"
   ]
  },
  {
   "cell_type": "code",
   "execution_count": 32,
   "metadata": {},
   "outputs": [
    {
     "data": {
      "text/plain": [
       "97.0"
      ]
     },
     "execution_count": 32,
     "metadata": {},
     "output_type": "execute_result"
    }
   ],
   "source": [
    "train[train[train['Count_3-6_months_late'].isnull() == 1] == \\\n",
    "      train[train['Count_more_than_12_months_late'].isnull() == 1]]\\\n",
    "    .perc_premium_paid_by_cash_credit.sum()"
   ]
  },
  {
   "cell_type": "code",
   "execution_count": 33,
   "metadata": {},
   "outputs": [
    {
     "data": {
      "text/plain": [
       "97.0"
      ]
     },
     "execution_count": 33,
     "metadata": {},
     "output_type": "execute_result"
    }
   ],
   "source": [
    "train[train[train['Count_6-12_months_late'].isnull() == 1] == \\\n",
    "      train[train['Count_more_than_12_months_late'].isnull() == 1]]\\\n",
    "    .perc_premium_paid_by_cash_credit.sum()"
   ]
  },
  {
   "cell_type": "code",
   "execution_count": 34,
   "metadata": {
    "collapsed": true
   },
   "outputs": [],
   "source": [
    "#Impute with zero months\n",
    "#Should be handled separately later on for incentives on customer retention\n",
    "cols = ['Count_3-6_months_late','Count_6-12_months_late','Count_more_than_12_months_late']\n",
    "for col in cols:\n",
    "    train[col].fillna(0,inplace=True)\n",
    "    test[col].fillna(0,inplace=True)"
   ]
  },
  {
   "cell_type": "code",
   "execution_count": 35,
   "metadata": {},
   "outputs": [
    {
     "data": {
      "text/html": [
       "<div>\n",
       "<style>\n",
       "    .dataframe thead tr:only-child th {\n",
       "        text-align: right;\n",
       "    }\n",
       "\n",
       "    .dataframe thead th {\n",
       "        text-align: left;\n",
       "    }\n",
       "\n",
       "    .dataframe tbody tr th {\n",
       "        vertical-align: top;\n",
       "    }\n",
       "</style>\n",
       "<table border=\"1\" class=\"dataframe\">\n",
       "  <thead>\n",
       "    <tr style=\"text-align: right;\">\n",
       "      <th></th>\n",
       "      <th>perc_premium_paid_by_cash_credit</th>\n",
       "      <th>age_in_days</th>\n",
       "      <th>Income</th>\n",
       "      <th>Count_3-6_months_late</th>\n",
       "      <th>Count_6-12_months_late</th>\n",
       "      <th>Count_more_than_12_months_late</th>\n",
       "      <th>application_underwriting_score</th>\n",
       "      <th>no_of_premiums_paid</th>\n",
       "      <th>sourcing_channel</th>\n",
       "      <th>residence_area_type</th>\n",
       "      <th>premium</th>\n",
       "      <th>renewal</th>\n",
       "    </tr>\n",
       "    <tr>\n",
       "      <th>id</th>\n",
       "      <th></th>\n",
       "      <th></th>\n",
       "      <th></th>\n",
       "      <th></th>\n",
       "      <th></th>\n",
       "      <th></th>\n",
       "      <th></th>\n",
       "      <th></th>\n",
       "      <th></th>\n",
       "      <th></th>\n",
       "      <th></th>\n",
       "      <th></th>\n",
       "    </tr>\n",
       "  </thead>\n",
       "  <tbody>\n",
       "    <tr>\n",
       "      <th>68260</th>\n",
       "      <td>0.012</td>\n",
       "      <td>16433</td>\n",
       "      <td>87530</td>\n",
       "      <td>0.0</td>\n",
       "      <td>0.0</td>\n",
       "      <td>0.0</td>\n",
       "      <td>NaN</td>\n",
       "      <td>5</td>\n",
       "      <td>A</td>\n",
       "      <td>Rural</td>\n",
       "      <td>3300</td>\n",
       "      <td>1</td>\n",
       "    </tr>\n",
       "    <tr>\n",
       "      <th>27507</th>\n",
       "      <td>0.000</td>\n",
       "      <td>8406</td>\n",
       "      <td>24690</td>\n",
       "      <td>0.0</td>\n",
       "      <td>0.0</td>\n",
       "      <td>0.0</td>\n",
       "      <td>NaN</td>\n",
       "      <td>4</td>\n",
       "      <td>A</td>\n",
       "      <td>Urban</td>\n",
       "      <td>1200</td>\n",
       "      <td>1</td>\n",
       "    </tr>\n",
       "    <tr>\n",
       "      <th>60644</th>\n",
       "      <td>0.000</td>\n",
       "      <td>16799</td>\n",
       "      <td>99230</td>\n",
       "      <td>0.0</td>\n",
       "      <td>0.0</td>\n",
       "      <td>0.0</td>\n",
       "      <td>NaN</td>\n",
       "      <td>6</td>\n",
       "      <td>A</td>\n",
       "      <td>Rural</td>\n",
       "      <td>5700</td>\n",
       "      <td>1</td>\n",
       "    </tr>\n",
       "    <tr>\n",
       "      <th>48944</th>\n",
       "      <td>0.000</td>\n",
       "      <td>20810</td>\n",
       "      <td>150120</td>\n",
       "      <td>0.0</td>\n",
       "      <td>0.0</td>\n",
       "      <td>0.0</td>\n",
       "      <td>NaN</td>\n",
       "      <td>5</td>\n",
       "      <td>A</td>\n",
       "      <td>Urban</td>\n",
       "      <td>7500</td>\n",
       "      <td>1</td>\n",
       "    </tr>\n",
       "    <tr>\n",
       "      <th>91494</th>\n",
       "      <td>0.000</td>\n",
       "      <td>13875</td>\n",
       "      <td>125060</td>\n",
       "      <td>0.0</td>\n",
       "      <td>0.0</td>\n",
       "      <td>0.0</td>\n",
       "      <td>NaN</td>\n",
       "      <td>10</td>\n",
       "      <td>B</td>\n",
       "      <td>Urban</td>\n",
       "      <td>11700</td>\n",
       "      <td>1</td>\n",
       "    </tr>\n",
       "  </tbody>\n",
       "</table>\n",
       "</div>"
      ],
      "text/plain": [
       "       perc_premium_paid_by_cash_credit  age_in_days  Income  Count_3-6_months_late  Count_6-12_months_late  Count_more_than_12_months_late  application_underwriting_score  no_of_premiums_paid sourcing_channel residence_area_type  premium  renewal\n",
       "id                                                                                                                                                                                                                                                     \n",
       "68260                             0.012        16433   87530                    0.0                     0.0                             0.0                             NaN                    5                A               Rural     3300        1\n",
       "27507                             0.000         8406   24690                    0.0                     0.0                             0.0                             NaN                    4                A               Urban     1200        1\n",
       "60644                             0.000        16799   99230                    0.0                     0.0                             0.0                             NaN                    6                A               Rural     5700        1\n",
       "48944                             0.000        20810  150120                    0.0                     0.0                             0.0                             NaN                    5                A               Urban     7500        1\n",
       "91494                             0.000        13875  125060                    0.0                     0.0                             0.0                             NaN                   10                B               Urban    11700        1"
      ]
     },
     "execution_count": 35,
     "metadata": {},
     "output_type": "execute_result"
    }
   ],
   "source": [
    "#Why is there no application_underwriting_score\n",
    "train[train.application_underwriting_score.isnull() == 1].head()"
   ]
  },
  {
   "cell_type": "code",
   "execution_count": 36,
   "metadata": {},
   "outputs": [
    {
     "data": {
      "text/plain": [
       "count    76879.000\n",
       "mean        99.067\n",
       "std          0.740\n",
       "min         91.900\n",
       "25%         98.810\n",
       "50%         99.210\n",
       "75%         99.540\n",
       "max         99.890\n",
       "Name: application_underwriting_score, dtype: float64"
      ]
     },
     "execution_count": 36,
     "metadata": {},
     "output_type": "execute_result"
    }
   ],
   "source": [
    "train.application_underwriting_score.describe()"
   ]
  },
  {
   "cell_type": "code",
   "execution_count": 37,
   "metadata": {},
   "outputs": [
    {
     "data": {
      "text/html": [
       "<div>\n",
       "<style>\n",
       "    .dataframe thead tr:only-child th {\n",
       "        text-align: right;\n",
       "    }\n",
       "\n",
       "    .dataframe thead th {\n",
       "        text-align: left;\n",
       "    }\n",
       "\n",
       "    .dataframe tbody tr th {\n",
       "        vertical-align: top;\n",
       "    }\n",
       "</style>\n",
       "<table border=\"1\" class=\"dataframe\">\n",
       "  <thead>\n",
       "    <tr style=\"text-align: right;\">\n",
       "      <th></th>\n",
       "      <th>perc_premium_paid_by_cash_credit</th>\n",
       "      <th>age_in_days</th>\n",
       "      <th>Income</th>\n",
       "      <th>Count_3-6_months_late</th>\n",
       "      <th>Count_6-12_months_late</th>\n",
       "      <th>Count_more_than_12_months_late</th>\n",
       "      <th>application_underwriting_score</th>\n",
       "      <th>no_of_premiums_paid</th>\n",
       "      <th>premium</th>\n",
       "      <th>renewal</th>\n",
       "    </tr>\n",
       "  </thead>\n",
       "  <tbody>\n",
       "    <tr>\n",
       "      <th>count</th>\n",
       "      <td>79853.000</td>\n",
       "      <td>79853.000</td>\n",
       "      <td>7.985e+04</td>\n",
       "      <td>79853.000</td>\n",
       "      <td>79853.000</td>\n",
       "      <td>79853.000</td>\n",
       "      <td>76879.000</td>\n",
       "      <td>79853.000</td>\n",
       "      <td>79853.000</td>\n",
       "      <td>79853.000</td>\n",
       "    </tr>\n",
       "    <tr>\n",
       "      <th>mean</th>\n",
       "      <td>0.314</td>\n",
       "      <td>18846.697</td>\n",
       "      <td>2.088e+05</td>\n",
       "      <td>0.248</td>\n",
       "      <td>0.078</td>\n",
       "      <td>0.060</td>\n",
       "      <td>99.067</td>\n",
       "      <td>10.864</td>\n",
       "      <td>10924.508</td>\n",
       "      <td>0.937</td>\n",
       "    </tr>\n",
       "    <tr>\n",
       "      <th>std</th>\n",
       "      <td>0.335</td>\n",
       "      <td>5208.719</td>\n",
       "      <td>4.966e+05</td>\n",
       "      <td>0.691</td>\n",
       "      <td>0.436</td>\n",
       "      <td>0.312</td>\n",
       "      <td>0.740</td>\n",
       "      <td>5.171</td>\n",
       "      <td>9401.677</td>\n",
       "      <td>0.242</td>\n",
       "    </tr>\n",
       "    <tr>\n",
       "      <th>min</th>\n",
       "      <td>0.000</td>\n",
       "      <td>7670.000</td>\n",
       "      <td>2.403e+04</td>\n",
       "      <td>0.000</td>\n",
       "      <td>0.000</td>\n",
       "      <td>0.000</td>\n",
       "      <td>91.900</td>\n",
       "      <td>2.000</td>\n",
       "      <td>1200.000</td>\n",
       "      <td>0.000</td>\n",
       "    </tr>\n",
       "    <tr>\n",
       "      <th>25%</th>\n",
       "      <td>0.034</td>\n",
       "      <td>14974.000</td>\n",
       "      <td>1.080e+05</td>\n",
       "      <td>0.000</td>\n",
       "      <td>0.000</td>\n",
       "      <td>0.000</td>\n",
       "      <td>98.810</td>\n",
       "      <td>7.000</td>\n",
       "      <td>5400.000</td>\n",
       "      <td>1.000</td>\n",
       "    </tr>\n",
       "    <tr>\n",
       "      <th>50%</th>\n",
       "      <td>0.167</td>\n",
       "      <td>18625.000</td>\n",
       "      <td>1.666e+05</td>\n",
       "      <td>0.000</td>\n",
       "      <td>0.000</td>\n",
       "      <td>0.000</td>\n",
       "      <td>99.210</td>\n",
       "      <td>10.000</td>\n",
       "      <td>7500.000</td>\n",
       "      <td>1.000</td>\n",
       "    </tr>\n",
       "    <tr>\n",
       "      <th>75%</th>\n",
       "      <td>0.538</td>\n",
       "      <td>22636.000</td>\n",
       "      <td>2.521e+05</td>\n",
       "      <td>0.000</td>\n",
       "      <td>0.000</td>\n",
       "      <td>0.000</td>\n",
       "      <td>99.540</td>\n",
       "      <td>14.000</td>\n",
       "      <td>13800.000</td>\n",
       "      <td>1.000</td>\n",
       "    </tr>\n",
       "    <tr>\n",
       "      <th>max</th>\n",
       "      <td>1.000</td>\n",
       "      <td>37602.000</td>\n",
       "      <td>9.026e+07</td>\n",
       "      <td>13.000</td>\n",
       "      <td>17.000</td>\n",
       "      <td>11.000</td>\n",
       "      <td>99.890</td>\n",
       "      <td>60.000</td>\n",
       "      <td>60000.000</td>\n",
       "      <td>1.000</td>\n",
       "    </tr>\n",
       "  </tbody>\n",
       "</table>\n",
       "</div>"
      ],
      "text/plain": [
       "       perc_premium_paid_by_cash_credit  age_in_days     Income  Count_3-6_months_late  Count_6-12_months_late  Count_more_than_12_months_late  application_underwriting_score  no_of_premiums_paid    premium    renewal\n",
       "count                         79853.000    79853.000  7.985e+04              79853.000               79853.000                       79853.000                       76879.000            79853.000  79853.000  79853.000\n",
       "mean                              0.314    18846.697  2.088e+05                  0.248                   0.078                           0.060                          99.067               10.864  10924.508      0.937\n",
       "std                               0.335     5208.719  4.966e+05                  0.691                   0.436                           0.312                           0.740                5.171   9401.677      0.242\n",
       "min                               0.000     7670.000  2.403e+04                  0.000                   0.000                           0.000                          91.900                2.000   1200.000      0.000\n",
       "25%                               0.034    14974.000  1.080e+05                  0.000                   0.000                           0.000                          98.810                7.000   5400.000      1.000\n",
       "50%                               0.167    18625.000  1.666e+05                  0.000                   0.000                           0.000                          99.210               10.000   7500.000      1.000\n",
       "75%                               0.538    22636.000  2.521e+05                  0.000                   0.000                           0.000                          99.540               14.000  13800.000      1.000\n",
       "max                               1.000    37602.000  9.026e+07                 13.000                  17.000                          11.000                          99.890               60.000  60000.000      1.000"
      ]
     },
     "execution_count": 37,
     "metadata": {},
     "output_type": "execute_result"
    }
   ],
   "source": [
    "train.describe()"
   ]
  },
  {
   "cell_type": "code",
   "execution_count": 38,
   "metadata": {},
   "outputs": [
    {
     "data": {
      "text/html": [
       "<div>\n",
       "<style>\n",
       "    .dataframe thead tr:only-child th {\n",
       "        text-align: right;\n",
       "    }\n",
       "\n",
       "    .dataframe thead th {\n",
       "        text-align: left;\n",
       "    }\n",
       "\n",
       "    .dataframe tbody tr th {\n",
       "        vertical-align: top;\n",
       "    }\n",
       "</style>\n",
       "<table border=\"1\" class=\"dataframe\">\n",
       "  <thead>\n",
       "    <tr style=\"text-align: right;\">\n",
       "      <th></th>\n",
       "      <th>perc_premium_paid_by_cash_credit</th>\n",
       "      <th>age_in_days</th>\n",
       "      <th>Income</th>\n",
       "      <th>Count_3-6_months_late</th>\n",
       "      <th>Count_6-12_months_late</th>\n",
       "      <th>Count_more_than_12_months_late</th>\n",
       "      <th>application_underwriting_score</th>\n",
       "      <th>no_of_premiums_paid</th>\n",
       "      <th>premium</th>\n",
       "      <th>renewal</th>\n",
       "    </tr>\n",
       "  </thead>\n",
       "  <tbody>\n",
       "    <tr>\n",
       "      <th>count</th>\n",
       "      <td>2974.000</td>\n",
       "      <td>2974.000</td>\n",
       "      <td>2.974e+03</td>\n",
       "      <td>2974.000</td>\n",
       "      <td>2974.000</td>\n",
       "      <td>2974.000</td>\n",
       "      <td>0.0</td>\n",
       "      <td>2974.000</td>\n",
       "      <td>2974.000</td>\n",
       "      <td>2974.000</td>\n",
       "    </tr>\n",
       "    <tr>\n",
       "      <th>mean</th>\n",
       "      <td>0.296</td>\n",
       "      <td>20029.381</td>\n",
       "      <td>2.101e+05</td>\n",
       "      <td>0.095</td>\n",
       "      <td>0.109</td>\n",
       "      <td>0.029</td>\n",
       "      <td>NaN</td>\n",
       "      <td>6.009</td>\n",
       "      <td>8816.409</td>\n",
       "      <td>0.933</td>\n",
       "    </tr>\n",
       "    <tr>\n",
       "      <th>std</th>\n",
       "      <td>0.440</td>\n",
       "      <td>7345.673</td>\n",
       "      <td>1.758e+06</td>\n",
       "      <td>0.391</td>\n",
       "      <td>0.556</td>\n",
       "      <td>0.202</td>\n",
       "      <td>NaN</td>\n",
       "      <td>4.329</td>\n",
       "      <td>8698.405</td>\n",
       "      <td>0.250</td>\n",
       "    </tr>\n",
       "    <tr>\n",
       "      <th>min</th>\n",
       "      <td>0.000</td>\n",
       "      <td>7670.000</td>\n",
       "      <td>2.403e+04</td>\n",
       "      <td>0.000</td>\n",
       "      <td>0.000</td>\n",
       "      <td>0.000</td>\n",
       "      <td>NaN</td>\n",
       "      <td>2.000</td>\n",
       "      <td>1200.000</td>\n",
       "      <td>0.000</td>\n",
       "    </tr>\n",
       "    <tr>\n",
       "      <th>25%</th>\n",
       "      <td>0.000</td>\n",
       "      <td>13875.000</td>\n",
       "      <td>7.210e+04</td>\n",
       "      <td>0.000</td>\n",
       "      <td>0.000</td>\n",
       "      <td>0.000</td>\n",
       "      <td>NaN</td>\n",
       "      <td>3.000</td>\n",
       "      <td>3300.000</td>\n",
       "      <td>1.000</td>\n",
       "    </tr>\n",
       "    <tr>\n",
       "      <th>50%</th>\n",
       "      <td>0.007</td>\n",
       "      <td>20445.500</td>\n",
       "      <td>1.200e+05</td>\n",
       "      <td>0.000</td>\n",
       "      <td>0.000</td>\n",
       "      <td>0.000</td>\n",
       "      <td>NaN</td>\n",
       "      <td>5.000</td>\n",
       "      <td>5700.000</td>\n",
       "      <td>1.000</td>\n",
       "    </tr>\n",
       "    <tr>\n",
       "      <th>75%</th>\n",
       "      <td>1.000</td>\n",
       "      <td>25930.000</td>\n",
       "      <td>2.002e+05</td>\n",
       "      <td>0.000</td>\n",
       "      <td>0.000</td>\n",
       "      <td>0.000</td>\n",
       "      <td>NaN</td>\n",
       "      <td>8.000</td>\n",
       "      <td>11700.000</td>\n",
       "      <td>1.000</td>\n",
       "    </tr>\n",
       "    <tr>\n",
       "      <th>max</th>\n",
       "      <td>1.000</td>\n",
       "      <td>37602.000</td>\n",
       "      <td>9.026e+07</td>\n",
       "      <td>6.000</td>\n",
       "      <td>13.000</td>\n",
       "      <td>5.000</td>\n",
       "      <td>NaN</td>\n",
       "      <td>60.000</td>\n",
       "      <td>60000.000</td>\n",
       "      <td>1.000</td>\n",
       "    </tr>\n",
       "  </tbody>\n",
       "</table>\n",
       "</div>"
      ],
      "text/plain": [
       "       perc_premium_paid_by_cash_credit  age_in_days     Income  Count_3-6_months_late  Count_6-12_months_late  Count_more_than_12_months_late  application_underwriting_score  no_of_premiums_paid    premium   renewal\n",
       "count                          2974.000     2974.000  2.974e+03               2974.000                2974.000                        2974.000                             0.0             2974.000   2974.000  2974.000\n",
       "mean                              0.296    20029.381  2.101e+05                  0.095                   0.109                           0.029                             NaN                6.009   8816.409     0.933\n",
       "std                               0.440     7345.673  1.758e+06                  0.391                   0.556                           0.202                             NaN                4.329   8698.405     0.250\n",
       "min                               0.000     7670.000  2.403e+04                  0.000                   0.000                           0.000                             NaN                2.000   1200.000     0.000\n",
       "25%                               0.000    13875.000  7.210e+04                  0.000                   0.000                           0.000                             NaN                3.000   3300.000     1.000\n",
       "50%                               0.007    20445.500  1.200e+05                  0.000                   0.000                           0.000                             NaN                5.000   5700.000     1.000\n",
       "75%                               1.000    25930.000  2.002e+05                  0.000                   0.000                           0.000                             NaN                8.000  11700.000     1.000\n",
       "max                               1.000    37602.000  9.026e+07                  6.000                  13.000                           5.000                             NaN               60.000  60000.000     1.000"
      ]
     },
     "execution_count": 38,
     "metadata": {},
     "output_type": "execute_result"
    }
   ],
   "source": [
    "#application_underwriting_score\n",
    "train[train.application_underwriting_score.isnull() == 1].describe()"
   ]
  },
  {
   "cell_type": "code",
   "execution_count": 39,
   "metadata": {},
   "outputs": [
    {
     "data": {
      "text/plain": [
       "1    93.275\n",
       "0     6.725\n",
       "Name: renewal, dtype: float64"
      ]
     },
     "execution_count": 39,
     "metadata": {},
     "output_type": "execute_result"
    }
   ],
   "source": [
    "train[train.application_underwriting_score.isnull() == 1].renewal.value_counts(normalize = True)* 100"
   ]
  },
  {
   "cell_type": "markdown",
   "metadata": {},
   "source": [
    "Empty and non empty underwriting score has same renewal value counts, which suggests that empty underwriting score is not distorting anything. Hence it can be imputed by 90 as under 90 cannot be insured"
   ]
  },
  {
   "cell_type": "code",
   "execution_count": 40,
   "metadata": {},
   "outputs": [
    {
     "data": {
      "text/plain": [
       "count    76879.000\n",
       "mean        99.067\n",
       "std          0.740\n",
       "min         91.900\n",
       "25%         98.810\n",
       "50%         99.210\n",
       "75%         99.540\n",
       "max         99.890\n",
       "Name: application_underwriting_score, dtype: float64"
      ]
     },
     "execution_count": 40,
     "metadata": {},
     "output_type": "execute_result"
    }
   ],
   "source": [
    "train.application_underwriting_score.describe()"
   ]
  },
  {
   "cell_type": "code",
   "execution_count": 41,
   "metadata": {
    "collapsed": true
   },
   "outputs": [],
   "source": [
    "train.application_underwriting_score.fillna(90, inplace = True)\n",
    "test.application_underwriting_score.fillna(90, inplace = True)"
   ]
  },
  {
   "cell_type": "code",
   "execution_count": 42,
   "metadata": {},
   "outputs": [
    {
     "data": {
      "text/plain": [
       "(0, 12)"
      ]
     },
     "execution_count": 42,
     "metadata": {},
     "output_type": "execute_result"
    }
   ],
   "source": [
    "train[train.isnull().any(axis=1)].shape"
   ]
  },
  {
   "cell_type": "code",
   "execution_count": 43,
   "metadata": {},
   "outputs": [
    {
     "data": {
      "text/plain": [
       "(0, 11)"
      ]
     },
     "execution_count": 43,
     "metadata": {},
     "output_type": "execute_result"
    }
   ],
   "source": [
    "test[test.isnull().any(axis=1)].shape"
   ]
  },
  {
   "cell_type": "code",
   "execution_count": 44,
   "metadata": {
    "collapsed": true
   },
   "outputs": [],
   "source": [
    "train['age_in_years'] = train['age_in_days'].apply(lambda x: round(x/365.25))\n",
    "test['age_in_years'] = test['age_in_days'].apply(lambda x: round(x/365.25))"
   ]
  },
  {
   "cell_type": "code",
   "execution_count": 45,
   "metadata": {
    "collapsed": true
   },
   "outputs": [],
   "source": [
    "train.drop('age_in_days',axis=1,inplace=True)\n",
    "test.drop('age_in_days',axis=1,inplace=True)"
   ]
  },
  {
   "cell_type": "code",
   "execution_count": 46,
   "metadata": {},
   "outputs": [
    {
     "data": {
      "text/plain": [
       "count    79853.000\n",
       "mean        51.607\n",
       "std         14.270\n",
       "min         21.000\n",
       "25%         41.000\n",
       "50%         51.000\n",
       "75%         62.000\n",
       "max        103.000\n",
       "Name: age_in_years, dtype: float64"
      ]
     },
     "execution_count": 46,
     "metadata": {},
     "output_type": "execute_result"
    }
   ],
   "source": [
    "train['age_in_years'].describe()"
   ]
  },
  {
   "cell_type": "code",
   "execution_count": 47,
   "metadata": {
    "collapsed": true
   },
   "outputs": [],
   "source": [
    "age = pd.DataFrame(train['age_in_years'].value_counts())\n",
    "age.reset_index(inplace=True)"
   ]
  },
  {
   "cell_type": "code",
   "execution_count": 48,
   "metadata": {},
   "outputs": [
    {
     "data": {
      "text/html": [
       "<div>\n",
       "<style>\n",
       "    .dataframe thead tr:only-child th {\n",
       "        text-align: right;\n",
       "    }\n",
       "\n",
       "    .dataframe thead th {\n",
       "        text-align: left;\n",
       "    }\n",
       "\n",
       "    .dataframe tbody tr th {\n",
       "        vertical-align: top;\n",
       "    }\n",
       "</style>\n",
       "<table border=\"1\" class=\"dataframe\">\n",
       "  <thead>\n",
       "    <tr style=\"text-align: right;\">\n",
       "      <th></th>\n",
       "      <th>index</th>\n",
       "      <th>age_in_years</th>\n",
       "    </tr>\n",
       "  </thead>\n",
       "  <tbody>\n",
       "    <tr>\n",
       "      <th>0</th>\n",
       "      <td>49</td>\n",
       "      <td>2200</td>\n",
       "    </tr>\n",
       "    <tr>\n",
       "      <th>1</th>\n",
       "      <td>46</td>\n",
       "      <td>2108</td>\n",
       "    </tr>\n",
       "    <tr>\n",
       "      <th>2</th>\n",
       "      <td>47</td>\n",
       "      <td>2103</td>\n",
       "    </tr>\n",
       "    <tr>\n",
       "      <th>3</th>\n",
       "      <td>48</td>\n",
       "      <td>2095</td>\n",
       "    </tr>\n",
       "    <tr>\n",
       "      <th>4</th>\n",
       "      <td>50</td>\n",
       "      <td>2061</td>\n",
       "    </tr>\n",
       "  </tbody>\n",
       "</table>\n",
       "</div>"
      ],
      "text/plain": [
       "   index  age_in_years\n",
       "0     49          2200\n",
       "1     46          2108\n",
       "2     47          2103\n",
       "3     48          2095\n",
       "4     50          2061"
      ]
     },
     "execution_count": 48,
     "metadata": {},
     "output_type": "execute_result"
    }
   ],
   "source": [
    "age.head()"
   ]
  },
  {
   "cell_type": "code",
   "execution_count": 49,
   "metadata": {
    "scrolled": false
   },
   "outputs": [
    {
     "data": {
      "image/png": "[encoded data removed]",
      "text/plain": [
       "<matplotlib.figure.Figure at 0x2bc9a407ac8>"
      ]
     },
     "metadata": {},
     "output_type": "display_data"
    }
   ],
   "source": [
    "age.plot('index','age_in_years',kind='scatter')\n",
    "plt.show() #right long tail"
   ]
  },
  {
   "cell_type": "code",
   "execution_count": 50,
   "metadata": {},
   "outputs": [
    {
     "data": {
      "text/plain": [
       "(82, 2)"
      ]
     },
     "execution_count": 50,
     "metadata": {},
     "output_type": "execute_result"
    }
   ],
   "source": [
    "age.shape"
   ]
  },
  {
   "cell_type": "code",
   "execution_count": 51,
   "metadata": {},
   "outputs": [
    {
     "data": {
      "image/png": "[encoded data removed]",
      "text/plain": [
       "<matplotlib.figure.Figure at 0x2bc99e32dd8>"
      ]
     },
     "metadata": {},
     "output_type": "display_data"
    }
   ],
   "source": [
    "plt.bar(train['age_in_years'].value_counts().index,train['age_in_years'].value_counts().values)\n",
    "plt.show()"
   ]
  },
  {
   "cell_type": "code",
   "execution_count": 52,
   "metadata": {
    "collapsed": true
   },
   "outputs": [],
   "source": [
    "#null category columns\n",
    "cat_col = train.dtypes[train.dtypes == \"object\"].index"
   ]
  },
  {
   "cell_type": "code",
   "execution_count": 53,
   "metadata": {},
   "outputs": [
    {
     "data": {
      "text/plain": [
       "Index(['sourcing_channel', 'residence_area_type'], dtype='object')"
      ]
     },
     "execution_count": 53,
     "metadata": {},
     "output_type": "execute_result"
    }
   ],
   "source": [
    "cat_col"
   ]
  },
  {
   "cell_type": "code",
   "execution_count": 54,
   "metadata": {
    "collapsed": true
   },
   "outputs": [],
   "source": [
    "#Fill NA by No_value\n",
    "train[cat_col] = train[cat_col].fillna('missing')\n",
    "test[cat_col] = test[cat_col].fillna('missing')"
   ]
  },
  {
   "cell_type": "code",
   "execution_count": 55,
   "metadata": {
    "collapsed": true
   },
   "outputs": [],
   "source": [
    "#Missing values in numeric columns\n",
    "#train = train.fillna(-1) #-1 may distort column distribution; alternate is to impute by median\n",
    "#test = test.fillna(-1)"
   ]
  },
  {
   "cell_type": "code",
   "execution_count": 56,
   "metadata": {},
   "outputs": [
    {
     "data": {
      "text/plain": [
       "(0, 12)"
      ]
     },
     "execution_count": 56,
     "metadata": {},
     "output_type": "execute_result"
    }
   ],
   "source": [
    "train[train.isnull().any(axis=1)].shape"
   ]
  },
  {
   "cell_type": "code",
   "execution_count": 57,
   "metadata": {},
   "outputs": [
    {
     "data": {
      "text/plain": [
       "(0, 11)"
      ]
     },
     "execution_count": 57,
     "metadata": {},
     "output_type": "execute_result"
    }
   ],
   "source": [
    "test[test.isnull().any(axis=1)].shape"
   ]
  },
  {
   "cell_type": "code",
   "execution_count": null,
   "metadata": {
    "collapsed": true
   },
   "outputs": [],
   "source": [
    "#Remove outliers"
   ]
  },
  {
   "cell_type": "code",
   "execution_count": 58,
   "metadata": {
    "collapsed": true
   },
   "outputs": [],
   "source": [
    "numeric_feats = train.dtypes[train.dtypes != \"object\"].index"
   ]
  },
  {
   "cell_type": "code",
   "execution_count": 60,
   "metadata": {},
   "outputs": [
    {
     "data": {
      "image/png": "[encoded data removed]",
      "text/plain": [
       "<matplotlib.figure.Figure at 0x2bc9a5c6630>"
      ]
     },
     "metadata": {},
     "output_type": "display_data"
    }
   ],
   "source": [
    "#check for correlation numerical columns\n",
    "import seaborn as sns\n",
    "scaler = StandardScaler()\n",
    "df_scaled = scaler.fit_transform(train[numeric_feats])\n",
    "corr = pd.DataFrame(df_scaled,columns=list(train[numeric_feats].columns)).corr()\n",
    "sns.set(font_scale = 6)\n",
    "plt.subplots( figsize =( 100 , 80 ) )\n",
    "sns_plot = sns.heatmap(corr,cmap = sns.diverging_palette( 10 , 150 , as_cmap = True ))\n",
    "sns_plot.figure.savefig(os.path.join(folder,'sigma_cleaned_corr' + '.png'))\n",
    "plt.show()\n"
   ]
  },
  {
   "cell_type": "code",
   "execution_count": 63,
   "metadata": {},
   "outputs": [
    {
     "data": {
      "text/plain": [
       "8942"
      ]
     },
     "execution_count": 63,
     "metadata": {},
     "output_type": "execute_result"
    }
   ],
   "source": [
    "del df_scaled,corr\n",
    "gc.collect()"
   ]
  },
  {
   "cell_type": "code",
   "execution_count": 64,
   "metadata": {
    "collapsed": true
   },
   "outputs": [],
   "source": [
    "numeric_feats = [i for i in numeric_feats if train[i].nunique() > 2]"
   ]
  },
  {
   "cell_type": "code",
   "execution_count": 61,
   "metadata": {},
   "outputs": [
    {
     "data": {
      "text/html": [
       "<div>\n",
       "<style>\n",
       "    .dataframe thead tr:only-child th {\n",
       "        text-align: right;\n",
       "    }\n",
       "\n",
       "    .dataframe thead th {\n",
       "        text-align: left;\n",
       "    }\n",
       "\n",
       "    .dataframe tbody tr th {\n",
       "        vertical-align: top;\n",
       "    }\n",
       "</style>\n",
       "<table border=\"1\" class=\"dataframe\">\n",
       "  <thead>\n",
       "    <tr style=\"text-align: right;\">\n",
       "      <th></th>\n",
       "      <th>sourcing_channel</th>\n",
       "      <th>residence_area_type</th>\n",
       "    </tr>\n",
       "  </thead>\n",
       "  <tbody>\n",
       "    <tr>\n",
       "      <th>sourcing_channel</th>\n",
       "      <td>0.0</td>\n",
       "      <td>6.039</td>\n",
       "    </tr>\n",
       "    <tr>\n",
       "      <th>residence_area_type</th>\n",
       "      <td>0.0</td>\n",
       "      <td>0.000</td>\n",
       "    </tr>\n",
       "  </tbody>\n",
       "</table>\n",
       "</div>"
      ],
      "text/plain": [
       "                     sourcing_channel  residence_area_type\n",
       "sourcing_channel                  0.0                6.039\n",
       "residence_area_type               0.0                0.000"
      ]
     },
     "execution_count": 61,
     "metadata": {},
     "output_type": "execute_result"
    }
   ],
   "source": [
    "#Check for correlation categorical columns\n",
    "\n",
    "#use chi square test to find correlated catgeorical features\n",
    "\n",
    "from scipy.stats import chi2_contingency\n",
    "df_cat = train[list(train.dtypes[train.dtypes == \"object\"].index)]\n",
    "chi2, p_values =[], []\n",
    "for i in range(len(df_cat.columns)):\n",
    "    for j in range(len(df_cat.columns)):\n",
    "        if j > i:\n",
    "            chitest = chi2_contingency(pd.crosstab(df_cat[df_cat.columns[i]], df_cat[df_cat.columns[j]]))\n",
    "            chi2.append(chitest[0])\n",
    "            p_values.append(chitest[1])\n",
    "        else:      # for same factor pair\n",
    "            chi2.append(0)\n",
    "            p_values.append(0)\n",
    "\n",
    "#Crosstab will create contingency table for the pair of features. \n",
    "#Null hypothesis is that the features are independent of each other. \n",
    "#If p value is less than significance value, i.e < 0.01 then we can reject Null hypothesis and\n",
    "#accept alternate hypothesis which stats that the features are related.             \n",
    "\n",
    "chi2 = np.array(chi2).reshape((df_cat.shape[1],df_cat.shape[1])) # shape it as a matrix\n",
    "chi2 = pd.DataFrame(chi2, index=df_cat.columns.values, columns=df_cat.columns.values)\n",
    "p_values = np.array(p_values).reshape((df_cat.shape[1],df_cat.shape[1])) # shape it as a matrix\n",
    "p_values = pd.DataFrame(p_values, index=df_cat.columns.values, columns=df_cat.columns.values)\n",
    "chi2\n"
   ]
  },
  {
   "cell_type": "code",
   "execution_count": 62,
   "metadata": {},
   "outputs": [
    {
     "data": {
      "text/html": [
       "<div>\n",
       "<style>\n",
       "    .dataframe thead tr:only-child th {\n",
       "        text-align: right;\n",
       "    }\n",
       "\n",
       "    .dataframe thead th {\n",
       "        text-align: left;\n",
       "    }\n",
       "\n",
       "    .dataframe tbody tr th {\n",
       "        vertical-align: top;\n",
       "    }\n",
       "</style>\n",
       "<table border=\"1\" class=\"dataframe\">\n",
       "  <thead>\n",
       "    <tr style=\"text-align: right;\">\n",
       "      <th></th>\n",
       "      <th>sourcing_channel</th>\n",
       "      <th>residence_area_type</th>\n",
       "    </tr>\n",
       "  </thead>\n",
       "  <tbody>\n",
       "    <tr>\n",
       "      <th>sourcing_channel</th>\n",
       "      <td>0.0</td>\n",
       "      <td>0.196</td>\n",
       "    </tr>\n",
       "    <tr>\n",
       "      <th>residence_area_type</th>\n",
       "      <td>0.0</td>\n",
       "      <td>0.000</td>\n",
       "    </tr>\n",
       "  </tbody>\n",
       "</table>\n",
       "</div>"
      ],
      "text/plain": [
       "                     sourcing_channel  residence_area_type\n",
       "sourcing_channel                  0.0                0.196\n",
       "residence_area_type               0.0                0.000"
      ]
     },
     "execution_count": 62,
     "metadata": {},
     "output_type": "execute_result"
    }
   ],
   "source": [
    "p_values"
   ]
  },
  {
   "cell_type": "code",
   "execution_count": 65,
   "metadata": {},
   "outputs": [
    {
     "data": {
      "text/plain": [
       "0"
      ]
     },
     "execution_count": 65,
     "metadata": {},
     "output_type": "execute_result"
    }
   ],
   "source": [
    "del chi2,p_values\n",
    "gc.collect()"
   ]
  },
  {
   "cell_type": "code",
   "execution_count": 59,
   "metadata": {
    "collapsed": true
   },
   "outputs": [],
   "source": []
  },
  {
   "cell_type": "code",
   "execution_count": 60,
   "metadata": {},
   "outputs": [
    {
     "data": {
      "text/plain": [
       "VarianceThreshold(threshold=0.08999999999999998)"
      ]
     },
     "execution_count": 60,
     "metadata": {},
     "output_type": "execute_result"
    }
   ],
   "source": [
    "p = 0.9\n",
    "from sklearn.feature_selection import VarianceThreshold\n",
    "sel = VarianceThreshold(threshold=(p * (1 - p)))\n",
    "sel.fit(train[numeric_feats])"
   ]
  },
  {
   "cell_type": "code",
   "execution_count": 61,
   "metadata": {},
   "outputs": [
    {
     "name": "stdout",
     "output_type": "stream",
     "text": [
      "perc_premium_paid_by_cash_credit\n",
      "Count_more_than_12_months_late\n"
     ]
    }
   ],
   "source": [
    "for i, val in enumerate(numeric_feats):\n",
    "    if sel.variances_[i] < 0.16:\n",
    "        print(val)"
   ]
  },
  {
   "cell_type": "code",
   "execution_count": 62,
   "metadata": {},
   "outputs": [
    {
     "data": {
      "text/plain": [
       "1001"
      ]
     },
     "execution_count": 62,
     "metadata": {},
     "output_type": "execute_result"
    }
   ],
   "source": [
    "train.perc_premium_paid_by_cash_credit.nunique()"
   ]
  },
  {
   "cell_type": "code",
   "execution_count": 63,
   "metadata": {},
   "outputs": [
    {
     "data": {
      "text/plain": [
       "array([ 0.,  1.,  4.,  2.,  3.,  7.,  5., 11.,  6.,  8.])"
      ]
     },
     "execution_count": 63,
     "metadata": {},
     "output_type": "execute_result"
    }
   ],
   "source": [
    "train.Count_more_than_12_months_late.unique()"
   ]
  },
  {
   "cell_type": "code",
   "execution_count": null,
   "metadata": {
    "collapsed": true
   },
   "outputs": [],
   "source": []
  },
  {
   "cell_type": "code",
   "execution_count": 66,
   "metadata": {},
   "outputs": [
    {
     "data": {
      "text/plain": [
       "perc_premium_paid_by_cash_credit      0.893\n",
       "Income                              109.759\n",
       "Count_3-6_months_late                 4.153\n",
       "Count_6-12_months_late               10.359\n",
       "Count_more_than_12_months_late        7.855\n",
       "application_underwriting_score       -3.903\n",
       "no_of_premiums_paid                   1.227\n",
       "premium                               2.198\n",
       "age_in_years                          0.223\n",
       "dtype: float64"
      ]
     },
     "execution_count": 66,
     "metadata": {},
     "output_type": "execute_result"
    }
   ],
   "source": [
    "#check for skew\n",
    "from scipy.stats import skew\n",
    "skewed_feats = train[numeric_feats].apply(lambda x: skew(x.dropna())) #compute skewness\n",
    "skewed_feats"
   ]
  },
  {
   "cell_type": "code",
   "execution_count": 67,
   "metadata": {},
   "outputs": [
    {
     "data": {
      "text/plain": [
       "perc_premium_paid_by_cash_credit      0.893\n",
       "Income                              109.759\n",
       "Count_3-6_months_late                 4.153\n",
       "Count_6-12_months_late               10.359\n",
       "Count_more_than_12_months_late        7.855\n",
       "application_underwriting_score       -3.903\n",
       "no_of_premiums_paid                   1.227\n",
       "premium                               2.198\n",
       "dtype: float64"
      ]
     },
     "execution_count": 67,
     "metadata": {},
     "output_type": "execute_result"
    }
   ],
   "source": [
    "skewed_feats[np.abs(skewed_feats) > 0.75]"
   ]
  },
  {
   "cell_type": "code",
   "execution_count": 68,
   "metadata": {
    "collapsed": true
   },
   "outputs": [],
   "source": [
    "restart_t,restart_test = train.copy(),test.copy()"
   ]
  },
  {
   "cell_type": "code",
   "execution_count": 75,
   "metadata": {
    "collapsed": true
   },
   "outputs": [],
   "source": [
    "train,test = restart_t.copy(),restart_test.copy()"
   ]
  },
  {
   "cell_type": "code",
   "execution_count": 69,
   "metadata": {
    "collapsed": true
   },
   "outputs": [],
   "source": [
    "#log transform skewed numeric features:\n",
    "\n",
    "skewed_feats = skewed_feats[np.abs(skewed_feats) > 0.75]\n",
    "skewed_feats = skewed_feats.index\n",
    "\n",
    "train[skewed_feats] = train[skewed_feats].apply(lambda x: np.log(1 + np.log(2 + x))) #as we have -1 as minimum value\n",
    "test[skewed_feats] = test[skewed_feats].apply(lambda x: np.log(1 + np.log(2 + x)))\n"
   ]
  },
  {
   "cell_type": "code",
   "execution_count": 70,
   "metadata": {},
   "outputs": [
    {
     "name": "stdout",
     "output_type": "stream",
     "text": [
      "['residence_area_type']\n"
     ]
    }
   ],
   "source": [
    "#Transform features\n",
    "le = LabelEncoder()\n",
    "bin_cols = []\n",
    "for col in cat_col:\n",
    "    if train[col].nunique() <= 2:\n",
    "        bin_cols.append(col)\n",
    "        le.fit(train[col])\n",
    "        train[col] = le.transform(train[col])        \n",
    "        test[col] = le.transform(test[col])   \n",
    "\n",
    "print(bin_cols)"
   ]
  },
  {
   "cell_type": "code",
   "execution_count": 71,
   "metadata": {
    "collapsed": true
   },
   "outputs": [],
   "source": [
    "dummy_cols = [i for i in cat_col if i not in bin_cols]"
   ]
  },
  {
   "cell_type": "code",
   "execution_count": 72,
   "metadata": {},
   "outputs": [
    {
     "data": {
      "text/plain": [
       "['sourcing_channel']"
      ]
     },
     "execution_count": 72,
     "metadata": {},
     "output_type": "execute_result"
    }
   ],
   "source": [
    "dummy_cols"
   ]
  },
  {
   "cell_type": "code",
   "execution_count": 73,
   "metadata": {},
   "outputs": [
    {
     "name": "stdout",
     "output_type": "stream",
     "text": [
      "Time taken:  0.16251301765441895\n",
      "Time taken:  0.2506296634674072\n"
     ]
    }
   ],
   "source": [
    "train,test = cat_all(train,test,dummy_cols)"
   ]
  },
  {
   "cell_type": "code",
   "execution_count": 74,
   "metadata": {},
   "outputs": [
    {
     "name": "stdout",
     "output_type": "stream",
     "text": [
      "Not in test ['renewal']\n",
      "Not in train []\n"
     ]
    }
   ],
   "source": [
    "not_in_test = []\n",
    "for col in train.columns:\n",
    "    if col not in test.columns:\n",
    "        not_in_test.append(col)\n",
    "print(\"Not in test\",not_in_test)\n",
    "not_in_train = []\n",
    "for col in test.columns:\n",
    "    if col not in train.columns:\n",
    "        not_in_train.append(col)\n",
    "print(\"Not in train\",not_in_train)"
   ]
  },
  {
   "cell_type": "code",
   "execution_count": 82,
   "metadata": {
    "collapsed": true
   },
   "outputs": [],
   "source": [
    "#train.to_csv(os.path.join(folder,'train_cleaned.csv'))\n",
    "#test.to_csv(os.path.join(folder,'test_cleaned.csv'))"
   ]
  },
  {
   "cell_type": "code",
   "execution_count": 75,
   "metadata": {
    "collapsed": true
   },
   "outputs": [],
   "source": [
    "target = train.pop('renewal')"
   ]
  },
  {
   "cell_type": "code",
   "execution_count": 76,
   "metadata": {},
   "outputs": [
    {
     "data": {
      "text/plain": [
       "float64    8\n",
       "int64      6\n",
       "dtype: int64"
      ]
     },
     "execution_count": 76,
     "metadata": {},
     "output_type": "execute_result"
    }
   ],
   "source": [
    "train.dtypes.value_counts()"
   ]
  },
  {
   "cell_type": "code",
   "execution_count": 77,
   "metadata": {},
   "outputs": [
    {
     "data": {
      "text/plain": [
       "float64    8\n",
       "int64      6\n",
       "dtype: int64"
      ]
     },
     "execution_count": 77,
     "metadata": {},
     "output_type": "execute_result"
    }
   ],
   "source": [
    "test.dtypes.value_counts()"
   ]
  },
  {
   "cell_type": "code",
   "execution_count": 78,
   "metadata": {
    "collapsed": true
   },
   "outputs": [],
   "source": [
    "weight_dict = {0:train.shape[0]/target.value_counts()[0], 1:train.shape[0]/target.value_counts()[1]}"
   ]
  },
  {
   "cell_type": "code",
   "execution_count": 79,
   "metadata": {},
   "outputs": [
    {
     "data": {
      "text/plain": [
       "{0: 15.976990796318528, 1: 1.0667690869013426}"
      ]
     },
     "execution_count": 79,
     "metadata": {},
     "output_type": "execute_result"
    }
   ],
   "source": [
    "weight_dict"
   ]
  },
  {
   "cell_type": "code",
   "execution_count": 86,
   "metadata": {
    "collapsed": true
   },
   "outputs": [],
   "source": [
    "model = xgb.sklearn.XGBClassifier(seed=42,max_depth = 6, colsample_bylevel=0.8, \n",
    "                                  colsample_bytree=0.8,base_score = 0.5, random_state=seed,\n",
    "                                  min_child_weight=1, scale_pos_weight = 1)"
   ]
  },
  {
   "cell_type": "code",
   "execution_count": 80,
   "metadata": {
    "collapsed": true
   },
   "outputs": [],
   "source": [
    "kfold = StratifiedKFold(n_splits=5, shuffle=True, random_state=seed)"
   ]
  },
  {
   "cell_type": "code",
   "execution_count": 88,
   "metadata": {},
   "outputs": [
    {
     "name": "stdout",
     "output_type": "stream",
     "text": [
      "[CV]  ................................................................\n",
      "[CV] ........................ , score=0.835142007881905, total=   3.7s\n",
      "[CV]  ................................................................\n"
     ]
    },
    {
     "name": "stderr",
     "output_type": "stream",
     "text": [
      "[Parallel(n_jobs=1)]: Done   1 out of   1 | elapsed:    3.7s remaining:    0.0s\n"
     ]
    },
    {
     "name": "stdout",
     "output_type": "stream",
     "text": [
      "[CV] ....................... , score=0.8440446195978892, total=   3.7s\n",
      "[CV]  ................................................................\n"
     ]
    },
    {
     "name": "stderr",
     "output_type": "stream",
     "text": [
      "[Parallel(n_jobs=1)]: Done   2 out of   2 | elapsed:    7.5s remaining:    0.0s\n"
     ]
    },
    {
     "name": "stdout",
     "output_type": "stream",
     "text": [
      "[CV] ....................... , score=0.8332884242869548, total=   3.8s\n",
      "[CV]  ................................................................\n"
     ]
    },
    {
     "name": "stderr",
     "output_type": "stream",
     "text": [
      "[Parallel(n_jobs=1)]: Done   3 out of   3 | elapsed:   11.4s remaining:    0.0s\n"
     ]
    },
    {
     "name": "stdout",
     "output_type": "stream",
     "text": [
      "[CV] ....................... , score=0.8390504591827149, total=   3.9s\n",
      "[CV]  ................................................................\n"
     ]
    },
    {
     "name": "stderr",
     "output_type": "stream",
     "text": [
      "[Parallel(n_jobs=1)]: Done   4 out of   4 | elapsed:   15.4s remaining:    0.0s\n"
     ]
    },
    {
     "name": "stdout",
     "output_type": "stream",
     "text": [
      "[CV] ....................... , score=0.8465766548058979, total=   3.8s\n"
     ]
    },
    {
     "name": "stderr",
     "output_type": "stream",
     "text": [
      "[Parallel(n_jobs=1)]: Done   5 out of   5 | elapsed:   19.2s finished\n"
     ]
    }
   ],
   "source": [
    "cross_val = cross_val_score(model, train, target,cv = kfold,verbose = 5 , scoring = 'roc_auc')"
   ]
  },
  {
   "cell_type": "code",
   "execution_count": 89,
   "metadata": {},
   "outputs": [
    {
     "data": {
      "text/plain": [
       "0.8396204331510724"
      ]
     },
     "execution_count": 89,
     "metadata": {},
     "output_type": "execute_result"
    }
   ],
   "source": [
    "cross_val.mean() #0.8396204331510724"
   ]
  },
  {
   "cell_type": "code",
   "execution_count": 117,
   "metadata": {
    "collapsed": true
   },
   "outputs": [],
   "source": [
    "train = train[imp_cols]\n",
    "test = test[imp_cols]"
   ]
  },
  {
   "cell_type": "code",
   "execution_count": 118,
   "metadata": {
    "collapsed": true
   },
   "outputs": [],
   "source": [
    "X_train, X_test, y_train, y_test = train_test_split(train, target, random_state=seed,test_size=0.25)\n",
    "scaler = StandardScaler()\n",
    "X_train_scaled = scaler.fit_transform(X_train)\n",
    "X_test_scaled = scaler.transform(X_test)\n",
    "X_pred = scaler.transform(test)"
   ]
  },
  {
   "cell_type": "code",
   "execution_count": 119,
   "metadata": {},
   "outputs": [
    {
     "name": "stdout",
     "output_type": "stream",
     "text": [
      "(59889, 8) (19964, 8) (59889,) (19964,)\n"
     ]
    }
   ],
   "source": [
    "print(X_train.shape, X_test.shape, y_train.shape, y_test.shape)"
   ]
  },
  {
   "cell_type": "code",
   "execution_count": 83,
   "metadata": {},
   "outputs": [
    {
     "name": "stdout",
     "output_type": "stream",
     "text": [
      "Baseline score is 0.50\n"
     ]
    }
   ],
   "source": [
    "#Baseline model\n",
    "# Get predictions on the test set\n",
    "baseline_predictions = np.zeros(y_test.shape)\n",
    "\n",
    "# Compute baseline\n",
    "baseline = roc_auc_score(y_test, baseline_predictions)\n",
    "\n",
    "print(\"Baseline score is {:.2f}\".format(baseline))"
   ]
  },
  {
   "cell_type": "code",
   "execution_count": 120,
   "metadata": {
    "scrolled": true
   },
   "outputs": [
    {
     "name": "stdout",
     "output_type": "stream",
     "text": [
      "[0]\tvalidation_0-auc:0.624728\n",
      "Will train until validation_0-auc hasn't improved in 10 rounds.\n",
      "[1]\tvalidation_0-auc:0.736713\n",
      "[2]\tvalidation_0-auc:0.762936\n",
      "[3]\tvalidation_0-auc:0.761245\n",
      "[4]\tvalidation_0-auc:0.761245\n",
      "[5]\tvalidation_0-auc:0.790964\n",
      "[6]\tvalidation_0-auc:0.79255\n",
      "[7]\tvalidation_0-auc:0.792791\n",
      "[8]\tvalidation_0-auc:0.800326\n",
      "[9]\tvalidation_0-auc:0.803474\n",
      "[10]\tvalidation_0-auc:0.802566\n",
      "[11]\tvalidation_0-auc:0.803612\n",
      "[12]\tvalidation_0-auc:0.804155\n",
      "[13]\tvalidation_0-auc:0.803239\n",
      "[14]\tvalidation_0-auc:0.8028\n",
      "[15]\tvalidation_0-auc:0.802549\n",
      "[16]\tvalidation_0-auc:0.802346\n",
      "[17]\tvalidation_0-auc:0.802346\n",
      "[18]\tvalidation_0-auc:0.806521\n",
      "[19]\tvalidation_0-auc:0.80722\n",
      "[20]\tvalidation_0-auc:0.808118\n",
      "[21]\tvalidation_0-auc:0.807917\n",
      "[22]\tvalidation_0-auc:0.808387\n",
      "[23]\tvalidation_0-auc:0.812475\n",
      "[24]\tvalidation_0-auc:0.812658\n",
      "[25]\tvalidation_0-auc:0.814374\n",
      "[26]\tvalidation_0-auc:0.8141\n",
      "[27]\tvalidation_0-auc:0.815211\n",
      "[28]\tvalidation_0-auc:0.814801\n",
      "[29]\tvalidation_0-auc:0.815096\n",
      "[30]\tvalidation_0-auc:0.814816\n",
      "[31]\tvalidation_0-auc:0.821272\n",
      "[32]\tvalidation_0-auc:0.821027\n",
      "[33]\tvalidation_0-auc:0.820749\n",
      "[34]\tvalidation_0-auc:0.820836\n",
      "[35]\tvalidation_0-auc:0.82578\n",
      "[36]\tvalidation_0-auc:0.825394\n",
      "[37]\tvalidation_0-auc:0.825722\n",
      "[38]\tvalidation_0-auc:0.825943\n",
      "[39]\tvalidation_0-auc:0.826298\n",
      "[40]\tvalidation_0-auc:0.826322\n",
      "[41]\tvalidation_0-auc:0.826173\n",
      "[42]\tvalidation_0-auc:0.826977\n",
      "[43]\tvalidation_0-auc:0.826539\n",
      "[44]\tvalidation_0-auc:0.826798\n",
      "[45]\tvalidation_0-auc:0.8268\n",
      "[46]\tvalidation_0-auc:0.827749\n",
      "[47]\tvalidation_0-auc:0.827821\n",
      "[48]\tvalidation_0-auc:0.827857\n",
      "[49]\tvalidation_0-auc:0.828449\n",
      "[50]\tvalidation_0-auc:0.828531\n",
      "[51]\tvalidation_0-auc:0.828622\n",
      "[52]\tvalidation_0-auc:0.828868\n",
      "[53]\tvalidation_0-auc:0.828804\n",
      "[54]\tvalidation_0-auc:0.828898\n",
      "[55]\tvalidation_0-auc:0.828828\n",
      "[56]\tvalidation_0-auc:0.828464\n",
      "[57]\tvalidation_0-auc:0.829033\n",
      "[58]\tvalidation_0-auc:0.829762\n",
      "[59]\tvalidation_0-auc:0.829806\n",
      "[60]\tvalidation_0-auc:0.830319\n",
      "[61]\tvalidation_0-auc:0.830254\n",
      "[62]\tvalidation_0-auc:0.830308\n",
      "[63]\tvalidation_0-auc:0.830003\n",
      "[64]\tvalidation_0-auc:0.829874\n",
      "[65]\tvalidation_0-auc:0.829902\n",
      "[66]\tvalidation_0-auc:0.830514\n",
      "[67]\tvalidation_0-auc:0.831589\n",
      "[68]\tvalidation_0-auc:0.831664\n",
      "[69]\tvalidation_0-auc:0.831679\n",
      "[70]\tvalidation_0-auc:0.831266\n",
      "[71]\tvalidation_0-auc:0.831343\n",
      "[72]\tvalidation_0-auc:0.831536\n",
      "[73]\tvalidation_0-auc:0.831637\n",
      "[74]\tvalidation_0-auc:0.831177\n",
      "[75]\tvalidation_0-auc:0.831195\n",
      "[76]\tvalidation_0-auc:0.831219\n",
      "[77]\tvalidation_0-auc:0.831416\n",
      "[78]\tvalidation_0-auc:0.83178\n",
      "[79]\tvalidation_0-auc:0.831539\n",
      "[80]\tvalidation_0-auc:0.831665\n",
      "[81]\tvalidation_0-auc:0.831694\n",
      "[82]\tvalidation_0-auc:0.831941\n",
      "[83]\tvalidation_0-auc:0.831964\n",
      "[84]\tvalidation_0-auc:0.832172\n",
      "[85]\tvalidation_0-auc:0.832071\n",
      "[86]\tvalidation_0-auc:0.832225\n",
      "[87]\tvalidation_0-auc:0.832226\n",
      "[88]\tvalidation_0-auc:0.832417\n",
      "[89]\tvalidation_0-auc:0.832448\n",
      "[90]\tvalidation_0-auc:0.832692\n",
      "[91]\tvalidation_0-auc:0.832753\n",
      "[92]\tvalidation_0-auc:0.832854\n",
      "[93]\tvalidation_0-auc:0.832985\n",
      "[94]\tvalidation_0-auc:0.833068\n",
      "[95]\tvalidation_0-auc:0.833174\n",
      "[96]\tvalidation_0-auc:0.833208\n",
      "[97]\tvalidation_0-auc:0.833321\n",
      "[98]\tvalidation_0-auc:0.833124\n",
      "[99]\tvalidation_0-auc:0.833098\n"
     ]
    },
    {
     "name": "stderr",
     "output_type": "stream",
     "text": [
      "C:\\Anaconda3\\lib\\site-packages\\sklearn\\preprocessing\\label.py:151: DeprecationWarning: The truth value of an empty array is ambiguous. Returning False, but in future this will result in an error. Use `array.size > 0` to check that an array is not empty.\n",
      "  if diff:\n"
     ]
    }
   ],
   "source": [
    "#consider weight balance as it is imbalanced dataset\n",
    "model = xgb.sklearn.XGBClassifier(seed=seed,max_depth = 1, colsample_bylevel=0.7,\n",
    "                                       colsample_bytree=0.7,sample = 0.9,base_score = 0.6,gamma = 0, random_state=seed,\n",
    "                                  min_child_weight=36, scale_pos_weight = 1)\n",
    "eval_set = [(X_test_scaled, y_test)]\n",
    "model.fit(X_train_scaled, y_train, early_stopping_rounds=10, eval_metric=\"auc\", eval_set=eval_set, verbose=True)\n",
    "#### make predictions for test data\n",
    "y_pred = model.predict(X_test_scaled)"
   ]
  },
  {
   "cell_type": "code",
   "execution_count": 121,
   "metadata": {},
   "outputs": [
    {
     "name": "stdout",
     "output_type": "stream",
     "text": [
      "ROC AUC score: 54.65%\n"
     ]
    }
   ],
   "source": [
    "#### evaluate predictions\n",
    "score = roc_auc_score(y_test, y_pred)\n",
    "print(\"ROC AUC score: {0:.2f}%\".format(score * 100.0)) #54.8%"
   ]
  },
  {
   "cell_type": "code",
   "execution_count": 89,
   "metadata": {},
   "outputs": [
    {
     "name": "stdout",
     "output_type": "stream",
     "text": [
      "Error rate  :  0.06141053897014626\n",
      "Accuracy  :  0.9385894610298537\n",
      "Sensitivity  :  0.9947092774690038\n",
      "Specificity  :  0.9947092774690038\n",
      "False positive rate  :  0.9001597444089456\n"
     ]
    }
   ],
   "source": [
    "from sklearn.metrics import confusion_matrix\n",
    "tn, fp, fn, tp = confusion_matrix(y_test,y_pred).ravel()\n",
    "# Error rate : \n",
    "err_rate = (fp + fn) / (tp + tn + fn + fp)\n",
    "print(\"Error rate  : \", err_rate)\n",
    "# Accuracy : \n",
    "acc_ = (tp + tn) / (tp + tn + fn + fp)\n",
    "print(\"Accuracy  : \", acc_)\n",
    "# Sensitivity : \n",
    "sens_ = tp / (tp + fn)\n",
    "print(\"Sensitivity  : \", sens_)\n",
    "# Specificity \n",
    "sp_ = tn / (tn + fp)\n",
    "print(\"Specificity  : \", sens_)\n",
    "# False positive rate (FPR)\n",
    "FPR = fp / (tn + fp)\n",
    "print(\"False positive rate  : \", FPR)"
   ]
  },
  {
   "cell_type": "code",
   "execution_count": null,
   "metadata": {
    "collapsed": true
   },
   "outputs": [],
   "source": []
  },
  {
   "cell_type": "markdown",
   "metadata": {},
   "source": [
    "### Parameter Tuning\n",
    "\n",
    "There are in general two ways that you can control overfitting in xgboost :  \n",
    "* The first way is to directly control model complexity◦This include max_depth, min_child_weight and gamma  \n",
    "* The second way is to add randomness to make training robust to noise◦This include subsample, colsample_bytree  \n",
    "* You can also reduce stepsize eta, but needs to remember to increase num_round when you do so\n"
   ]
  },
  {
   "cell_type": "code",
   "execution_count": null,
   "metadata": {
    "collapsed": true
   },
   "outputs": [],
   "source": [
    "#XGBoost hyperparameters\n",
    "'''\n",
    "max_depth=3, learning_rate=0.1, n_estimators=100, \n",
    "                                  objective='binary:logistic', booster='gbtree', n_jobs=4, \n",
    "                                  gamma=0, min_child_weight=1, max_delta_step=0, \n",
    "                                  subsample=0.8, colsample_bytree=0.8, colsample_bylevel=0.8, \n",
    "                                  reg_alpha=0, reg_lambda=1, scale_pos_weight=1, \n",
    "                                  base_score=0.5, random_state=seed, seed=seed\n",
    "'''"
   ]
  },
  {
   "cell_type": "code",
   "execution_count": null,
   "metadata": {
    "collapsed": true
   },
   "outputs": [],
   "source": [
    "'''\n",
    "Steps:\n",
    "1. Fix learning rate and number of estimators {'learning_rate' : 0.3, 'n_estimators' : 100}\n",
    "2. Tune max_depth and min_child_weight 'max_depth':range(3,10,2), 'min_child_weight':range(1,6,2)\n",
    "3. Tune gamma 'gamma':[i/10.0 for i in range(0,5)]\n",
    "4. Tune subsample and colsample_bytree   {    'subsample':[i/10.0 for i in range(6,10)],\n",
    "'colsample_bytree':[i/10.0 for i in range(6,10)]}\n",
    "5. Reducing Learning Rate in order to reduce overfit\n",
    "'''"
   ]
  },
  {
   "cell_type": "code",
   "execution_count": 122,
   "metadata": {},
   "outputs": [
    {
     "name": "stdout",
     "output_type": "stream",
     "text": [
      "Fitting 5 folds for each of 12 candidates, totalling 60 fits\n"
     ]
    },
    {
     "name": "stderr",
     "output_type": "stream",
     "text": [
      "[Parallel(n_jobs=4)]: Done   5 tasks      | elapsed:    4.1s\n",
      "[Parallel(n_jobs=4)]: Done  10 tasks      | elapsed:    5.3s\n",
      "[Parallel(n_jobs=4)]: Done  17 tasks      | elapsed:    7.5s\n",
      "[Parallel(n_jobs=4)]: Done  24 tasks      | elapsed:   12.0s\n",
      "[Parallel(n_jobs=4)]: Done  33 tasks      | elapsed:   19.0s\n",
      "[Parallel(n_jobs=4)]: Done  42 tasks      | elapsed:   27.3s\n",
      "[Parallel(n_jobs=4)]: Done  53 tasks      | elapsed:   41.1s\n",
      "[Parallel(n_jobs=4)]: Done  60 out of  60 | elapsed:   47.6s remaining:    0.0s\n",
      "[Parallel(n_jobs=4)]: Done  60 out of  60 | elapsed:   47.6s finished\n"
     ]
    },
    {
     "data": {
      "text/plain": [
       "({'max_depth': 3, 'min_child_weight': 20}, 0.840672922134079)"
      ]
     },
     "execution_count": 122,
     "metadata": {},
     "output_type": "execute_result"
    }
   ],
   "source": [
    "model = xgb.sklearn.XGBClassifier(learning_rate=0.3, n_estimators=100, \n",
    "                                  objective='binary:logistic', \n",
    "                                  gamma=0, max_delta_step=0, \n",
    "                                  subsample=0.9, colsample_bytree=0.7, colsample_bylevel=0.7, \n",
    "                                  reg_alpha=0, reg_lambda=1, scale_pos_weight=1, \n",
    "                                  base_score=0.5, random_state=seed, seed=seed)\n",
    "\n",
    "param_test1 = {'max_depth':[int(0.1*train.shape[1]),int(0.4*train.shape[1]),int(0.8*train.shape[1])],\n",
    "               'min_child_weight': [1,8,20,36]} #[i for i in range(5,12,3)]\n",
    "grid_search1 = GridSearchCV(model, param_grid = param_test1, scoring=\"roc_auc\", n_jobs=4, cv=kfold, verbose=10)\n",
    "result = grid_search1.fit(train,target)\n",
    "\n",
    "grid_search1.best_params_,grid_search1.best_score_"
   ]
  },
  {
   "cell_type": "code",
   "execution_count": 123,
   "metadata": {
    "collapsed": true
   },
   "outputs": [],
   "source": [
    "def check_model(model_fn):\n",
    "    model_fn.fit(X_train_scaled, y_train, early_stopping_rounds=10, eval_metric=\"auc\", eval_set=eval_set, verbose=True)\n",
    "    #### make predictions for test data\n",
    "    y_pred = model_fn.predict(X_test_scaled)\n",
    "    score = roc_auc_score(y_test, y_pred)\n",
    "    print(\"ROC AUC score: {0:.2f}%\".format(score * 100.0))"
   ]
  },
  {
   "cell_type": "code",
   "execution_count": 124,
   "metadata": {},
   "outputs": [
    {
     "name": "stdout",
     "output_type": "stream",
     "text": [
      "Fitting 5 folds for each of 3 candidates, totalling 15 fits\n"
     ]
    },
    {
     "name": "stderr",
     "output_type": "stream",
     "text": [
      "[Parallel(n_jobs=4)]: Done   5 tasks      | elapsed:   33.1s\n",
      "[Parallel(n_jobs=4)]: Done  10 out of  15 | elapsed:   49.8s remaining:   24.8s\n",
      "[Parallel(n_jobs=4)]: Done  12 out of  15 | elapsed:   52.9s remaining:   13.2s\n",
      "[Parallel(n_jobs=4)]: Done  15 out of  15 | elapsed:  1.1min finished\n"
     ]
    },
    {
     "data": {
      "text/plain": [
       "({'min_child_weight': 32}, 0.8336994944552567)"
      ]
     },
     "execution_count": 124,
     "metadata": {},
     "output_type": "execute_result"
    }
   ],
   "source": [
    "model = xgb.sklearn.XGBClassifier(max_depth = 3,learning_rate=0.3, n_estimators=500, \n",
    "                                  objective='binary:logistic', \n",
    "                                  gamma=0, min_child_weight= 1, max_delta_step=0, \n",
    "                                  subsample=0.8, colsample_bytree=0.8, colsample_bylevel=0.8, \n",
    "                                  reg_alpha=0, reg_lambda=1, scale_pos_weight=1, \n",
    "                                  base_score=0.5, random_state=seed, seed=seed)\n",
    "\n",
    "param_test1 = {'min_child_weight': [24,28,32]} #[i for i in range(5,12,3)]\n",
    "grid_search1 = GridSearchCV(model, param_grid = param_test1, scoring=\"roc_auc\", n_jobs=4, cv=kfold, verbose=10)\n",
    "result = grid_search1.fit(train,target)\n",
    "\n",
    "grid_search1.best_params_,grid_search1.best_score_"
   ]
  },
  {
   "cell_type": "code",
   "execution_count": 125,
   "metadata": {
    "scrolled": true
   },
   "outputs": [
    {
     "name": "stdout",
     "output_type": "stream",
     "text": [
      "[0]\tvalidation_0-auc:0.715068\n",
      "Will train until validation_0-auc hasn't improved in 10 rounds.\n",
      "[1]\tvalidation_0-auc:0.771528\n",
      "[2]\tvalidation_0-auc:0.818658\n",
      "[3]\tvalidation_0-auc:0.818335\n",
      "[4]\tvalidation_0-auc:0.828204\n",
      "[5]\tvalidation_0-auc:0.827973\n",
      "[6]\tvalidation_0-auc:0.829906\n",
      "[7]\tvalidation_0-auc:0.831386\n",
      "[8]\tvalidation_0-auc:0.832386\n",
      "[9]\tvalidation_0-auc:0.833071\n",
      "[10]\tvalidation_0-auc:0.834373\n",
      "[11]\tvalidation_0-auc:0.834547\n",
      "[12]\tvalidation_0-auc:0.834379\n",
      "[13]\tvalidation_0-auc:0.835124\n",
      "[14]\tvalidation_0-auc:0.836377\n",
      "[15]\tvalidation_0-auc:0.837057\n",
      "[16]\tvalidation_0-auc:0.83707\n",
      "[17]\tvalidation_0-auc:0.837023\n",
      "[18]\tvalidation_0-auc:0.837202\n",
      "[19]\tvalidation_0-auc:0.837433\n",
      "[20]\tvalidation_0-auc:0.837755\n",
      "[21]\tvalidation_0-auc:0.837815\n",
      "[22]\tvalidation_0-auc:0.838224\n",
      "[23]\tvalidation_0-auc:0.838819\n",
      "[24]\tvalidation_0-auc:0.839455\n",
      "[25]\tvalidation_0-auc:0.839285\n",
      "[26]\tvalidation_0-auc:0.839423\n",
      "[27]\tvalidation_0-auc:0.839613\n",
      "[28]\tvalidation_0-auc:0.839732\n",
      "[29]\tvalidation_0-auc:0.839733\n",
      "[30]\tvalidation_0-auc:0.839713\n",
      "[31]\tvalidation_0-auc:0.839584\n",
      "[32]\tvalidation_0-auc:0.839949\n",
      "[33]\tvalidation_0-auc:0.840093\n",
      "[34]\tvalidation_0-auc:0.840108\n",
      "[35]\tvalidation_0-auc:0.840229\n",
      "[36]\tvalidation_0-auc:0.840186\n",
      "[37]\tvalidation_0-auc:0.840285\n",
      "[38]\tvalidation_0-auc:0.840309\n",
      "[39]\tvalidation_0-auc:0.840409\n",
      "[40]\tvalidation_0-auc:0.84049\n",
      "[41]\tvalidation_0-auc:0.840525\n",
      "[42]\tvalidation_0-auc:0.840488\n",
      "[43]\tvalidation_0-auc:0.840533\n",
      "[44]\tvalidation_0-auc:0.840476\n",
      "[45]\tvalidation_0-auc:0.840525\n",
      "[46]\tvalidation_0-auc:0.840533\n",
      "[47]\tvalidation_0-auc:0.840544\n",
      "[48]\tvalidation_0-auc:0.840732\n",
      "[49]\tvalidation_0-auc:0.84082\n",
      "[50]\tvalidation_0-auc:0.840757\n",
      "[51]\tvalidation_0-auc:0.840661\n",
      "[52]\tvalidation_0-auc:0.840705\n",
      "[53]\tvalidation_0-auc:0.840735\n",
      "[54]\tvalidation_0-auc:0.840795\n",
      "[55]\tvalidation_0-auc:0.840481\n",
      "[56]\tvalidation_0-auc:0.840456\n",
      "[57]\tvalidation_0-auc:0.840487\n",
      "[58]\tvalidation_0-auc:0.8405\n",
      "[59]\tvalidation_0-auc:0.840476\n",
      "Stopping. Best iteration:\n",
      "[49]\tvalidation_0-auc:0.84082\n",
      "\n",
      "ROC AUC score: 56.32%\n"
     ]
    },
    {
     "name": "stderr",
     "output_type": "stream",
     "text": [
      "C:\\Anaconda3\\lib\\site-packages\\sklearn\\preprocessing\\label.py:151: DeprecationWarning: The truth value of an empty array is ambiguous. Returning False, but in future this will result in an error. Use `array.size > 0` to check that an array is not empty.\n",
      "  if diff:\n"
     ]
    }
   ],
   "source": [
    "model_fin = xgb.sklearn.XGBClassifier(max_depth = 3, min_child_weight = 32,learning_rate=0.3, n_estimators=500, \n",
    "                                  objective='binary:logistic', \n",
    "                                  gamma=0, max_delta_step=0, \n",
    "                                  subsample=0.9, colsample_bytree=0.7, colsample_bylevel=0.7, \n",
    "                                  reg_alpha=0, reg_lambda=1, scale_pos_weight=1, \n",
    "                                  base_score=0.6, random_state=seed, seed=seed)\n",
    "\n",
    "check_model(model_fin)"
   ]
  },
  {
   "cell_type": "code",
   "execution_count": 126,
   "metadata": {
    "scrolled": true
   },
   "outputs": [
    {
     "name": "stdout",
     "output_type": "stream",
     "text": [
      "Fitting 5 folds for each of 5 candidates, totalling 25 fits\n"
     ]
    },
    {
     "name": "stderr",
     "output_type": "stream",
     "text": [
      "[Parallel(n_jobs=4)]: Done   5 tasks      | elapsed:   29.9s\n",
      "[Parallel(n_jobs=4)]: Done  10 tasks      | elapsed:   44.5s\n",
      "[Parallel(n_jobs=4)]: Done  17 tasks      | elapsed:  1.2min\n",
      "[Parallel(n_jobs=4)]: Done  21 out of  25 | elapsed:  1.4min remaining:   16.0s\n",
      "[Parallel(n_jobs=4)]: Done  25 out of  25 | elapsed:  1.6min finished\n"
     ]
    },
    {
     "data": {
      "text/plain": [
       "({'gamma': 0.3}, 0.8349014931502781)"
      ]
     },
     "execution_count": 126,
     "metadata": {},
     "output_type": "execute_result"
    }
   ],
   "source": [
    "model = xgb.sklearn.XGBClassifier(max_depth = 3, min_child_weight = 32,learning_rate=0.3, n_estimators=500, \n",
    "                                  objective='binary:logistic', \n",
    "                                  max_delta_step=0, \n",
    "                                  subsample=0.9, colsample_bytree=0.7, colsample_bylevel=0.7, \n",
    "                                  reg_alpha=0, reg_lambda=1, scale_pos_weight=1, \n",
    "                                  base_score=0.6, random_state=seed, seed=seed)\n",
    "\n",
    "param_test1 = {'gamma':[i/10.0 for i in range(0,5)]}\n",
    "grid_search1 = GridSearchCV(model, param_grid = param_test1, scoring=\"roc_auc\", n_jobs=4, cv=kfold, verbose=10)\n",
    "result = grid_search1.fit(train,target)\n",
    "\n",
    "grid_search1.best_params_,grid_search1.best_score_"
   ]
  },
  {
   "cell_type": "code",
   "execution_count": 127,
   "metadata": {
    "scrolled": true
   },
   "outputs": [
    {
     "name": "stdout",
     "output_type": "stream",
     "text": [
      "[0]\tvalidation_0-auc:0.715068\n",
      "Will train until validation_0-auc hasn't improved in 10 rounds.\n",
      "[1]\tvalidation_0-auc:0.771528\n",
      "[2]\tvalidation_0-auc:0.818658\n",
      "[3]\tvalidation_0-auc:0.818335\n",
      "[4]\tvalidation_0-auc:0.828204\n",
      "[5]\tvalidation_0-auc:0.827973\n",
      "[6]\tvalidation_0-auc:0.829906\n",
      "[7]\tvalidation_0-auc:0.831386\n",
      "[8]\tvalidation_0-auc:0.832386\n",
      "[9]\tvalidation_0-auc:0.833071\n",
      "[10]\tvalidation_0-auc:0.834373\n",
      "[11]\tvalidation_0-auc:0.834547\n",
      "[12]\tvalidation_0-auc:0.834379\n",
      "[13]\tvalidation_0-auc:0.835124\n",
      "[14]\tvalidation_0-auc:0.836377\n",
      "[15]\tvalidation_0-auc:0.837057\n",
      "[16]\tvalidation_0-auc:0.83707\n",
      "[17]\tvalidation_0-auc:0.837023\n",
      "[18]\tvalidation_0-auc:0.837202\n",
      "[19]\tvalidation_0-auc:0.837433\n",
      "[20]\tvalidation_0-auc:0.837755\n",
      "[21]\tvalidation_0-auc:0.837815\n",
      "[22]\tvalidation_0-auc:0.838224\n",
      "[23]\tvalidation_0-auc:0.838819\n",
      "[24]\tvalidation_0-auc:0.839455\n",
      "[25]\tvalidation_0-auc:0.839285\n",
      "[26]\tvalidation_0-auc:0.839423\n",
      "[27]\tvalidation_0-auc:0.839613\n",
      "[28]\tvalidation_0-auc:0.839732\n",
      "[29]\tvalidation_0-auc:0.839733\n",
      "[30]\tvalidation_0-auc:0.839713\n",
      "[31]\tvalidation_0-auc:0.839584\n",
      "[32]\tvalidation_0-auc:0.839922\n",
      "[33]\tvalidation_0-auc:0.840066\n",
      "[34]\tvalidation_0-auc:0.840079\n",
      "[35]\tvalidation_0-auc:0.840202\n",
      "[36]\tvalidation_0-auc:0.84016\n",
      "[37]\tvalidation_0-auc:0.840258\n",
      "[38]\tvalidation_0-auc:0.840281\n",
      "[39]\tvalidation_0-auc:0.840377\n",
      "[40]\tvalidation_0-auc:0.84046\n",
      "[41]\tvalidation_0-auc:0.840495\n",
      "[42]\tvalidation_0-auc:0.840402\n",
      "[43]\tvalidation_0-auc:0.840338\n",
      "[44]\tvalidation_0-auc:0.840275\n",
      "[45]\tvalidation_0-auc:0.84034\n",
      "[46]\tvalidation_0-auc:0.840274\n",
      "[47]\tvalidation_0-auc:0.840359\n",
      "[48]\tvalidation_0-auc:0.840419\n",
      "[49]\tvalidation_0-auc:0.840367\n",
      "[50]\tvalidation_0-auc:0.84038\n",
      "[51]\tvalidation_0-auc:0.840388\n",
      "Stopping. Best iteration:\n",
      "[41]\tvalidation_0-auc:0.840495\n",
      "\n",
      "ROC AUC score: 56.48%\n"
     ]
    },
    {
     "name": "stderr",
     "output_type": "stream",
     "text": [
      "C:\\Anaconda3\\lib\\site-packages\\sklearn\\preprocessing\\label.py:151: DeprecationWarning: The truth value of an empty array is ambiguous. Returning False, but in future this will result in an error. Use `array.size > 0` to check that an array is not empty.\n",
      "  if diff:\n"
     ]
    }
   ],
   "source": [
    "model_fin = xgb.sklearn.XGBClassifier(max_depth = 3, min_child_weight = 32,learning_rate=0.3, n_estimators=500, \n",
    "                                  objective='binary:logistic', \n",
    "                                  gamma = 0.3,max_delta_step=0, \n",
    "                                  subsample=0.9, colsample_bytree=0.7, colsample_bylevel=0.7, \n",
    "                                  reg_alpha=0, reg_lambda=1, scale_pos_weight=1, \n",
    "                                  base_score=0.6, random_state=seed, seed=seed)\n",
    "\n",
    "check_model(model_fin)"
   ]
  },
  {
   "cell_type": "code",
   "execution_count": 128,
   "metadata": {},
   "outputs": [
    {
     "name": "stdout",
     "output_type": "stream",
     "text": [
      "Fitting 5 folds for each of 64 candidates, totalling 320 fits\n"
     ]
    },
    {
     "name": "stderr",
     "output_type": "stream",
     "text": [
      "[Parallel(n_jobs=4)]: Done   5 tasks      | elapsed:   28.8s\n",
      "[Parallel(n_jobs=4)]: Done  10 tasks      | elapsed:   45.5s\n",
      "[Parallel(n_jobs=4)]: Done  17 tasks      | elapsed:  1.2min\n",
      "[Parallel(n_jobs=4)]: Done  24 tasks      | elapsed:  1.5min\n",
      "[Parallel(n_jobs=4)]: Done  33 tasks      | elapsed:  2.2min\n",
      "[Parallel(n_jobs=4)]: Done  42 tasks      | elapsed:  2.7min\n",
      "[Parallel(n_jobs=4)]: Done  53 tasks      | elapsed:  3.5min\n",
      "[Parallel(n_jobs=4)]: Done  64 tasks      | elapsed:  4.0min\n",
      "[Parallel(n_jobs=4)]: Done  77 tasks      | elapsed:  5.1min\n",
      "[Parallel(n_jobs=4)]: Done  90 tasks      | elapsed:  5.8min\n",
      "[Parallel(n_jobs=4)]: Done 105 tasks      | elapsed:  6.7min\n",
      "[Parallel(n_jobs=4)]: Done 120 tasks      | elapsed:  7.5min\n",
      "[Parallel(n_jobs=4)]: Done 137 tasks      | elapsed:  8.9min\n",
      "[Parallel(n_jobs=4)]: Done 154 tasks      | elapsed: 10.0min\n",
      "[Parallel(n_jobs=4)]: Done 173 tasks      | elapsed: 11.3min\n",
      "[Parallel(n_jobs=4)]: Done 192 tasks      | elapsed: 12.5min\n",
      "[Parallel(n_jobs=4)]: Done 213 tasks      | elapsed: 14.1min\n",
      "[Parallel(n_jobs=4)]: Done 234 tasks      | elapsed: 15.6min\n",
      "[Parallel(n_jobs=4)]: Done 257 tasks      | elapsed: 17.1min\n",
      "[Parallel(n_jobs=4)]: Done 280 tasks      | elapsed: 18.5min\n",
      "[Parallel(n_jobs=4)]: Done 305 tasks      | elapsed: 20.9min\n",
      "[Parallel(n_jobs=4)]: Done 320 out of 320 | elapsed: 21.8min finished\n"
     ]
    },
    {
     "data": {
      "text/plain": [
       "({'colsample_bylevel': 0.6, 'colsample_bytree': 0.6, 'subsample': 0.8},\n",
       " 0.8354471556658033)"
      ]
     },
     "execution_count": 128,
     "metadata": {},
     "output_type": "execute_result"
    }
   ],
   "source": [
    "model = xgb.sklearn.XGBClassifier(max_depth = 3, min_child_weight = 32,learning_rate=0.3, n_estimators=500, \n",
    "                                  objective='binary:logistic', \n",
    "                                  gamma = 0.3,max_delta_step=0,  \n",
    "                                  reg_alpha=0, reg_lambda=1, scale_pos_weight=1, \n",
    "                                  base_score=0.6, random_state=seed, seed=seed)\n",
    "\n",
    "param_test1 = {\n",
    "    'subsample':[i/10.0 for i in range(6,10)],\n",
    "    'colsample_bytree':[i/10.0 for i in range(6,10)],\n",
    "    'colsample_bylevel':[i/10.0 for i in range(6,10)]\n",
    "}\n",
    "grid_search1 = GridSearchCV(model, param_grid = param_test1, scoring=\"roc_auc\", n_jobs=4, cv=kfold, verbose=10)\n",
    "result = grid_search1.fit(train,target)\n",
    "\n",
    "grid_search1.best_params_,grid_search1.best_score_"
   ]
  },
  {
   "cell_type": "code",
   "execution_count": 129,
   "metadata": {
    "scrolled": true
   },
   "outputs": [
    {
     "name": "stdout",
     "output_type": "stream",
     "text": [
      "[0]\tvalidation_0-auc:0.716166\n",
      "Will train until validation_0-auc hasn't improved in 10 rounds.\n",
      "[1]\tvalidation_0-auc:0.776225\n",
      "[2]\tvalidation_0-auc:0.811979\n",
      "[3]\tvalidation_0-auc:0.812546\n",
      "[4]\tvalidation_0-auc:0.826969\n",
      "[5]\tvalidation_0-auc:0.827661\n",
      "[6]\tvalidation_0-auc:0.829286\n",
      "[7]\tvalidation_0-auc:0.832962\n",
      "[8]\tvalidation_0-auc:0.833244\n",
      "[9]\tvalidation_0-auc:0.833522\n",
      "[10]\tvalidation_0-auc:0.835109\n",
      "[11]\tvalidation_0-auc:0.835859\n",
      "[12]\tvalidation_0-auc:0.835887\n",
      "[13]\tvalidation_0-auc:0.83618\n",
      "[14]\tvalidation_0-auc:0.836228\n",
      "[15]\tvalidation_0-auc:0.837065\n",
      "[16]\tvalidation_0-auc:0.836818\n",
      "[17]\tvalidation_0-auc:0.836402\n",
      "[18]\tvalidation_0-auc:0.836802\n",
      "[19]\tvalidation_0-auc:0.837579\n",
      "[20]\tvalidation_0-auc:0.837631\n",
      "[21]\tvalidation_0-auc:0.838012\n",
      "[22]\tvalidation_0-auc:0.83815\n",
      "[23]\tvalidation_0-auc:0.838207\n",
      "[24]\tvalidation_0-auc:0.838223\n",
      "[25]\tvalidation_0-auc:0.838228\n",
      "[26]\tvalidation_0-auc:0.838499\n",
      "[27]\tvalidation_0-auc:0.839021\n",
      "[28]\tvalidation_0-auc:0.839\n",
      "[29]\tvalidation_0-auc:0.839151\n",
      "[30]\tvalidation_0-auc:0.839381\n",
      "[31]\tvalidation_0-auc:0.839411\n",
      "[32]\tvalidation_0-auc:0.839404\n",
      "[33]\tvalidation_0-auc:0.839251\n",
      "[34]\tvalidation_0-auc:0.839139\n",
      "[35]\tvalidation_0-auc:0.838986\n",
      "[36]\tvalidation_0-auc:0.838988\n",
      "[37]\tvalidation_0-auc:0.839195\n",
      "[38]\tvalidation_0-auc:0.839324\n",
      "[39]\tvalidation_0-auc:0.839294\n",
      "[40]\tvalidation_0-auc:0.839298\n",
      "[41]\tvalidation_0-auc:0.839368\n",
      "Stopping. Best iteration:\n",
      "[31]\tvalidation_0-auc:0.839411\n",
      "\n",
      "ROC AUC score: 56.20%\n"
     ]
    },
    {
     "name": "stderr",
     "output_type": "stream",
     "text": [
      "C:\\Anaconda3\\lib\\site-packages\\sklearn\\preprocessing\\label.py:151: DeprecationWarning: The truth value of an empty array is ambiguous. Returning False, but in future this will result in an error. Use `array.size > 0` to check that an array is not empty.\n",
      "  if diff:\n"
     ]
    }
   ],
   "source": [
    "model_fin = xgb.sklearn.XGBClassifier(max_depth = 3, min_child_weight = 32,learning_rate=0.3, n_estimators=500, \n",
    "                                  objective='binary:logistic', \n",
    "                                  gamma = 0.3,max_delta_step=0, \n",
    "                                  subsample=0.8, colsample_bytree=0.6, colsample_bylevel=0.6, \n",
    "                                  reg_alpha=0, reg_lambda=1, scale_pos_weight=1, \n",
    "                                  base_score=0.6, random_state=seed, seed=seed)\n",
    "\n",
    "check_model(model_fin)"
   ]
  },
  {
   "cell_type": "code",
   "execution_count": 134,
   "metadata": {
    "scrolled": true
   },
   "outputs": [
    {
     "name": "stdout",
     "output_type": "stream",
     "text": [
      "Fitting 5 folds for each of 3 candidates, totalling 15 fits\n"
     ]
    },
    {
     "name": "stderr",
     "output_type": "stream",
     "text": [
      "[Parallel(n_jobs=4)]: Done   5 tasks      | elapsed:   26.5s\n",
      "[Parallel(n_jobs=4)]: Done  10 out of  15 | elapsed:   40.0s remaining:   20.0s\n",
      "[Parallel(n_jobs=4)]: Done  12 out of  15 | elapsed:   42.9s remaining:   10.6s\n",
      "[Parallel(n_jobs=4)]: Done  15 out of  15 | elapsed:   51.9s finished\n"
     ]
    },
    {
     "data": {
      "text/plain": [
       "({'base_score': 0.1, 'scale_pos_weight': 1}, 0.8356191824883132)"
      ]
     },
     "execution_count": 134,
     "metadata": {},
     "output_type": "execute_result"
    }
   ],
   "source": [
    "model = xgb.sklearn.XGBClassifier(max_depth = 3, min_child_weight = 32,learning_rate=0.3, n_estimators=500, \n",
    "                                  objective='binary:logistic', \n",
    "                                  gamma = 0.3,max_delta_step=0, \n",
    "                                  subsample=0.8, colsample_bytree=0.6, colsample_bylevel=0.6, \n",
    "                                  reg_alpha=0, reg_lambda=1, random_state=seed, seed=seed)\n",
    "\n",
    "param_test1 = {\n",
    "    'base_score':[i/10.0 for i in range(1,4)],\n",
    "    'scale_pos_weight':[1+i*3 for i in range(0,1)]\n",
    "}\n",
    "grid_search1 = GridSearchCV(model, param_grid = param_test1, scoring=\"roc_auc\", n_jobs=4, cv=kfold, verbose=10)\n",
    "result = grid_search1.fit(train,target)\n",
    "\n",
    "grid_search1.best_params_,grid_search1.best_score_"
   ]
  },
  {
   "cell_type": "code",
   "execution_count": 135,
   "metadata": {
    "scrolled": true
   },
   "outputs": [
    {
     "name": "stdout",
     "output_type": "stream",
     "text": [
      "[0]\tvalidation_0-auc:0.691455\n",
      "Will train until validation_0-auc hasn't improved in 10 rounds.\n",
      "[1]\tvalidation_0-auc:0.780033\n",
      "[2]\tvalidation_0-auc:0.804066\n",
      "[3]\tvalidation_0-auc:0.806851\n",
      "[4]\tvalidation_0-auc:0.823243\n",
      "[5]\tvalidation_0-auc:0.826269\n",
      "[6]\tvalidation_0-auc:0.82907\n",
      "[7]\tvalidation_0-auc:0.830845\n",
      "[8]\tvalidation_0-auc:0.830314\n",
      "[9]\tvalidation_0-auc:0.83145\n",
      "[10]\tvalidation_0-auc:0.831882\n",
      "[11]\tvalidation_0-auc:0.833462\n",
      "[12]\tvalidation_0-auc:0.834383\n",
      "[13]\tvalidation_0-auc:0.834534\n",
      "[14]\tvalidation_0-auc:0.835521\n",
      "[15]\tvalidation_0-auc:0.836445\n",
      "[16]\tvalidation_0-auc:0.837107\n",
      "[17]\tvalidation_0-auc:0.836832\n",
      "[18]\tvalidation_0-auc:0.837103\n",
      "[19]\tvalidation_0-auc:0.837826\n",
      "[20]\tvalidation_0-auc:0.837783\n",
      "[21]\tvalidation_0-auc:0.837779\n",
      "[22]\tvalidation_0-auc:0.837963\n",
      "[23]\tvalidation_0-auc:0.838123\n",
      "[24]\tvalidation_0-auc:0.838074\n",
      "[25]\tvalidation_0-auc:0.838349\n",
      "[26]\tvalidation_0-auc:0.838329\n",
      "[27]\tvalidation_0-auc:0.838757\n",
      "[28]\tvalidation_0-auc:0.838576\n",
      "[29]\tvalidation_0-auc:0.838526\n",
      "[30]\tvalidation_0-auc:0.838462\n",
      "[31]\tvalidation_0-auc:0.838527\n",
      "[32]\tvalidation_0-auc:0.838313\n",
      "[33]\tvalidation_0-auc:0.838165\n",
      "[34]\tvalidation_0-auc:0.838275\n",
      "[35]\tvalidation_0-auc:0.838206\n",
      "[36]\tvalidation_0-auc:0.838243\n",
      "[37]\tvalidation_0-auc:0.838369\n",
      "Stopping. Best iteration:\n",
      "[27]\tvalidation_0-auc:0.838757\n",
      "\n",
      "ROC AUC score: 56.12%\n"
     ]
    },
    {
     "name": "stderr",
     "output_type": "stream",
     "text": [
      "C:\\Anaconda3\\lib\\site-packages\\sklearn\\preprocessing\\label.py:151: DeprecationWarning: The truth value of an empty array is ambiguous. Returning False, but in future this will result in an error. Use `array.size > 0` to check that an array is not empty.\n",
      "  if diff:\n"
     ]
    }
   ],
   "source": [
    "model_fin = xgb.sklearn.XGBClassifier(max_depth = 3, min_child_weight = 32,learning_rate=0.3, n_estimators=500, \n",
    "                                  objective='binary:logistic', \n",
    "                                  gamma = 0.3,max_delta_step=0, \n",
    "                                  subsample=0.8, colsample_bytree=0.6, colsample_bylevel=0.6, \n",
    "                                  reg_alpha=0, reg_lambda=1, scale_pos_weight=1, \n",
    "                                  base_score=0.1, random_state=seed, seed=seed)\n",
    "\n",
    "check_model(model_fin)"
   ]
  },
  {
   "cell_type": "code",
   "execution_count": 136,
   "metadata": {},
   "outputs": [
    {
     "name": "stdout",
     "output_type": "stream",
     "text": [
      "Fitting 5 folds for each of 3 candidates, totalling 15 fits\n"
     ]
    },
    {
     "name": "stderr",
     "output_type": "stream",
     "text": [
      "[Parallel(n_jobs=4)]: Done   5 tasks      | elapsed:   26.1s\n",
      "[Parallel(n_jobs=4)]: Done  10 out of  15 | elapsed:   39.2s remaining:   19.5s\n",
      "[Parallel(n_jobs=4)]: Done  12 out of  15 | elapsed:   41.3s remaining:   10.3s\n",
      "[Parallel(n_jobs=4)]: Done  15 out of  15 | elapsed:   50.7s finished\n"
     ]
    },
    {
     "data": {
      "text/plain": [
       "({'learning_rate': 0.05}, 0.842134450617828)"
      ]
     },
     "execution_count": 136,
     "metadata": {},
     "output_type": "execute_result"
    }
   ],
   "source": [
    "model = xgb.sklearn.XGBClassifier(max_depth = 3, min_child_weight = 32,n_estimators=500, \n",
    "                                  objective='binary:logistic', \n",
    "                                  gamma = 0.3,max_delta_step=0, \n",
    "                                  subsample=0.8, colsample_bytree=0.6, colsample_bylevel=0.6, \n",
    "                                  reg_alpha=0, reg_lambda=1, scale_pos_weight=1, \n",
    "                                  base_score=0.1, random_state=seed, seed=seed)\n",
    "\n",
    "param_test1 = {\n",
    "    'learning_rate':[i/40.0 for i in range(1,4)]\n",
    "}\n",
    "grid_search1 = GridSearchCV(model, param_grid = param_test1, scoring=\"roc_auc\", n_jobs=4, cv=kfold, verbose=10)\n",
    "result = grid_search1.fit(train,target)\n",
    "\n",
    "grid_search1.best_params_,grid_search1.best_score_"
   ]
  },
  {
   "cell_type": "code",
   "execution_count": 138,
   "metadata": {},
   "outputs": [
    {
     "name": "stdout",
     "output_type": "stream",
     "text": [
      "[0]\tvalidation_0-auc:0.691455\n",
      "Will train until validation_0-auc hasn't improved in 10 rounds.\n",
      "[1]\tvalidation_0-auc:0.764471\n",
      "[2]\tvalidation_0-auc:0.796501\n",
      "[3]\tvalidation_0-auc:0.795934\n",
      "[4]\tvalidation_0-auc:0.814869\n",
      "[5]\tvalidation_0-auc:0.819097\n",
      "[6]\tvalidation_0-auc:0.82379\n",
      "[7]\tvalidation_0-auc:0.825815\n",
      "[8]\tvalidation_0-auc:0.828357\n",
      "[9]\tvalidation_0-auc:0.830041\n",
      "[10]\tvalidation_0-auc:0.828958\n",
      "[11]\tvalidation_0-auc:0.829137\n",
      "[12]\tvalidation_0-auc:0.830548\n",
      "[13]\tvalidation_0-auc:0.831081\n",
      "[14]\tvalidation_0-auc:0.83112\n",
      "[15]\tvalidation_0-auc:0.831156\n",
      "[16]\tvalidation_0-auc:0.831441\n",
      "[17]\tvalidation_0-auc:0.831814\n",
      "[18]\tvalidation_0-auc:0.832872\n",
      "[19]\tvalidation_0-auc:0.833368\n",
      "[20]\tvalidation_0-auc:0.833451\n",
      "[21]\tvalidation_0-auc:0.834205\n",
      "[22]\tvalidation_0-auc:0.834208\n",
      "[23]\tvalidation_0-auc:0.834656\n",
      "[24]\tvalidation_0-auc:0.834713\n",
      "[25]\tvalidation_0-auc:0.834537\n",
      "[26]\tvalidation_0-auc:0.834288\n",
      "[27]\tvalidation_0-auc:0.834499\n",
      "[28]\tvalidation_0-auc:0.834887\n",
      "[29]\tvalidation_0-auc:0.8353\n",
      "[30]\tvalidation_0-auc:0.835249\n",
      "[31]\tvalidation_0-auc:0.835504\n",
      "[32]\tvalidation_0-auc:0.835475\n",
      "[33]\tvalidation_0-auc:0.835471\n",
      "[34]\tvalidation_0-auc:0.835446\n",
      "[35]\tvalidation_0-auc:0.835435\n",
      "[36]\tvalidation_0-auc:0.835152\n",
      "[37]\tvalidation_0-auc:0.834836\n",
      "[38]\tvalidation_0-auc:0.834743\n",
      "[39]\tvalidation_0-auc:0.834775\n",
      "[40]\tvalidation_0-auc:0.834614\n",
      "[41]\tvalidation_0-auc:0.834728\n",
      "Stopping. Best iteration:\n",
      "[31]\tvalidation_0-auc:0.835504\n",
      "\n",
      "ROC AUC score: 52.80%\n"
     ]
    },
    {
     "name": "stderr",
     "output_type": "stream",
     "text": [
      "C:\\Anaconda3\\lib\\site-packages\\sklearn\\preprocessing\\label.py:151: DeprecationWarning: The truth value of an empty array is ambiguous. Returning False, but in future this will result in an error. Use `array.size > 0` to check that an array is not empty.\n",
      "  if diff:\n"
     ]
    }
   ],
   "source": [
    "model_fin = xgb.sklearn.XGBClassifier(max_depth = 3, min_child_weight = 32,learning_rate= 0.05, n_estimators=2000, \n",
    "                                  objective='binary:logistic', \n",
    "                                  gamma = 0.3,max_delta_step=0, \n",
    "                                  subsample=0.8, colsample_bytree=0.6, colsample_bylevel=0.6, \n",
    "                                  reg_alpha=0, reg_lambda=1, scale_pos_weight=1, \n",
    "                                  base_score=0.1, random_state=seed, seed=seed)\n",
    "\n",
    "check_model(model_fin)"
   ]
  },
  {
   "cell_type": "code",
   "execution_count": 141,
   "metadata": {
    "collapsed": true
   },
   "outputs": [],
   "source": [
    "model = xgb.sklearn.XGBClassifier(max_depth = 3, min_child_weight = 32,learning_rate=0.05, n_estimators=10000, \n",
    "                                  objective='binary:logistic', \n",
    "                                  gamma = 0.3,max_delta_step=0, \n",
    "                                  subsample=0.8, colsample_bytree=0.6, colsample_bylevel=0.6, \n",
    "                                  reg_alpha=0, reg_lambda=1, scale_pos_weight=1, \n",
    "                                  base_score=0.1, random_state=seed, seed=seed)"
   ]
  },
  {
   "cell_type": "code",
   "execution_count": 142,
   "metadata": {
    "scrolled": true
   },
   "outputs": [
    {
     "name": "stdout",
     "output_type": "stream",
     "text": [
      "[0]\tvalidation_0-auc:0.691455\n",
      "Will train until validation_0-auc hasn't improved in 20 rounds.\n",
      "[1]\tvalidation_0-auc:0.764471\n",
      "[2]\tvalidation_0-auc:0.796501\n",
      "[3]\tvalidation_0-auc:0.795934\n",
      "[4]\tvalidation_0-auc:0.814869\n",
      "[5]\tvalidation_0-auc:0.819097\n",
      "[6]\tvalidation_0-auc:0.82379\n",
      "[7]\tvalidation_0-auc:0.825815\n",
      "[8]\tvalidation_0-auc:0.828357\n",
      "[9]\tvalidation_0-auc:0.830041\n",
      "[10]\tvalidation_0-auc:0.828958\n",
      "[11]\tvalidation_0-auc:0.829137\n",
      "[12]\tvalidation_0-auc:0.830548\n",
      "[13]\tvalidation_0-auc:0.831081\n",
      "[14]\tvalidation_0-auc:0.83112\n",
      "[15]\tvalidation_0-auc:0.831156\n",
      "[16]\tvalidation_0-auc:0.831441\n",
      "[17]\tvalidation_0-auc:0.831814\n",
      "[18]\tvalidation_0-auc:0.832872\n",
      "[19]\tvalidation_0-auc:0.833368\n",
      "[20]\tvalidation_0-auc:0.833451\n",
      "[21]\tvalidation_0-auc:0.834205\n",
      "[22]\tvalidation_0-auc:0.834208\n",
      "[23]\tvalidation_0-auc:0.834656\n",
      "[24]\tvalidation_0-auc:0.834713\n",
      "[25]\tvalidation_0-auc:0.834537\n",
      "[26]\tvalidation_0-auc:0.834288\n",
      "[27]\tvalidation_0-auc:0.834499\n",
      "[28]\tvalidation_0-auc:0.834887\n",
      "[29]\tvalidation_0-auc:0.8353\n",
      "[30]\tvalidation_0-auc:0.835249\n",
      "[31]\tvalidation_0-auc:0.835504\n",
      "[32]\tvalidation_0-auc:0.835475\n",
      "[33]\tvalidation_0-auc:0.835471\n",
      "[34]\tvalidation_0-auc:0.835446\n",
      "[35]\tvalidation_0-auc:0.835435\n",
      "[36]\tvalidation_0-auc:0.835152\n",
      "[37]\tvalidation_0-auc:0.834836\n",
      "[38]\tvalidation_0-auc:0.834743\n",
      "[39]\tvalidation_0-auc:0.834775\n",
      "[40]\tvalidation_0-auc:0.834614\n",
      "[41]\tvalidation_0-auc:0.834728\n",
      "[42]\tvalidation_0-auc:0.835261\n",
      "[43]\tvalidation_0-auc:0.835615\n",
      "[44]\tvalidation_0-auc:0.835542\n",
      "[45]\tvalidation_0-auc:0.835568\n",
      "[46]\tvalidation_0-auc:0.835879\n",
      "[47]\tvalidation_0-auc:0.835843\n",
      "[48]\tvalidation_0-auc:0.835823\n",
      "[49]\tvalidation_0-auc:0.835706\n",
      "[50]\tvalidation_0-auc:0.835855\n",
      "[51]\tvalidation_0-auc:0.835899\n",
      "[52]\tvalidation_0-auc:0.835689\n",
      "[53]\tvalidation_0-auc:0.836011\n",
      "[54]\tvalidation_0-auc:0.836829\n",
      "[55]\tvalidation_0-auc:0.836611\n",
      "[56]\tvalidation_0-auc:0.836607\n",
      "[57]\tvalidation_0-auc:0.836511\n",
      "[58]\tvalidation_0-auc:0.837042\n",
      "[59]\tvalidation_0-auc:0.837158\n",
      "[60]\tvalidation_0-auc:0.837248\n",
      "[61]\tvalidation_0-auc:0.837429\n",
      "[62]\tvalidation_0-auc:0.837566\n",
      "[63]\tvalidation_0-auc:0.837715\n",
      "[64]\tvalidation_0-auc:0.837664\n",
      "[65]\tvalidation_0-auc:0.837736\n",
      "[66]\tvalidation_0-auc:0.837992\n",
      "[67]\tvalidation_0-auc:0.837938\n",
      "[68]\tvalidation_0-auc:0.837972\n",
      "[69]\tvalidation_0-auc:0.837777\n",
      "[70]\tvalidation_0-auc:0.83782\n",
      "[71]\tvalidation_0-auc:0.837767\n",
      "[72]\tvalidation_0-auc:0.837745\n",
      "[73]\tvalidation_0-auc:0.837703\n",
      "[74]\tvalidation_0-auc:0.837755\n",
      "[75]\tvalidation_0-auc:0.837841\n",
      "[76]\tvalidation_0-auc:0.837818\n",
      "[77]\tvalidation_0-auc:0.837901\n",
      "[78]\tvalidation_0-auc:0.838168\n",
      "[79]\tvalidation_0-auc:0.83811\n",
      "[80]\tvalidation_0-auc:0.83806\n",
      "[81]\tvalidation_0-auc:0.838105\n",
      "[82]\tvalidation_0-auc:0.838259\n",
      "[83]\tvalidation_0-auc:0.838386\n",
      "[84]\tvalidation_0-auc:0.838528\n",
      "[85]\tvalidation_0-auc:0.838443\n",
      "[86]\tvalidation_0-auc:0.838373\n",
      "[87]\tvalidation_0-auc:0.838352\n",
      "[88]\tvalidation_0-auc:0.838336\n",
      "[89]\tvalidation_0-auc:0.83831\n",
      "[90]\tvalidation_0-auc:0.838156\n",
      "[91]\tvalidation_0-auc:0.838288\n",
      "[92]\tvalidation_0-auc:0.83842\n",
      "[93]\tvalidation_0-auc:0.838641\n",
      "[94]\tvalidation_0-auc:0.838748\n",
      "[95]\tvalidation_0-auc:0.838763\n",
      "[96]\tvalidation_0-auc:0.838717\n",
      "[97]\tvalidation_0-auc:0.838931\n",
      "[98]\tvalidation_0-auc:0.838893\n",
      "[99]\tvalidation_0-auc:0.839031\n",
      "[100]\tvalidation_0-auc:0.838959\n",
      "[101]\tvalidation_0-auc:0.838988\n",
      "[102]\tvalidation_0-auc:0.83897\n",
      "[103]\tvalidation_0-auc:0.838919\n",
      "[104]\tvalidation_0-auc:0.83889\n",
      "[105]\tvalidation_0-auc:0.838945\n",
      "[106]\tvalidation_0-auc:0.838919\n",
      "[107]\tvalidation_0-auc:0.838968\n",
      "[108]\tvalidation_0-auc:0.838951\n",
      "[109]\tvalidation_0-auc:0.83897\n",
      "[110]\tvalidation_0-auc:0.839065\n",
      "[111]\tvalidation_0-auc:0.839073\n",
      "[112]\tvalidation_0-auc:0.83912\n",
      "[113]\tvalidation_0-auc:0.839089\n",
      "[114]\tvalidation_0-auc:0.839204\n",
      "[115]\tvalidation_0-auc:0.839237\n",
      "[116]\tvalidation_0-auc:0.83922\n",
      "[117]\tvalidation_0-auc:0.839259\n",
      "[118]\tvalidation_0-auc:0.839288\n",
      "[119]\tvalidation_0-auc:0.839324\n",
      "[120]\tvalidation_0-auc:0.839394\n",
      "[121]\tvalidation_0-auc:0.839414\n",
      "[122]\tvalidation_0-auc:0.839586\n",
      "[123]\tvalidation_0-auc:0.839721\n",
      "[124]\tvalidation_0-auc:0.839764\n",
      "[125]\tvalidation_0-auc:0.839731\n",
      "[126]\tvalidation_0-auc:0.839792\n",
      "[127]\tvalidation_0-auc:0.839796\n",
      "[128]\tvalidation_0-auc:0.83981\n",
      "[129]\tvalidation_0-auc:0.839812\n",
      "[130]\tvalidation_0-auc:0.839806\n",
      "[131]\tvalidation_0-auc:0.839851\n",
      "[132]\tvalidation_0-auc:0.839855\n",
      "[133]\tvalidation_0-auc:0.839868\n",
      "[134]\tvalidation_0-auc:0.839892\n",
      "[135]\tvalidation_0-auc:0.839924\n",
      "[136]\tvalidation_0-auc:0.839863\n",
      "[137]\tvalidation_0-auc:0.839837\n",
      "[138]\tvalidation_0-auc:0.839801\n",
      "[139]\tvalidation_0-auc:0.839772\n",
      "[140]\tvalidation_0-auc:0.839779\n",
      "[141]\tvalidation_0-auc:0.839766\n",
      "[142]\tvalidation_0-auc:0.839812\n",
      "[143]\tvalidation_0-auc:0.839886\n",
      "[144]\tvalidation_0-auc:0.839904\n",
      "[145]\tvalidation_0-auc:0.839937\n",
      "[146]\tvalidation_0-auc:0.839958\n",
      "[147]\tvalidation_0-auc:0.839975\n",
      "[148]\tvalidation_0-auc:0.839964\n",
      "[149]\tvalidation_0-auc:0.839986\n",
      "[150]\tvalidation_0-auc:0.840045\n",
      "[151]\tvalidation_0-auc:0.840081\n",
      "[152]\tvalidation_0-auc:0.840075\n",
      "[153]\tvalidation_0-auc:0.840058\n",
      "[154]\tvalidation_0-auc:0.840068\n",
      "[155]\tvalidation_0-auc:0.84008\n",
      "[156]\tvalidation_0-auc:0.840085\n",
      "[157]\tvalidation_0-auc:0.840055\n",
      "[158]\tvalidation_0-auc:0.840084\n",
      "[159]\tvalidation_0-auc:0.840088\n",
      "[160]\tvalidation_0-auc:0.840139\n",
      "[161]\tvalidation_0-auc:0.840161\n",
      "[162]\tvalidation_0-auc:0.840151\n",
      "[163]\tvalidation_0-auc:0.840195\n",
      "[164]\tvalidation_0-auc:0.840204\n",
      "[165]\tvalidation_0-auc:0.840196\n",
      "[166]\tvalidation_0-auc:0.840204\n",
      "[167]\tvalidation_0-auc:0.840195\n",
      "[168]\tvalidation_0-auc:0.840225\n",
      "[169]\tvalidation_0-auc:0.840217\n",
      "[170]\tvalidation_0-auc:0.840229\n",
      "[171]\tvalidation_0-auc:0.840316\n",
      "[172]\tvalidation_0-auc:0.840338\n",
      "[173]\tvalidation_0-auc:0.840334\n",
      "[174]\tvalidation_0-auc:0.840352\n",
      "[175]\tvalidation_0-auc:0.840416\n",
      "[176]\tvalidation_0-auc:0.840398\n",
      "[177]\tvalidation_0-auc:0.840373\n",
      "[178]\tvalidation_0-auc:0.840361\n",
      "[179]\tvalidation_0-auc:0.840338\n",
      "[180]\tvalidation_0-auc:0.840371\n",
      "[181]\tvalidation_0-auc:0.840392\n",
      "[182]\tvalidation_0-auc:0.840433\n",
      "[183]\tvalidation_0-auc:0.840476\n",
      "[184]\tvalidation_0-auc:0.840501\n",
      "[185]\tvalidation_0-auc:0.840512\n",
      "[186]\tvalidation_0-auc:0.840519\n",
      "[187]\tvalidation_0-auc:0.840544\n",
      "[188]\tvalidation_0-auc:0.840566\n",
      "[189]\tvalidation_0-auc:0.840582\n",
      "[190]\tvalidation_0-auc:0.840529\n",
      "[191]\tvalidation_0-auc:0.840541\n",
      "[192]\tvalidation_0-auc:0.84058\n",
      "[193]\tvalidation_0-auc:0.840571\n",
      "[194]\tvalidation_0-auc:0.840548\n",
      "[195]\tvalidation_0-auc:0.840625\n",
      "[196]\tvalidation_0-auc:0.840627\n",
      "[197]\tvalidation_0-auc:0.840575\n",
      "[198]\tvalidation_0-auc:0.840598\n",
      "[199]\tvalidation_0-auc:0.840602\n",
      "[200]\tvalidation_0-auc:0.840588\n",
      "[201]\tvalidation_0-auc:0.840607\n",
      "[202]\tvalidation_0-auc:0.840633\n",
      "[203]\tvalidation_0-auc:0.840642\n",
      "[204]\tvalidation_0-auc:0.840677\n",
      "[205]\tvalidation_0-auc:0.840688\n",
      "[206]\tvalidation_0-auc:0.840667\n",
      "[207]\tvalidation_0-auc:0.840662\n",
      "[208]\tvalidation_0-auc:0.840654\n",
      "[209]\tvalidation_0-auc:0.840728\n",
      "[210]\tvalidation_0-auc:0.84075\n",
      "[211]\tvalidation_0-auc:0.840739\n",
      "[212]\tvalidation_0-auc:0.840726\n",
      "[213]\tvalidation_0-auc:0.840713\n",
      "[214]\tvalidation_0-auc:0.840723\n",
      "[215]\tvalidation_0-auc:0.840767\n",
      "[216]\tvalidation_0-auc:0.840755\n",
      "[217]\tvalidation_0-auc:0.84076\n",
      "[218]\tvalidation_0-auc:0.840778\n",
      "[219]\tvalidation_0-auc:0.840778\n",
      "[220]\tvalidation_0-auc:0.84083\n",
      "[221]\tvalidation_0-auc:0.840892\n",
      "[222]\tvalidation_0-auc:0.840847\n",
      "[223]\tvalidation_0-auc:0.840913\n",
      "[224]\tvalidation_0-auc:0.840907\n",
      "[225]\tvalidation_0-auc:0.840894\n",
      "[226]\tvalidation_0-auc:0.840903\n",
      "[227]\tvalidation_0-auc:0.840875\n",
      "[228]\tvalidation_0-auc:0.840875\n",
      "[229]\tvalidation_0-auc:0.840917\n",
      "[230]\tvalidation_0-auc:0.840942\n",
      "[231]\tvalidation_0-auc:0.840957\n",
      "[232]\tvalidation_0-auc:0.840968\n",
      "[233]\tvalidation_0-auc:0.841011\n",
      "[234]\tvalidation_0-auc:0.841049\n",
      "[235]\tvalidation_0-auc:0.841026\n",
      "[236]\tvalidation_0-auc:0.841034\n",
      "[237]\tvalidation_0-auc:0.84107\n",
      "[238]\tvalidation_0-auc:0.841124\n",
      "[239]\tvalidation_0-auc:0.841108\n",
      "[240]\tvalidation_0-auc:0.841086\n",
      "[241]\tvalidation_0-auc:0.841051\n",
      "[242]\tvalidation_0-auc:0.841062\n",
      "[243]\tvalidation_0-auc:0.841076\n",
      "[244]\tvalidation_0-auc:0.841101\n",
      "[245]\tvalidation_0-auc:0.84112\n",
      "[246]\tvalidation_0-auc:0.841111\n",
      "[247]\tvalidation_0-auc:0.841111\n",
      "[248]\tvalidation_0-auc:0.841105\n",
      "[249]\tvalidation_0-auc:0.841083\n",
      "[250]\tvalidation_0-auc:0.841093\n",
      "[251]\tvalidation_0-auc:0.841071\n",
      "[252]\tvalidation_0-auc:0.841072\n",
      "[253]\tvalidation_0-auc:0.841094\n",
      "[254]\tvalidation_0-auc:0.841096\n",
      "[255]\tvalidation_0-auc:0.841112\n",
      "[256]\tvalidation_0-auc:0.841086\n",
      "[257]\tvalidation_0-auc:0.84112\n",
      "[258]\tvalidation_0-auc:0.841122\n"
     ]
    },
    {
     "name": "stdout",
     "output_type": "stream",
     "text": [
      "Stopping. Best iteration:\n",
      "[238]\tvalidation_0-auc:0.841124\n",
      "\n",
      "ROC AUC score: 56.39%\n"
     ]
    },
    {
     "name": "stderr",
     "output_type": "stream",
     "text": [
      "C:\\Anaconda3\\lib\\site-packages\\sklearn\\preprocessing\\label.py:151: DeprecationWarning: The truth value of an empty array is ambiguous. Returning False, but in future this will result in an error. Use `array.size > 0` to check that an array is not empty.\n",
      "  if diff:\n"
     ]
    }
   ],
   "source": [
    "model.fit(X_train_scaled, y_train, early_stopping_rounds=20, eval_metric=\"auc\", eval_set=eval_set, verbose=True)\n",
    "#### make predictions for test data\n",
    "y_pred = model.predict(X_test_scaled)\n",
    "score = roc_auc_score(y_test, y_pred)\n",
    "print(\"ROC AUC score: {0:.2f}%\".format(score * 100.0)) #56.53%"
   ]
  },
  {
   "cell_type": "code",
   "execution_count": 143,
   "metadata": {
    "collapsed": true
   },
   "outputs": [],
   "source": [
    "preds = model.predict_proba(X_pred)[:,1]#.round(4)"
   ]
  },
  {
   "cell_type": "code",
   "execution_count": 200,
   "metadata": {
    "collapsed": true
   },
   "outputs": [],
   "source": [
    "#any policy having probability more than 60 -80 % can be converted to renewal by providing incentives"
   ]
  },
  {
   "cell_type": "code",
   "execution_count": 144,
   "metadata": {
    "collapsed": true
   },
   "outputs": [],
   "source": [
    "inc = pd.DataFrame(restart_test.premium)"
   ]
  },
  {
   "cell_type": "code",
   "execution_count": 145,
   "metadata": {
    "collapsed": true
   },
   "outputs": [],
   "source": [
    "inc['probab'] = preds"
   ]
  },
  {
   "cell_type": "code",
   "execution_count": 146,
   "metadata": {
    "collapsed": true
   },
   "outputs": [],
   "source": [
    "profit_sharing = 0.5"
   ]
  },
  {
   "cell_type": "code",
   "execution_count": 147,
   "metadata": {
    "collapsed": true
   },
   "outputs": [],
   "source": [
    "inc['incentive'] = round(inc.premium * profit_sharing * (1 - inc['probab']),0).astype(int)\n",
    "inc['incentive'] = inc.incentive.apply(lambda x: 1000 if x > 1000 else x)"
   ]
  },
  {
   "cell_type": "code",
   "execution_count": 148,
   "metadata": {
    "collapsed": true
   },
   "outputs": [],
   "source": [
    "inc['efforts'] = 10 * (1 - np.exp(-1*inc['incentive']/400))\n",
    "inc['renewal_p'] = 20 * (1 - np.exp(-1*inc['efforts']/5))/100\n",
    "inc['total_revenue'] = (inc['renewal_p'])*inc['premium'] - inc['incentive']"
   ]
  },
  {
   "cell_type": "code",
   "execution_count": 149,
   "metadata": {},
   "outputs": [
    {
     "data": {
      "text/html": [
       "<div>\n",
       "<style>\n",
       "    .dataframe thead tr:only-child th {\n",
       "        text-align: right;\n",
       "    }\n",
       "\n",
       "    .dataframe thead th {\n",
       "        text-align: left;\n",
       "    }\n",
       "\n",
       "    .dataframe tbody tr th {\n",
       "        vertical-align: top;\n",
       "    }\n",
       "</style>\n",
       "<table border=\"1\" class=\"dataframe\">\n",
       "  <thead>\n",
       "    <tr style=\"text-align: right;\">\n",
       "      <th></th>\n",
       "      <th>premium</th>\n",
       "      <th>probab</th>\n",
       "      <th>incentive</th>\n",
       "      <th>efforts</th>\n",
       "      <th>renewal_p</th>\n",
       "      <th>total_revenue</th>\n",
       "    </tr>\n",
       "    <tr>\n",
       "      <th>id</th>\n",
       "      <th></th>\n",
       "      <th></th>\n",
       "      <th></th>\n",
       "      <th></th>\n",
       "      <th></th>\n",
       "      <th></th>\n",
       "    </tr>\n",
       "  </thead>\n",
       "  <tbody>\n",
       "    <tr>\n",
       "      <th>649</th>\n",
       "      <td>3300</td>\n",
       "      <td>0.991</td>\n",
       "      <td>15</td>\n",
       "      <td>0.368</td>\n",
       "      <td>0.014</td>\n",
       "      <td>31.838</td>\n",
       "    </tr>\n",
       "    <tr>\n",
       "      <th>81136</th>\n",
       "      <td>11700</td>\n",
       "      <td>0.983</td>\n",
       "      <td>101</td>\n",
       "      <td>2.231</td>\n",
       "      <td>0.072</td>\n",
       "      <td>741.401</td>\n",
       "    </tr>\n",
       "    <tr>\n",
       "      <th>70762</th>\n",
       "      <td>11700</td>\n",
       "      <td>0.818</td>\n",
       "      <td>1000</td>\n",
       "      <td>9.179</td>\n",
       "      <td>0.168</td>\n",
       "      <td>966.814</td>\n",
       "    </tr>\n",
       "    <tr>\n",
       "      <th>53935</th>\n",
       "      <td>5400</td>\n",
       "      <td>0.975</td>\n",
       "      <td>67</td>\n",
       "      <td>1.542</td>\n",
       "      <td>0.053</td>\n",
       "      <td>219.646</td>\n",
       "    </tr>\n",
       "    <tr>\n",
       "      <th>15476</th>\n",
       "      <td>9600</td>\n",
       "      <td>0.961</td>\n",
       "      <td>186</td>\n",
       "      <td>3.719</td>\n",
       "      <td>0.105</td>\n",
       "      <td>821.352</td>\n",
       "    </tr>\n",
       "  </tbody>\n",
       "</table>\n",
       "</div>"
      ],
      "text/plain": [
       "       premium  probab  incentive  efforts  renewal_p  total_revenue\n",
       "id                                                                  \n",
       "649       3300   0.991         15    0.368      0.014         31.838\n",
       "81136    11700   0.983        101    2.231      0.072        741.401\n",
       "70762    11700   0.818       1000    9.179      0.168        966.814\n",
       "53935     5400   0.975         67    1.542      0.053        219.646\n",
       "15476     9600   0.961        186    3.719      0.105        821.352"
      ]
     },
     "execution_count": 149,
     "metadata": {},
     "output_type": "execute_result"
    }
   ],
   "source": [
    "inc.head()"
   ]
  },
  {
   "cell_type": "code",
   "execution_count": 150,
   "metadata": {},
   "outputs": [
    {
     "data": {
      "text/plain": [
       "31001209.347187728"
      ]
     },
     "execution_count": 150,
     "metadata": {},
     "output_type": "execute_result"
    }
   ],
   "source": [
    "inc['total_revenue'].sum()"
   ]
  },
  {
   "cell_type": "code",
   "execution_count": null,
   "metadata": {
    "collapsed": true
   },
   "outputs": [],
   "source": [
    "#incentives based or prob"
   ]
  },
  {
   "cell_type": "code",
   "execution_count": 151,
   "metadata": {
    "collapsed": true
   },
   "outputs": [],
   "source": [
    "sub = pd.DataFrame({'id':test.index, 'renewal':preds,'incentives':inc['incentive'] })\n",
    "sub = sub[['id','renewal','incentives']]\n",
    "sub.to_csv(os.path.join(folder,'submission22.csv'), index=False)"
   ]
  },
  {
   "cell_type": "code",
   "execution_count": 109,
   "metadata": {
    "collapsed": true
   },
   "outputs": [],
   "source": [
    "imps = pd.DataFrame(model.feature_importances_,index = train.columns, columns = [ 'Importance' ])"
   ]
  },
  {
   "cell_type": "code",
   "execution_count": 110,
   "metadata": {
    "collapsed": true
   },
   "outputs": [],
   "source": [
    "imps.sort_values(by = 'Importance',ascending=False,inplace=True)"
   ]
  },
  {
   "cell_type": "code",
   "execution_count": 114,
   "metadata": {},
   "outputs": [
    {
     "data": {
      "text/html": [
       "<div>\n",
       "<style>\n",
       "    .dataframe thead tr:only-child th {\n",
       "        text-align: right;\n",
       "    }\n",
       "\n",
       "    .dataframe thead th {\n",
       "        text-align: left;\n",
       "    }\n",
       "\n",
       "    .dataframe tbody tr th {\n",
       "        vertical-align: top;\n",
       "    }\n",
       "</style>\n",
       "<table border=\"1\" class=\"dataframe\">\n",
       "  <thead>\n",
       "    <tr style=\"text-align: right;\">\n",
       "      <th></th>\n",
       "      <th>perc_premium_paid_by_cash_credit</th>\n",
       "      <th>Count_6-12_months_late</th>\n",
       "      <th>Count_3-6_months_late</th>\n",
       "      <th>no_of_premiums_paid</th>\n",
       "      <th>Count_more_than_12_months_late</th>\n",
       "      <th>age_in_years</th>\n",
       "      <th>Income</th>\n",
       "      <th>application_underwriting_score</th>\n",
       "    </tr>\n",
       "  </thead>\n",
       "  <tbody>\n",
       "    <tr>\n",
       "      <th>Importance</th>\n",
       "      <td>0.214</td>\n",
       "      <td>0.156</td>\n",
       "      <td>0.149</td>\n",
       "      <td>0.123</td>\n",
       "      <td>0.104</td>\n",
       "      <td>0.104</td>\n",
       "      <td>0.078</td>\n",
       "      <td>0.071</td>\n",
       "    </tr>\n",
       "  </tbody>\n",
       "</table>\n",
       "</div>"
      ],
      "text/plain": [
       "            perc_premium_paid_by_cash_credit  Count_6-12_months_late  Count_3-6_months_late  no_of_premiums_paid  Count_more_than_12_months_late  age_in_years  Income  application_underwriting_score\n",
       "Importance                             0.214                   0.156                  0.149                0.123                           0.104         0.104   0.078                           0.071"
      ]
     },
     "execution_count": 114,
     "metadata": {},
     "output_type": "execute_result"
    }
   ],
   "source": [
    "imps[:8].T"
   ]
  },
  {
   "cell_type": "code",
   "execution_count": 115,
   "metadata": {
    "collapsed": true
   },
   "outputs": [],
   "source": [
    "imp_cols = list(imps[:8].index)"
   ]
  },
  {
   "cell_type": "code",
   "execution_count": 116,
   "metadata": {},
   "outputs": [
    {
     "data": {
      "text/plain": [
       "array(['perc_premium_paid_by_cash_credit', 'Count_6-12_months_late',\n",
       "       'Count_3-6_months_late', 'no_of_premiums_paid',\n",
       "       'Count_more_than_12_months_late', 'age_in_years', 'Income',\n",
       "       'application_underwriting_score'], dtype='<U32')"
      ]
     },
     "execution_count": 116,
     "metadata": {},
     "output_type": "execute_result"
    }
   ],
   "source": [
    "np.array(imp_cols)"
   ]
  },
  {
   "cell_type": "code",
   "execution_count": null,
   "metadata": {
    "collapsed": true
   },
   "outputs": [],
   "source": []
  },
  {
   "cell_type": "code",
   "execution_count": null,
   "metadata": {
    "collapsed": true
   },
   "outputs": [],
   "source": []
  }
 ],
 "metadata": {
  "kernelspec": {
   "display_name": "Python 3",
   "language": "python",
   "name": "python3"
  },
  "language_info": {
   "codemirror_mode": {
    "name": "ipython",
    "version": 3
   },
   "file_extension": ".py",
   "mimetype": "text/x-python",
   "name": "python",
   "nbconvert_exporter": "python",
   "pygments_lexer": "ipython3",
   "version": "3.6.2"
  }
 },
 "nbformat": 4,
 "nbformat_minor": 2
}
