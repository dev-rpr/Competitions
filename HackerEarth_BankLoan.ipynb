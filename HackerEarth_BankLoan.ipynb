{
 "cells": [
  {
   "cell_type": "code",
   "execution_count": 1,
   "metadata": {
    "collapsed": true
   },
   "outputs": [],
   "source": [
    "#https://github.com/HackerEarth-Challenges/machine-learning-challenge-1/blob/master/Yuvraj_Rank3_Python.ipynb"
   ]
  },
  {
   "cell_type": "code",
   "execution_count": 2,
   "metadata": {
    "collapsed": true
   },
   "outputs": [],
   "source": [
    "#Basic libraries\n",
    "import numpy as np\n",
    "import pandas as pd\n",
    "\n",
    "# Visualisation\n",
    "import matplotlib.pyplot as plt\n",
    "import matplotlib.pylab as pylab\n",
    "import seaborn as sns\n",
    "\n",
    "#configure visualizations\n",
    "sns.set_style( 'white' )\n",
    "pylab.rcParams[ 'figure.figsize' ] = 15 , 8\n",
    "\n",
    "#Train, test split and normalizing \n",
    "from sklearn.model_selection import train_test_split\n",
    "from sklearn.preprocessing import StandardScaler, LabelEncoder\n",
    "\n",
    "#Cross Validation\n",
    "from sklearn.model_selection import GridSearchCV\n",
    "\n",
    "#Metric\n",
    "from sklearn.metrics import roc_auc_score\n",
    "\n",
    "import os, datetime as dt\n",
    "import time"
   ]
  },
  {
   "cell_type": "code",
   "execution_count": 3,
   "metadata": {
    "collapsed": true
   },
   "outputs": [],
   "source": [
    "#ML algo functions\n",
    "from sklearn.tree import DecisionTreeClassifier\n",
    "from sklearn.ensemble import RandomForestClassifier , GradientBoostingClassifier\n",
    "import xgboost as xgb\n",
    "from xgboost import XGBClassifier as xgc\n",
    "seed = 19"
   ]
  },
  {
   "cell_type": "code",
   "execution_count": 4,
   "metadata": {
    "collapsed": true
   },
   "outputs": [],
   "source": [
    "pd.set_option('display.max_rows', 500)\n",
    "pd.set_option('display.max_columns', 500)\n",
    "pd.set_option('display.width', 1000)\n",
    "pd.set_option('display.max_colwidth', 200)\n",
    "pd.set_option('display.precision', 3)"
   ]
  },
  {
   "cell_type": "code",
   "execution_count": 9,
   "metadata": {
    "collapsed": true
   },
   "outputs": [],
   "source": [
    "folder = r\"G:\\Study material\\Data Science\\Datasets\\Loan_HackerEarth\\\\\"\n",
    "#r\"/home/ws01/Documents/Datasets/Loan_HackerEarth\"\n",
    "#r\"G:\\Study material\\Data Science\\Datasets\\Loan_HackerEarth\\\\\"\n",
    "train_file = \"train_indessa.csv\"\n",
    "test_file = \"test_indessa.csv\""
   ]
  },
  {
   "cell_type": "code",
   "execution_count": 10,
   "metadata": {
    "collapsed": true
   },
   "outputs": [],
   "source": [
    "def info(df,sort = True,save = \"No\"):\n",
    "    size = df.shape[0]\n",
    "    null = df.isnull().sum()\n",
    "    nuni = df.nunique()\n",
    "    dtype = df.dtypes\n",
    "    missing_pct = null*100/size\n",
    "    df_info  = pd.concat([dtype, missing_pct.round(2),nuni], axis=1, keys=['type','missing','nunique'])\n",
    "    if sort == True:\n",
    "        df_info.sort_values (['missing'],ascending=False,inplace=True)\n",
    "    if (save == \"Yes\"):\n",
    "        df_info.to_csv(os.path.join(folder,'info.csv'))\n",
    "    return df_info"
   ]
  },
  {
   "cell_type": "code",
   "execution_count": 11,
   "metadata": {
    "collapsed": true
   },
   "outputs": [],
   "source": [
    "def create_cat(df,col,values):\n",
    "    prefix = col\n",
    "    unique_vals = values #list(df[col].unique())    \n",
    "    dummies = pd.DataFrame()\n",
    "    for val in unique_vals:\n",
    "        dummies[prefix + \"_\" + val] = df[col] == val\n",
    "        dummies[prefix + \"_\" + val] = dummies[prefix + \"_\" + val].apply(lambda x: 1 if x == True else 0)\n",
    "            #le = LabelEncoder()\n",
    "            #dummies[prefix + \"_\" + val] = le.fit_transform(dummies[prefix + \"_\" + val])\n",
    "    #labelencode\n",
    "    df = pd.concat([df,dummies],axis=1)\n",
    "    return df "
   ]
  },
  {
   "cell_type": "code",
   "execution_count": 12,
   "metadata": {
    "collapsed": true
   },
   "outputs": [],
   "source": [
    "#Data read\n",
    "train = pd.read_csv(os.path.join(folder,train_file))"
   ]
  },
  {
   "cell_type": "code",
   "execution_count": 13,
   "metadata": {},
   "outputs": [
    {
     "data": {
      "text/plain": [
       "(532428, 45)"
      ]
     },
     "execution_count": 13,
     "metadata": {},
     "output_type": "execute_result"
    }
   ],
   "source": [
    "train.shape"
   ]
  },
  {
   "cell_type": "code",
   "execution_count": 14,
   "metadata": {},
   "outputs": [
    {
     "data": {
      "text/html": [
       "<div>\n",
       "<style>\n",
       "    .dataframe thead tr:only-child th {\n",
       "        text-align: right;\n",
       "    }\n",
       "\n",
       "    .dataframe thead th {\n",
       "        text-align: left;\n",
       "    }\n",
       "\n",
       "    .dataframe tbody tr th {\n",
       "        vertical-align: top;\n",
       "    }\n",
       "</style>\n",
       "<table border=\"1\" class=\"dataframe\">\n",
       "  <thead>\n",
       "    <tr style=\"text-align: right;\">\n",
       "      <th></th>\n",
       "      <th>member_id</th>\n",
       "      <th>loan_amnt</th>\n",
       "      <th>funded_amnt</th>\n",
       "      <th>funded_amnt_inv</th>\n",
       "      <th>term</th>\n",
       "      <th>batch_enrolled</th>\n",
       "      <th>int_rate</th>\n",
       "      <th>grade</th>\n",
       "      <th>sub_grade</th>\n",
       "      <th>emp_title</th>\n",
       "      <th>emp_length</th>\n",
       "      <th>home_ownership</th>\n",
       "      <th>annual_inc</th>\n",
       "      <th>verification_status</th>\n",
       "      <th>pymnt_plan</th>\n",
       "      <th>desc</th>\n",
       "      <th>purpose</th>\n",
       "      <th>title</th>\n",
       "      <th>zip_code</th>\n",
       "      <th>addr_state</th>\n",
       "      <th>dti</th>\n",
       "      <th>delinq_2yrs</th>\n",
       "      <th>inq_last_6mths</th>\n",
       "      <th>mths_since_last_delinq</th>\n",
       "      <th>mths_since_last_record</th>\n",
       "      <th>open_acc</th>\n",
       "      <th>pub_rec</th>\n",
       "      <th>revol_bal</th>\n",
       "      <th>revol_util</th>\n",
       "      <th>total_acc</th>\n",
       "      <th>initial_list_status</th>\n",
       "      <th>total_rec_int</th>\n",
       "      <th>total_rec_late_fee</th>\n",
       "      <th>recoveries</th>\n",
       "      <th>collection_recovery_fee</th>\n",
       "      <th>collections_12_mths_ex_med</th>\n",
       "      <th>mths_since_last_major_derog</th>\n",
       "      <th>application_type</th>\n",
       "      <th>verification_status_joint</th>\n",
       "      <th>last_week_pay</th>\n",
       "      <th>acc_now_delinq</th>\n",
       "      <th>tot_coll_amt</th>\n",
       "      <th>tot_cur_bal</th>\n",
       "      <th>total_rev_hi_lim</th>\n",
       "      <th>loan_status</th>\n",
       "    </tr>\n",
       "  </thead>\n",
       "  <tbody>\n",
       "    <tr>\n",
       "      <th>0</th>\n",
       "      <td>58189336</td>\n",
       "      <td>14350</td>\n",
       "      <td>14350</td>\n",
       "      <td>14350.0</td>\n",
       "      <td>36 months</td>\n",
       "      <td></td>\n",
       "      <td>19.19</td>\n",
       "      <td>E</td>\n",
       "      <td>E3</td>\n",
       "      <td>clerk</td>\n",
       "      <td>9 years</td>\n",
       "      <td>OWN</td>\n",
       "      <td>28700.0</td>\n",
       "      <td>Source Verified</td>\n",
       "      <td>n</td>\n",
       "      <td>NaN</td>\n",
       "      <td>debt_consolidation</td>\n",
       "      <td>Debt consolidation</td>\n",
       "      <td>349xx</td>\n",
       "      <td>FL</td>\n",
       "      <td>33.88</td>\n",
       "      <td>0.0</td>\n",
       "      <td>1.0</td>\n",
       "      <td>50.0</td>\n",
       "      <td>75.0</td>\n",
       "      <td>14.0</td>\n",
       "      <td>1.0</td>\n",
       "      <td>22515.0</td>\n",
       "      <td>73.1</td>\n",
       "      <td>28.0</td>\n",
       "      <td>f</td>\n",
       "      <td>1173.84</td>\n",
       "      <td>0.0</td>\n",
       "      <td>0.0</td>\n",
       "      <td>0.0</td>\n",
       "      <td>0.0</td>\n",
       "      <td>74.0</td>\n",
       "      <td>INDIVIDUAL</td>\n",
       "      <td>NaN</td>\n",
       "      <td>26th week</td>\n",
       "      <td>0.0</td>\n",
       "      <td>0.0</td>\n",
       "      <td>28699.0</td>\n",
       "      <td>30800.0</td>\n",
       "      <td>0</td>\n",
       "    </tr>\n",
       "    <tr>\n",
       "      <th>1</th>\n",
       "      <td>70011223</td>\n",
       "      <td>4800</td>\n",
       "      <td>4800</td>\n",
       "      <td>4800.0</td>\n",
       "      <td>36 months</td>\n",
       "      <td>BAT1586599</td>\n",
       "      <td>10.99</td>\n",
       "      <td>B</td>\n",
       "      <td>B4</td>\n",
       "      <td>Human Resources Specialist</td>\n",
       "      <td>&lt; 1 year</td>\n",
       "      <td>MORTGAGE</td>\n",
       "      <td>65000.0</td>\n",
       "      <td>Source Verified</td>\n",
       "      <td>n</td>\n",
       "      <td>NaN</td>\n",
       "      <td>home_improvement</td>\n",
       "      <td>Home improvement</td>\n",
       "      <td>209xx</td>\n",
       "      <td>MD</td>\n",
       "      <td>3.64</td>\n",
       "      <td>0.0</td>\n",
       "      <td>1.0</td>\n",
       "      <td>NaN</td>\n",
       "      <td>NaN</td>\n",
       "      <td>6.0</td>\n",
       "      <td>0.0</td>\n",
       "      <td>7624.0</td>\n",
       "      <td>23.2</td>\n",
       "      <td>13.0</td>\n",
       "      <td>w</td>\n",
       "      <td>83.95</td>\n",
       "      <td>0.0</td>\n",
       "      <td>0.0</td>\n",
       "      <td>0.0</td>\n",
       "      <td>0.0</td>\n",
       "      <td>NaN</td>\n",
       "      <td>INDIVIDUAL</td>\n",
       "      <td>NaN</td>\n",
       "      <td>9th week</td>\n",
       "      <td>0.0</td>\n",
       "      <td>0.0</td>\n",
       "      <td>9974.0</td>\n",
       "      <td>32900.0</td>\n",
       "      <td>0</td>\n",
       "    </tr>\n",
       "    <tr>\n",
       "      <th>2</th>\n",
       "      <td>70255675</td>\n",
       "      <td>10000</td>\n",
       "      <td>10000</td>\n",
       "      <td>10000.0</td>\n",
       "      <td>36 months</td>\n",
       "      <td>BAT1586599</td>\n",
       "      <td>7.26</td>\n",
       "      <td>A</td>\n",
       "      <td>A4</td>\n",
       "      <td>Driver</td>\n",
       "      <td>2 years</td>\n",
       "      <td>OWN</td>\n",
       "      <td>45000.0</td>\n",
       "      <td>Not Verified</td>\n",
       "      <td>n</td>\n",
       "      <td>NaN</td>\n",
       "      <td>debt_consolidation</td>\n",
       "      <td>Debt consolidation</td>\n",
       "      <td>447xx</td>\n",
       "      <td>OH</td>\n",
       "      <td>18.42</td>\n",
       "      <td>0.0</td>\n",
       "      <td>0.0</td>\n",
       "      <td>NaN</td>\n",
       "      <td>NaN</td>\n",
       "      <td>5.0</td>\n",
       "      <td>0.0</td>\n",
       "      <td>10877.0</td>\n",
       "      <td>31.2</td>\n",
       "      <td>19.0</td>\n",
       "      <td>w</td>\n",
       "      <td>56.47</td>\n",
       "      <td>0.0</td>\n",
       "      <td>0.0</td>\n",
       "      <td>0.0</td>\n",
       "      <td>0.0</td>\n",
       "      <td>NaN</td>\n",
       "      <td>INDIVIDUAL</td>\n",
       "      <td>NaN</td>\n",
       "      <td>9th week</td>\n",
       "      <td>0.0</td>\n",
       "      <td>65.0</td>\n",
       "      <td>38295.0</td>\n",
       "      <td>34900.0</td>\n",
       "      <td>0</td>\n",
       "    </tr>\n",
       "    <tr>\n",
       "      <th>3</th>\n",
       "      <td>1893936</td>\n",
       "      <td>15000</td>\n",
       "      <td>15000</td>\n",
       "      <td>15000.0</td>\n",
       "      <td>36 months</td>\n",
       "      <td>BAT4808022</td>\n",
       "      <td>19.72</td>\n",
       "      <td>D</td>\n",
       "      <td>D5</td>\n",
       "      <td>Us office of Personnel Management</td>\n",
       "      <td>10+ years</td>\n",
       "      <td>RENT</td>\n",
       "      <td>105000.0</td>\n",
       "      <td>Not Verified</td>\n",
       "      <td>n</td>\n",
       "      <td>&gt; My goal is to obtain a loan to pay off my high credit cards and get out of debt within 3 years.&lt;br&gt;</td>\n",
       "      <td>debt_consolidation</td>\n",
       "      <td>Debt consolidation</td>\n",
       "      <td>221xx</td>\n",
       "      <td>VA</td>\n",
       "      <td>14.97</td>\n",
       "      <td>0.0</td>\n",
       "      <td>2.0</td>\n",
       "      <td>46.0</td>\n",
       "      <td>NaN</td>\n",
       "      <td>10.0</td>\n",
       "      <td>0.0</td>\n",
       "      <td>13712.0</td>\n",
       "      <td>55.5</td>\n",
       "      <td>21.0</td>\n",
       "      <td>f</td>\n",
       "      <td>4858.62</td>\n",
       "      <td>0.0</td>\n",
       "      <td>0.0</td>\n",
       "      <td>0.0</td>\n",
       "      <td>0.0</td>\n",
       "      <td>NaN</td>\n",
       "      <td>INDIVIDUAL</td>\n",
       "      <td>NaN</td>\n",
       "      <td>135th week</td>\n",
       "      <td>0.0</td>\n",
       "      <td>0.0</td>\n",
       "      <td>55564.0</td>\n",
       "      <td>24700.0</td>\n",
       "      <td>0</td>\n",
       "    </tr>\n",
       "    <tr>\n",
       "      <th>4</th>\n",
       "      <td>7652106</td>\n",
       "      <td>16000</td>\n",
       "      <td>16000</td>\n",
       "      <td>16000.0</td>\n",
       "      <td>36 months</td>\n",
       "      <td>BAT2833642</td>\n",
       "      <td>10.64</td>\n",
       "      <td>B</td>\n",
       "      <td>B2</td>\n",
       "      <td>LAUSD-HOLLYWOOD HIGH SCHOOL</td>\n",
       "      <td>10+ years</td>\n",
       "      <td>RENT</td>\n",
       "      <td>52000.0</td>\n",
       "      <td>Verified</td>\n",
       "      <td>n</td>\n",
       "      <td>NaN</td>\n",
       "      <td>credit_card</td>\n",
       "      <td>refi</td>\n",
       "      <td>900xx</td>\n",
       "      <td>CA</td>\n",
       "      <td>20.16</td>\n",
       "      <td>0.0</td>\n",
       "      <td>0.0</td>\n",
       "      <td>NaN</td>\n",
       "      <td>NaN</td>\n",
       "      <td>11.0</td>\n",
       "      <td>0.0</td>\n",
       "      <td>35835.0</td>\n",
       "      <td>76.2</td>\n",
       "      <td>27.0</td>\n",
       "      <td>w</td>\n",
       "      <td>2296.41</td>\n",
       "      <td>0.0</td>\n",
       "      <td>0.0</td>\n",
       "      <td>0.0</td>\n",
       "      <td>0.0</td>\n",
       "      <td>NaN</td>\n",
       "      <td>INDIVIDUAL</td>\n",
       "      <td>NaN</td>\n",
       "      <td>96th week</td>\n",
       "      <td>0.0</td>\n",
       "      <td>0.0</td>\n",
       "      <td>47159.0</td>\n",
       "      <td>47033.0</td>\n",
       "      <td>0</td>\n",
       "    </tr>\n",
       "  </tbody>\n",
       "</table>\n",
       "</div>"
      ],
      "text/plain": [
       "   member_id  loan_amnt  funded_amnt  funded_amnt_inv       term batch_enrolled  int_rate grade sub_grade                          emp_title emp_length home_ownership  annual_inc verification_status pymnt_plan                                                                                                   desc             purpose               title zip_code addr_state    dti  delinq_2yrs  inq_last_6mths  mths_since_last_delinq  mths_since_last_record  open_acc  pub_rec  revol_bal  revol_util  total_acc initial_list_status  total_rec_int  total_rec_late_fee  recoveries  collection_recovery_fee  collections_12_mths_ex_med  mths_since_last_major_derog application_type verification_status_joint last_week_pay  acc_now_delinq  tot_coll_amt  tot_cur_bal  total_rev_hi_lim  loan_status\n",
       "0   58189336      14350        14350          14350.0  36 months                    19.19     E        E3                              clerk    9 years            OWN     28700.0     Source Verified          n                                                                                                    NaN  debt_consolidation  Debt consolidation    349xx         FL  33.88          0.0             1.0                    50.0                    75.0      14.0      1.0    22515.0        73.1       28.0                   f        1173.84                 0.0         0.0                      0.0                         0.0                         74.0       INDIVIDUAL                       NaN     26th week             0.0           0.0      28699.0           30800.0            0\n",
       "1   70011223       4800         4800           4800.0  36 months     BAT1586599     10.99     B        B4         Human Resources Specialist   < 1 year       MORTGAGE     65000.0     Source Verified          n                                                                                                    NaN    home_improvement    Home improvement    209xx         MD   3.64          0.0             1.0                     NaN                     NaN       6.0      0.0     7624.0        23.2       13.0                   w          83.95                 0.0         0.0                      0.0                         0.0                          NaN       INDIVIDUAL                       NaN      9th week             0.0           0.0       9974.0           32900.0            0\n",
       "2   70255675      10000        10000          10000.0  36 months     BAT1586599      7.26     A        A4                             Driver    2 years            OWN     45000.0        Not Verified          n                                                                                                    NaN  debt_consolidation  Debt consolidation    447xx         OH  18.42          0.0             0.0                     NaN                     NaN       5.0      0.0    10877.0        31.2       19.0                   w          56.47                 0.0         0.0                      0.0                         0.0                          NaN       INDIVIDUAL                       NaN      9th week             0.0          65.0      38295.0           34900.0            0\n",
       "3    1893936      15000        15000          15000.0  36 months     BAT4808022     19.72     D        D5  Us office of Personnel Management  10+ years           RENT    105000.0        Not Verified          n  > My goal is to obtain a loan to pay off my high credit cards and get out of debt within 3 years.<br>  debt_consolidation  Debt consolidation    221xx         VA  14.97          0.0             2.0                    46.0                     NaN      10.0      0.0    13712.0        55.5       21.0                   f        4858.62                 0.0         0.0                      0.0                         0.0                          NaN       INDIVIDUAL                       NaN    135th week             0.0           0.0      55564.0           24700.0            0\n",
       "4    7652106      16000        16000          16000.0  36 months     BAT2833642     10.64     B        B2        LAUSD-HOLLYWOOD HIGH SCHOOL  10+ years           RENT     52000.0            Verified          n                                                                                                    NaN         credit_card                refi    900xx         CA  20.16          0.0             0.0                     NaN                     NaN      11.0      0.0    35835.0        76.2       27.0                   w        2296.41                 0.0         0.0                      0.0                         0.0                          NaN       INDIVIDUAL                       NaN     96th week             0.0           0.0      47159.0           47033.0            0"
      ]
     },
     "execution_count": 14,
     "metadata": {},
     "output_type": "execute_result"
    }
   ],
   "source": [
    "train.head()"
   ]
  },
  {
   "cell_type": "code",
   "execution_count": 15,
   "metadata": {
    "collapsed": true
   },
   "outputs": [],
   "source": [
    "id_col = train.pop('member_id')\n",
    "target = train['loan_status']"
   ]
  },
  {
   "cell_type": "code",
   "execution_count": 16,
   "metadata": {
    "collapsed": true
   },
   "outputs": [],
   "source": [
    "weight = target.value_counts()[0]/target.value_counts()[1] #sum(positive cases) / sum(negative cases)."
   ]
  },
  {
   "cell_type": "code",
   "execution_count": 17,
   "metadata": {},
   "outputs": [
    {
     "data": {
      "text/plain": [
       "3.2314288666184523"
      ]
     },
     "execution_count": 17,
     "metadata": {},
     "output_type": "execute_result"
    }
   ],
   "source": [
    "weight"
   ]
  },
  {
   "cell_type": "code",
   "execution_count": 18,
   "metadata": {},
   "outputs": [
    {
     "data": {
      "text/html": [
       "<div>\n",
       "<style>\n",
       "    .dataframe thead tr:only-child th {\n",
       "        text-align: right;\n",
       "    }\n",
       "\n",
       "    .dataframe thead th {\n",
       "        text-align: left;\n",
       "    }\n",
       "\n",
       "    .dataframe tbody tr th {\n",
       "        vertical-align: top;\n",
       "    }\n",
       "</style>\n",
       "<table border=\"1\" class=\"dataframe\">\n",
       "  <thead>\n",
       "    <tr style=\"text-align: right;\">\n",
       "      <th></th>\n",
       "      <th>loan_amnt</th>\n",
       "      <th>funded_amnt</th>\n",
       "      <th>funded_amnt_inv</th>\n",
       "      <th>term</th>\n",
       "      <th>batch_enrolled</th>\n",
       "      <th>int_rate</th>\n",
       "      <th>grade</th>\n",
       "      <th>sub_grade</th>\n",
       "      <th>emp_title</th>\n",
       "      <th>emp_length</th>\n",
       "      <th>home_ownership</th>\n",
       "      <th>annual_inc</th>\n",
       "      <th>verification_status</th>\n",
       "      <th>pymnt_plan</th>\n",
       "      <th>desc</th>\n",
       "      <th>purpose</th>\n",
       "      <th>title</th>\n",
       "      <th>zip_code</th>\n",
       "      <th>addr_state</th>\n",
       "      <th>dti</th>\n",
       "      <th>delinq_2yrs</th>\n",
       "      <th>inq_last_6mths</th>\n",
       "      <th>mths_since_last_delinq</th>\n",
       "      <th>mths_since_last_record</th>\n",
       "      <th>open_acc</th>\n",
       "      <th>pub_rec</th>\n",
       "      <th>revol_bal</th>\n",
       "      <th>revol_util</th>\n",
       "      <th>total_acc</th>\n",
       "      <th>initial_list_status</th>\n",
       "      <th>total_rec_int</th>\n",
       "      <th>total_rec_late_fee</th>\n",
       "      <th>recoveries</th>\n",
       "      <th>collection_recovery_fee</th>\n",
       "      <th>collections_12_mths_ex_med</th>\n",
       "      <th>mths_since_last_major_derog</th>\n",
       "      <th>application_type</th>\n",
       "      <th>verification_status_joint</th>\n",
       "      <th>last_week_pay</th>\n",
       "      <th>acc_now_delinq</th>\n",
       "      <th>tot_coll_amt</th>\n",
       "      <th>tot_cur_bal</th>\n",
       "      <th>total_rev_hi_lim</th>\n",
       "      <th>loan_status</th>\n",
       "    </tr>\n",
       "  </thead>\n",
       "  <tbody>\n",
       "    <tr>\n",
       "      <th>type</th>\n",
       "      <td>int64</td>\n",
       "      <td>int64</td>\n",
       "      <td>float64</td>\n",
       "      <td>object</td>\n",
       "      <td>object</td>\n",
       "      <td>float64</td>\n",
       "      <td>object</td>\n",
       "      <td>object</td>\n",
       "      <td>object</td>\n",
       "      <td>object</td>\n",
       "      <td>object</td>\n",
       "      <td>float64</td>\n",
       "      <td>object</td>\n",
       "      <td>object</td>\n",
       "      <td>object</td>\n",
       "      <td>object</td>\n",
       "      <td>object</td>\n",
       "      <td>object</td>\n",
       "      <td>object</td>\n",
       "      <td>float64</td>\n",
       "      <td>float64</td>\n",
       "      <td>float64</td>\n",
       "      <td>float64</td>\n",
       "      <td>float64</td>\n",
       "      <td>float64</td>\n",
       "      <td>float64</td>\n",
       "      <td>float64</td>\n",
       "      <td>float64</td>\n",
       "      <td>float64</td>\n",
       "      <td>object</td>\n",
       "      <td>float64</td>\n",
       "      <td>float64</td>\n",
       "      <td>float64</td>\n",
       "      <td>float64</td>\n",
       "      <td>float64</td>\n",
       "      <td>float64</td>\n",
       "      <td>object</td>\n",
       "      <td>object</td>\n",
       "      <td>object</td>\n",
       "      <td>float64</td>\n",
       "      <td>float64</td>\n",
       "      <td>float64</td>\n",
       "      <td>float64</td>\n",
       "      <td>int64</td>\n",
       "    </tr>\n",
       "    <tr>\n",
       "      <th>missing</th>\n",
       "      <td>0</td>\n",
       "      <td>0</td>\n",
       "      <td>0</td>\n",
       "      <td>0</td>\n",
       "      <td>16</td>\n",
       "      <td>0</td>\n",
       "      <td>0</td>\n",
       "      <td>0</td>\n",
       "      <td>5.79</td>\n",
       "      <td>0</td>\n",
       "      <td>0</td>\n",
       "      <td>0</td>\n",
       "      <td>0</td>\n",
       "      <td>0</td>\n",
       "      <td>85.8</td>\n",
       "      <td>0</td>\n",
       "      <td>0.02</td>\n",
       "      <td>0</td>\n",
       "      <td>0</td>\n",
       "      <td>0</td>\n",
       "      <td>0</td>\n",
       "      <td>0</td>\n",
       "      <td>51.2</td>\n",
       "      <td>84.6</td>\n",
       "      <td>0</td>\n",
       "      <td>0</td>\n",
       "      <td>0</td>\n",
       "      <td>0.05</td>\n",
       "      <td>0</td>\n",
       "      <td>0</td>\n",
       "      <td>0</td>\n",
       "      <td>0</td>\n",
       "      <td>0</td>\n",
       "      <td>0</td>\n",
       "      <td>0.02</td>\n",
       "      <td>75</td>\n",
       "      <td>0</td>\n",
       "      <td>99.9</td>\n",
       "      <td>0</td>\n",
       "      <td>0</td>\n",
       "      <td>7.89</td>\n",
       "      <td>7.89</td>\n",
       "      <td>7.89</td>\n",
       "      <td>0</td>\n",
       "    </tr>\n",
       "    <tr>\n",
       "      <th>nunique</th>\n",
       "      <td>1370</td>\n",
       "      <td>1370</td>\n",
       "      <td>6442</td>\n",
       "      <td>2</td>\n",
       "      <td>104</td>\n",
       "      <td>535</td>\n",
       "      <td>7</td>\n",
       "      <td>35</td>\n",
       "      <td>190125</td>\n",
       "      <td>12</td>\n",
       "      <td>6</td>\n",
       "      <td>33988</td>\n",
       "      <td>3</td>\n",
       "      <td>2</td>\n",
       "      <td>70638</td>\n",
       "      <td>14</td>\n",
       "      <td>39693</td>\n",
       "      <td>917</td>\n",
       "      <td>51</td>\n",
       "      <td>4058</td>\n",
       "      <td>26</td>\n",
       "      <td>23</td>\n",
       "      <td>147</td>\n",
       "      <td>122</td>\n",
       "      <td>73</td>\n",
       "      <td>28</td>\n",
       "      <td>63459</td>\n",
       "      <td>1265</td>\n",
       "      <td>126</td>\n",
       "      <td>2</td>\n",
       "      <td>243149</td>\n",
       "      <td>4073</td>\n",
       "      <td>14024</td>\n",
       "      <td>12617</td>\n",
       "      <td>9</td>\n",
       "      <td>162</td>\n",
       "      <td>2</td>\n",
       "      <td>3</td>\n",
       "      <td>98</td>\n",
       "      <td>8</td>\n",
       "      <td>8081</td>\n",
       "      <td>251640</td>\n",
       "      <td>14697</td>\n",
       "      <td>2</td>\n",
       "    </tr>\n",
       "  </tbody>\n",
       "</table>\n",
       "</div>"
      ],
      "text/plain": [
       "        loan_amnt funded_amnt funded_amnt_inv    term batch_enrolled int_rate   grade sub_grade emp_title emp_length home_ownership annual_inc verification_status pymnt_plan    desc purpose   title zip_code addr_state      dti delinq_2yrs inq_last_6mths mths_since_last_delinq mths_since_last_record open_acc  pub_rec revol_bal revol_util total_acc initial_list_status total_rec_int total_rec_late_fee recoveries collection_recovery_fee collections_12_mths_ex_med mths_since_last_major_derog application_type verification_status_joint last_week_pay acc_now_delinq tot_coll_amt tot_cur_bal total_rev_hi_lim loan_status\n",
       "type        int64       int64         float64  object         object  float64  object    object    object     object         object    float64              object     object  object  object  object   object     object  float64     float64        float64                float64                float64  float64  float64   float64    float64   float64              object       float64            float64    float64                 float64                    float64                     float64           object                    object        object        float64      float64     float64          float64       int64\n",
       "missing         0           0               0       0             16        0       0         0      5.79          0              0          0                   0          0    85.8       0    0.02        0          0        0           0              0                   51.2                   84.6        0        0         0       0.05         0                   0             0                  0          0                       0                       0.02                          75                0                      99.9             0              0         7.89        7.89             7.89           0\n",
       "nunique      1370        1370            6442       2            104      535       7        35    190125         12              6      33988                   3          2   70638      14   39693      917         51     4058          26             23                    147                    122       73       28     63459       1265       126                   2        243149               4073      14024                   12617                          9                         162                2                         3            98              8         8081      251640            14697           2"
      ]
     },
     "execution_count": 18,
     "metadata": {},
     "output_type": "execute_result"
    }
   ],
   "source": [
    "df_info = info(train,False)\n",
    "df_info.T"
   ]
  },
  {
   "cell_type": "code",
   "execution_count": null,
   "metadata": {
    "collapsed": true
   },
   "outputs": [],
   "source": []
  },
  {
   "cell_type": "code",
   "execution_count": 19,
   "metadata": {
    "scrolled": true
   },
   "outputs": [
    {
     "data": {
      "text/plain": [
       "0    0.764\n",
       "1    0.236\n",
       "Name: loan_status, dtype: float64"
      ]
     },
     "execution_count": 19,
     "metadata": {},
     "output_type": "execute_result"
    }
   ],
   "source": [
    "target.value_counts(normalize=True)"
   ]
  },
  {
   "cell_type": "code",
   "execution_count": 20,
   "metadata": {},
   "outputs": [
    {
     "data": {
      "text/plain": [
       "float64    23\n",
       "object     18\n",
       "int64       3\n",
       "dtype: int64"
      ]
     },
     "execution_count": 20,
     "metadata": {},
     "output_type": "execute_result"
    }
   ],
   "source": [
    "train.dtypes.value_counts()"
   ]
  },
  {
   "cell_type": "code",
   "execution_count": 21,
   "metadata": {
    "collapsed": true
   },
   "outputs": [],
   "source": [
    "#funded_amnt: possible data leakage; drop\n",
    "#funded_amnt_inv: may provide insights"
   ]
  },
  {
   "cell_type": "code",
   "execution_count": 22,
   "metadata": {},
   "outputs": [
    {
     "data": {
      "text/plain": [
       "array(['36 months', '60 months'], dtype=object)"
      ]
     },
     "execution_count": 22,
     "metadata": {},
     "output_type": "execute_result"
    }
   ],
   "source": [
    "train.term.unique() #binary"
   ]
  },
  {
   "cell_type": "code",
   "execution_count": 23,
   "metadata": {},
   "outputs": [
    {
     "data": {
      "text/plain": [
       "array([' ', 'BAT1586599', 'BAT1586599', 'BAT4808022', 'BAT2833642',\n",
       "       'BAT2575549', ' ', nan, 'BAT4136152', 'BAT4694572', ' ', ' ',\n",
       "       'BAT5924421', 'BAT3193689', 'BAT224923', 'BAT1184694', 'BAT1930365',\n",
       "       ' ', 'BAT3873588', nan], dtype=object)"
      ]
     },
     "execution_count": 23,
     "metadata": {},
     "output_type": "execute_result"
    }
   ],
   "source": [
    "np.array((train.batch_enrolled.head(20))) #possible data leakage #drop"
   ]
  },
  {
   "cell_type": "code",
   "execution_count": 24,
   "metadata": {
    "collapsed": true
   },
   "outputs": [],
   "source": [
    "#subgrade is having info of grade; drop grade\n",
    "#emp_title: too many unique values; drop"
   ]
  },
  {
   "cell_type": "code",
   "execution_count": 25,
   "metadata": {},
   "outputs": [
    {
     "data": {
      "text/plain": [
       "array(['clerk', 'Human Resources Specialist', 'Driver',\n",
       "       'Us office of Personnel Management', 'LAUSD-HOLLYWOOD HIGH SCHOOL',\n",
       "       'Design Consultant', 'TOYOTA OF NORTH HOLLYWOOD', 'Banker', 'LVN',\n",
       "       'Registered Nurse', 'VP of Operations', 'Jp Morgan chase bank',\n",
       "       'driver', 'Federal Law Enforcement', 'Truck Driver',\n",
       "       'ASSISTANT QAPI COORDINATOR', 'LS1', nan, 'Production employee',\n",
       "       'Principal Consultant'], dtype=object)"
      ]
     },
     "execution_count": 25,
     "metadata": {},
     "output_type": "execute_result"
    }
   ],
   "source": [
    "np.array(train.emp_title.head(20)) #High dimension; drop "
   ]
  },
  {
   "cell_type": "code",
   "execution_count": 26,
   "metadata": {},
   "outputs": [
    {
     "data": {
      "text/plain": [
       "array(['9 years', '< 1 year', '2 years', '10+ years', '5 years', '8 years',\n",
       "       '7 years', '4 years', 'n/a', '1 year', '3 years', '6 years'], dtype=object)"
      ]
     },
     "execution_count": 26,
     "metadata": {},
     "output_type": "execute_result"
    }
   ],
   "source": [
    "train.emp_length.unique() #extract num of years"
   ]
  },
  {
   "cell_type": "code",
   "execution_count": 27,
   "metadata": {},
   "outputs": [
    {
     "data": {
      "text/plain": [
       "array(['OWN', 'MORTGAGE', 'RENT', 'OTHER', 'NONE', 'ANY'], dtype=object)"
      ]
     },
     "execution_count": 27,
     "metadata": {},
     "output_type": "execute_result"
    }
   ],
   "source": [
    "train.home_ownership.unique()"
   ]
  },
  {
   "cell_type": "code",
   "execution_count": 28,
   "metadata": {},
   "outputs": [
    {
     "data": {
      "text/plain": [
       "MORTGAGE    265940\n",
       "RENT        213668\n",
       "OWN          52664\n",
       "OTHER          117\n",
       "NONE            36\n",
       "ANY              3\n",
       "Name: home_ownership, dtype: int64"
      ]
     },
     "execution_count": 28,
     "metadata": {},
     "output_type": "execute_result"
    }
   ],
   "source": [
    "train.home_ownership.value_counts() #create cat for RENT, OWN and anything else other than Mortgage, rent, own"
   ]
  },
  {
   "cell_type": "code",
   "execution_count": 29,
   "metadata": {},
   "outputs": [
    {
     "data": {
      "text/plain": [
       "array(['Source Verified', 'Not Verified', 'Verified'], dtype=object)"
      ]
     },
     "execution_count": 29,
     "metadata": {},
     "output_type": "execute_result"
    }
   ],
   "source": [
    "train.verification_status.unique()"
   ]
  },
  {
   "cell_type": "code",
   "execution_count": 30,
   "metadata": {
    "collapsed": true
   },
   "outputs": [],
   "source": [
    "#Plot categorical variables\n",
    "def plot_categories( df , cat , target , **kwargs ):\n",
    "    row = kwargs.get( 'row' , None )\n",
    "    col = kwargs.get( 'col' , None )\n",
    "    facet = sns.FacetGrid( df , row = row , col = col )\n",
    "    facet.map( sns.barplot , cat , target ,order=df[cat].unique())\n",
    "    facet.add_legend()\n",
    "    facet.set_xticklabels(rotation=30)\n",
    "    plt.show()"
   ]
  },
  {
   "cell_type": "code",
   "execution_count": 31,
   "metadata": {},
   "outputs": [
    {
     "data": {
      "image/png": "[encoded data removed]",
      "text/plain": [
       "<matplotlib.figure.Figure at 0x221396d2780>"
      ]
     },
     "metadata": {},
     "output_type": "display_data"
    }
   ],
   "source": [
    "#plot loan status vs verfication status\n",
    "plot_categories( train , 'verification_status' , 'loan_status')"
   ]
  },
  {
   "cell_type": "code",
   "execution_count": 32,
   "metadata": {},
   "outputs": [
    {
     "data": {
      "text/plain": [
       "array(['n', 'y'], dtype=object)"
      ]
     },
     "execution_count": 32,
     "metadata": {},
     "output_type": "execute_result"
    }
   ],
   "source": [
    "train.pymnt_plan.unique()"
   ]
  },
  {
   "cell_type": "code",
   "execution_count": 33,
   "metadata": {
    "collapsed": true
   },
   "outputs": [],
   "source": [
    "#desc High dimensional; drop"
   ]
  },
  {
   "cell_type": "code",
   "execution_count": 34,
   "metadata": {},
   "outputs": [
    {
     "data": {
      "text/plain": [
       "array(['debt_consolidation', 'home_improvement', 'credit_card', 'other',\n",
       "       'major_purchase', 'small_business', 'vacation', 'car', 'moving',\n",
       "       'medical', 'wedding', 'renewable_energy', 'house', 'educational'], dtype=object)"
      ]
     },
     "execution_count": 34,
     "metadata": {},
     "output_type": "execute_result"
    }
   ],
   "source": [
    "train.purpose.unique()"
   ]
  },
  {
   "cell_type": "code",
   "execution_count": 35,
   "metadata": {},
   "outputs": [
    {
     "data": {
      "text/plain": [
       "array(['Debt consolidation', 'Home improvement', 'refi',\n",
       "       'Credit Card Debt Consolidation', 'PAY THEM OFF',\n",
       "       'Credit card refinancing', 'Loan to payoff credit card debt',\n",
       "       'Debt Consolidation', 'Close cards and consolidate', 'Other', nan,\n",
       "       'Grateful Getting Out of Debt For Good', 'Credit Card Elimination',\n",
       "       'Unexpected Expenses', 'consolidation loan', 'Major purchase',\n",
       "       'Business funding', 'Business', 'credit card reconciliation',\n",
       "       'Vacation'], dtype=object)"
      ]
     },
     "execution_count": 35,
     "metadata": {},
     "output_type": "execute_result"
    }
   ],
   "source": [
    "#title High dimensional\n",
    "np.array(train.title.unique()[:20])"
   ]
  },
  {
   "cell_type": "code",
   "execution_count": 36,
   "metadata": {},
   "outputs": [
    {
     "data": {
      "text/plain": [
       "array(['349xx', '209xx', '447xx', '221xx', '900xx', '461xx', '913xx',\n",
       "       '351xx', '917xx', '427xx', '875xx', '926xx', '381xx', '773xx',\n",
       "       '917xx', '922xx', '919xx', '191xx', '666xx', '606xx'], dtype=object)"
      ]
     },
     "execution_count": 36,
     "metadata": {},
     "output_type": "execute_result"
    }
   ],
   "source": [
    "np.array(train.zip_code.head(20)) #zip code; create categories taking first 2 characters"
   ]
  },
  {
   "cell_type": "code",
   "execution_count": 37,
   "metadata": {},
   "outputs": [
    {
     "data": {
      "text/plain": [
       "array(['FL', 'MD', 'OH', 'VA', 'CA', 'IN', 'CA', 'AL', 'CA', 'KY', 'NM',\n",
       "       'CA', 'TN', 'TX', 'CA', 'CA', 'CA', 'PA', 'KS', 'IL'], dtype=object)"
      ]
     },
     "execution_count": 37,
     "metadata": {},
     "output_type": "execute_result"
    }
   ],
   "source": [
    "np.array(train.addr_state.head(20)) # drop state as redundant info"
   ]
  },
  {
   "cell_type": "code",
   "execution_count": 38,
   "metadata": {},
   "outputs": [
    {
     "data": {
      "text/plain": [
       "0    50.0\n",
       "1     NaN\n",
       "2     NaN\n",
       "3    46.0\n",
       "4     NaN\n",
       "Name: mths_since_last_delinq, dtype: float64"
      ]
     },
     "execution_count": 38,
     "metadata": {},
     "output_type": "execute_result"
    }
   ],
   "source": [
    "train.mths_since_last_delinq.head()"
   ]
  },
  {
   "cell_type": "code",
   "execution_count": 39,
   "metadata": {},
   "outputs": [
    {
     "data": {
      "text/plain": [
       "272554"
      ]
     },
     "execution_count": 39,
     "metadata": {},
     "output_type": "execute_result"
    }
   ],
   "source": [
    "train.mths_since_last_delinq.isnull().sum()"
   ]
  },
  {
   "cell_type": "code",
   "execution_count": 40,
   "metadata": {
    "collapsed": true
   },
   "outputs": [],
   "source": [
    "#mths_since_last_delinq, mths_since_last_record, mths_since_last_major_derog: replace NaN by 999"
   ]
  },
  {
   "cell_type": "code",
   "execution_count": 41,
   "metadata": {},
   "outputs": [
    {
     "data": {
      "text/plain": [
       "f    274018\n",
       "w    258410\n",
       "Name: initial_list_status, dtype: int64"
      ]
     },
     "execution_count": 41,
     "metadata": {},
     "output_type": "execute_result"
    }
   ],
   "source": [
    "train.initial_list_status.value_counts()"
   ]
  },
  {
   "cell_type": "code",
   "execution_count": 42,
   "metadata": {
    "collapsed": true
   },
   "outputs": [],
   "source": [
    "#last_week_pay: extract week number from it"
   ]
  },
  {
   "cell_type": "code",
   "execution_count": null,
   "metadata": {
    "collapsed": true
   },
   "outputs": [],
   "source": []
  },
  {
   "cell_type": "code",
   "execution_count": 43,
   "metadata": {
    "collapsed": true
   },
   "outputs": [],
   "source": [
    "test = pd.read_csv(os.path.join(folder,test_file))"
   ]
  },
  {
   "cell_type": "code",
   "execution_count": 44,
   "metadata": {
    "collapsed": true
   },
   "outputs": [],
   "source": [
    "test.set_index('member_id',inplace=True) #id col"
   ]
  },
  {
   "cell_type": "code",
   "execution_count": 45,
   "metadata": {},
   "outputs": [
    {
     "data": {
      "text/html": [
       "<div>\n",
       "<style>\n",
       "    .dataframe thead tr:only-child th {\n",
       "        text-align: right;\n",
       "    }\n",
       "\n",
       "    .dataframe thead th {\n",
       "        text-align: left;\n",
       "    }\n",
       "\n",
       "    .dataframe tbody tr th {\n",
       "        vertical-align: top;\n",
       "    }\n",
       "</style>\n",
       "<table border=\"1\" class=\"dataframe\">\n",
       "  <thead>\n",
       "    <tr style=\"text-align: right;\">\n",
       "      <th></th>\n",
       "      <th>loan_amnt</th>\n",
       "      <th>funded_amnt</th>\n",
       "      <th>funded_amnt_inv</th>\n",
       "      <th>term</th>\n",
       "      <th>batch_enrolled</th>\n",
       "      <th>int_rate</th>\n",
       "      <th>grade</th>\n",
       "      <th>sub_grade</th>\n",
       "      <th>emp_title</th>\n",
       "      <th>emp_length</th>\n",
       "      <th>home_ownership</th>\n",
       "      <th>annual_inc</th>\n",
       "      <th>verification_status</th>\n",
       "      <th>pymnt_plan</th>\n",
       "      <th>desc</th>\n",
       "      <th>purpose</th>\n",
       "      <th>title</th>\n",
       "      <th>zip_code</th>\n",
       "      <th>addr_state</th>\n",
       "      <th>dti</th>\n",
       "      <th>delinq_2yrs</th>\n",
       "      <th>inq_last_6mths</th>\n",
       "      <th>mths_since_last_delinq</th>\n",
       "      <th>mths_since_last_record</th>\n",
       "      <th>open_acc</th>\n",
       "      <th>pub_rec</th>\n",
       "      <th>revol_bal</th>\n",
       "      <th>revol_util</th>\n",
       "      <th>total_acc</th>\n",
       "      <th>initial_list_status</th>\n",
       "      <th>total_rec_int</th>\n",
       "      <th>total_rec_late_fee</th>\n",
       "      <th>recoveries</th>\n",
       "      <th>collection_recovery_fee</th>\n",
       "      <th>collections_12_mths_ex_med</th>\n",
       "      <th>mths_since_last_major_derog</th>\n",
       "      <th>application_type</th>\n",
       "      <th>verification_status_joint</th>\n",
       "      <th>last_week_pay</th>\n",
       "      <th>acc_now_delinq</th>\n",
       "      <th>tot_coll_amt</th>\n",
       "      <th>tot_cur_bal</th>\n",
       "      <th>total_rev_hi_lim</th>\n",
       "    </tr>\n",
       "  </thead>\n",
       "  <tbody>\n",
       "    <tr>\n",
       "      <th>type</th>\n",
       "      <td>int64</td>\n",
       "      <td>int64</td>\n",
       "      <td>float64</td>\n",
       "      <td>object</td>\n",
       "      <td>object</td>\n",
       "      <td>float64</td>\n",
       "      <td>object</td>\n",
       "      <td>object</td>\n",
       "      <td>object</td>\n",
       "      <td>object</td>\n",
       "      <td>object</td>\n",
       "      <td>float64</td>\n",
       "      <td>object</td>\n",
       "      <td>object</td>\n",
       "      <td>object</td>\n",
       "      <td>object</td>\n",
       "      <td>object</td>\n",
       "      <td>object</td>\n",
       "      <td>object</td>\n",
       "      <td>float64</td>\n",
       "      <td>float64</td>\n",
       "      <td>float64</td>\n",
       "      <td>float64</td>\n",
       "      <td>float64</td>\n",
       "      <td>float64</td>\n",
       "      <td>float64</td>\n",
       "      <td>int64</td>\n",
       "      <td>float64</td>\n",
       "      <td>float64</td>\n",
       "      <td>object</td>\n",
       "      <td>float64</td>\n",
       "      <td>float64</td>\n",
       "      <td>float64</td>\n",
       "      <td>float64</td>\n",
       "      <td>float64</td>\n",
       "      <td>float64</td>\n",
       "      <td>object</td>\n",
       "      <td>object</td>\n",
       "      <td>object</td>\n",
       "      <td>float64</td>\n",
       "      <td>float64</td>\n",
       "      <td>float64</td>\n",
       "      <td>float64</td>\n",
       "    </tr>\n",
       "    <tr>\n",
       "      <th>missing</th>\n",
       "      <td>0</td>\n",
       "      <td>0</td>\n",
       "      <td>0</td>\n",
       "      <td>0</td>\n",
       "      <td>12.8</td>\n",
       "      <td>0</td>\n",
       "      <td>0</td>\n",
       "      <td>0</td>\n",
       "      <td>5.81</td>\n",
       "      <td>0</td>\n",
       "      <td>0</td>\n",
       "      <td>0</td>\n",
       "      <td>0</td>\n",
       "      <td>0</td>\n",
       "      <td>85.9</td>\n",
       "      <td>0</td>\n",
       "      <td>0.02</td>\n",
       "      <td>0</td>\n",
       "      <td>0</td>\n",
       "      <td>0</td>\n",
       "      <td>0</td>\n",
       "      <td>0</td>\n",
       "      <td>51.2</td>\n",
       "      <td>84.5</td>\n",
       "      <td>0</td>\n",
       "      <td>0</td>\n",
       "      <td>0</td>\n",
       "      <td>0.06</td>\n",
       "      <td>0</td>\n",
       "      <td>0</td>\n",
       "      <td>0</td>\n",
       "      <td>0</td>\n",
       "      <td>0</td>\n",
       "      <td>0</td>\n",
       "      <td>0.01</td>\n",
       "      <td>75</td>\n",
       "      <td>0</td>\n",
       "      <td>99.9</td>\n",
       "      <td>0</td>\n",
       "      <td>0</td>\n",
       "      <td>7.97</td>\n",
       "      <td>7.97</td>\n",
       "      <td>7.97</td>\n",
       "    </tr>\n",
       "    <tr>\n",
       "      <th>nunique</th>\n",
       "      <td>1365</td>\n",
       "      <td>1365</td>\n",
       "      <td>4840</td>\n",
       "      <td>2</td>\n",
       "      <td>104</td>\n",
       "      <td>533</td>\n",
       "      <td>7</td>\n",
       "      <td>35</td>\n",
       "      <td>135103</td>\n",
       "      <td>12</td>\n",
       "      <td>5</td>\n",
       "      <td>25034</td>\n",
       "      <td>3</td>\n",
       "      <td>2</td>\n",
       "      <td>47102</td>\n",
       "      <td>14</td>\n",
       "      <td>27976</td>\n",
       "      <td>904</td>\n",
       "      <td>51</td>\n",
       "      <td>4029</td>\n",
       "      <td>25</td>\n",
       "      <td>24</td>\n",
       "      <td>135</td>\n",
       "      <td>122</td>\n",
       "      <td>65</td>\n",
       "      <td>24</td>\n",
       "      <td>56301</td>\n",
       "      <td>1220</td>\n",
       "      <td>118</td>\n",
       "      <td>2</td>\n",
       "      <td>187736</td>\n",
       "      <td>2972</td>\n",
       "      <td>9673</td>\n",
       "      <td>8770</td>\n",
       "      <td>9</td>\n",
       "      <td>162</td>\n",
       "      <td>2</td>\n",
       "      <td>3</td>\n",
       "      <td>93</td>\n",
       "      <td>6</td>\n",
       "      <td>6610</td>\n",
       "      <td>196438</td>\n",
       "      <td>10841</td>\n",
       "    </tr>\n",
       "  </tbody>\n",
       "</table>\n",
       "</div>"
      ],
      "text/plain": [
       "        loan_amnt funded_amnt funded_amnt_inv    term batch_enrolled int_rate   grade sub_grade emp_title emp_length home_ownership annual_inc verification_status pymnt_plan    desc purpose   title zip_code addr_state      dti delinq_2yrs inq_last_6mths mths_since_last_delinq mths_since_last_record open_acc  pub_rec revol_bal revol_util total_acc initial_list_status total_rec_int total_rec_late_fee recoveries collection_recovery_fee collections_12_mths_ex_med mths_since_last_major_derog application_type verification_status_joint last_week_pay acc_now_delinq tot_coll_amt tot_cur_bal total_rev_hi_lim\n",
       "type        int64       int64         float64  object         object  float64  object    object    object     object         object    float64              object     object  object  object  object   object     object  float64     float64        float64                float64                float64  float64  float64     int64    float64   float64              object       float64            float64    float64                 float64                    float64                     float64           object                    object        object        float64      float64     float64          float64\n",
       "missing         0           0               0       0           12.8        0       0         0      5.81          0              0          0                   0          0    85.9       0    0.02        0          0        0           0              0                   51.2                   84.5        0        0         0       0.06         0                   0             0                  0          0                       0                       0.01                          75                0                      99.9             0              0         7.97        7.97             7.97\n",
       "nunique      1365        1365            4840       2            104      533       7        35    135103         12              5      25034                   3          2   47102      14   27976      904         51     4029          25             24                    135                    122       65       24     56301       1220       118                   2        187736               2972       9673                    8770                          9                         162                2                         3            93              6         6610      196438            10841"
      ]
     },
     "execution_count": 45,
     "metadata": {},
     "output_type": "execute_result"
    }
   ],
   "source": [
    "df_info_test = info(test,False)\n",
    "df_info_test.T"
   ]
  },
  {
   "cell_type": "markdown",
   "metadata": {},
   "source": [
    "## Data Description  \n",
    "Total columns 43 + member id + target\n",
    "Possible Leakage: Funded_amt, funded_amnt_inv"
   ]
  },
  {
   "cell_type": "code",
   "execution_count": 46,
   "metadata": {},
   "outputs": [
    {
     "data": {
      "text/html": [
       "<div>\n",
       "<style>\n",
       "    .dataframe thead tr:only-child th {\n",
       "        text-align: right;\n",
       "    }\n",
       "\n",
       "    .dataframe thead th {\n",
       "        text-align: left;\n",
       "    }\n",
       "\n",
       "    .dataframe tbody tr th {\n",
       "        vertical-align: top;\n",
       "    }\n",
       "</style>\n",
       "<table border=\"1\" class=\"dataframe\">\n",
       "  <thead>\n",
       "    <tr style=\"text-align: right;\">\n",
       "      <th></th>\n",
       "      <th>type</th>\n",
       "      <th>missing</th>\n",
       "      <th>nunique</th>\n",
       "    </tr>\n",
       "  </thead>\n",
       "  <tbody>\n",
       "    <tr>\n",
       "      <th>desc</th>\n",
       "      <td>object</td>\n",
       "      <td>85.80</td>\n",
       "      <td>70638</td>\n",
       "    </tr>\n",
       "    <tr>\n",
       "      <th>mths_since_last_delinq</th>\n",
       "      <td>float64</td>\n",
       "      <td>51.19</td>\n",
       "      <td>147</td>\n",
       "    </tr>\n",
       "    <tr>\n",
       "      <th>mths_since_last_record</th>\n",
       "      <td>float64</td>\n",
       "      <td>84.58</td>\n",
       "      <td>122</td>\n",
       "    </tr>\n",
       "    <tr>\n",
       "      <th>mths_since_last_major_derog</th>\n",
       "      <td>float64</td>\n",
       "      <td>75.02</td>\n",
       "      <td>162</td>\n",
       "    </tr>\n",
       "    <tr>\n",
       "      <th>verification_status_joint</th>\n",
       "      <td>object</td>\n",
       "      <td>99.94</td>\n",
       "      <td>3</td>\n",
       "    </tr>\n",
       "  </tbody>\n",
       "</table>\n",
       "</div>"
      ],
      "text/plain": [
       "                                type  missing  nunique\n",
       "desc                          object    85.80    70638\n",
       "mths_since_last_delinq       float64    51.19      147\n",
       "mths_since_last_record       float64    84.58      122\n",
       "mths_since_last_major_derog  float64    75.02      162\n",
       "verification_status_joint     object    99.94        3"
      ]
     },
     "execution_count": 46,
     "metadata": {},
     "output_type": "execute_result"
    }
   ],
   "source": [
    "#Treating missing values\n",
    "df_info[df_info['missing'] > 40]"
   ]
  },
  {
   "cell_type": "code",
   "execution_count": 47,
   "metadata": {
    "collapsed": true,
    "scrolled": true
   },
   "outputs": [],
   "source": [
    "drop_missing = ['desc','verification_status_joint']#list(df_info[df_info['missing'] > 40].index) #Too high missing values"
   ]
  },
  {
   "cell_type": "code",
   "execution_count": 48,
   "metadata": {},
   "outputs": [
    {
     "data": {
      "text/plain": [
       "['desc', 'verification_status_joint']"
      ]
     },
     "execution_count": 48,
     "metadata": {},
     "output_type": "execute_result"
    }
   ],
   "source": [
    "drop_missing"
   ]
  },
  {
   "cell_type": "code",
   "execution_count": 49,
   "metadata": {
    "collapsed": true
   },
   "outputs": [],
   "source": [
    "train.drop(drop_missing, axis =1 , inplace = True)\n",
    "test.drop(drop_missing, axis =1 , inplace = True)"
   ]
  },
  {
   "cell_type": "code",
   "execution_count": 50,
   "metadata": {
    "collapsed": true
   },
   "outputs": [],
   "source": [
    "drop_cols = ['funded_amnt','batch_enrolled','grade','emp_title','title','addr_state']"
   ]
  },
  {
   "cell_type": "code",
   "execution_count": 51,
   "metadata": {
    "collapsed": true
   },
   "outputs": [],
   "source": [
    "train.drop(drop_cols, axis =1 , inplace = True)\n",
    "test.drop(drop_cols, axis =1 , inplace = True)"
   ]
  },
  {
   "cell_type": "code",
   "execution_count": 52,
   "metadata": {},
   "outputs": [
    {
     "data": {
      "text/html": [
       "<div>\n",
       "<style>\n",
       "    .dataframe thead tr:only-child th {\n",
       "        text-align: right;\n",
       "    }\n",
       "\n",
       "    .dataframe thead th {\n",
       "        text-align: left;\n",
       "    }\n",
       "\n",
       "    .dataframe tbody tr th {\n",
       "        vertical-align: top;\n",
       "    }\n",
       "</style>\n",
       "<table border=\"1\" class=\"dataframe\">\n",
       "  <thead>\n",
       "    <tr style=\"text-align: right;\">\n",
       "      <th></th>\n",
       "      <th>mths_since_last_record</th>\n",
       "      <th>mths_since_last_major_derog</th>\n",
       "      <th>mths_since_last_delinq</th>\n",
       "      <th>total_rev_hi_lim</th>\n",
       "      <th>tot_cur_bal</th>\n",
       "      <th>tot_coll_amt</th>\n",
       "      <th>revol_util</th>\n",
       "      <th>collections_12_mths_ex_med</th>\n",
       "      <th>application_type</th>\n",
       "      <th>revol_bal</th>\n",
       "      <th>collection_recovery_fee</th>\n",
       "      <th>recoveries</th>\n",
       "      <th>total_rec_late_fee</th>\n",
       "      <th>total_rec_int</th>\n",
       "      <th>initial_list_status</th>\n",
       "      <th>last_week_pay</th>\n",
       "      <th>acc_now_delinq</th>\n",
       "      <th>total_acc</th>\n",
       "      <th>loan_amnt</th>\n",
       "      <th>pub_rec</th>\n",
       "      <th>funded_amnt_inv</th>\n",
       "      <th>open_acc</th>\n",
       "      <th>inq_last_6mths</th>\n",
       "      <th>delinq_2yrs</th>\n",
       "      <th>dti</th>\n",
       "      <th>zip_code</th>\n",
       "      <th>purpose</th>\n",
       "      <th>pymnt_plan</th>\n",
       "      <th>verification_status</th>\n",
       "      <th>annual_inc</th>\n",
       "      <th>home_ownership</th>\n",
       "      <th>emp_length</th>\n",
       "      <th>sub_grade</th>\n",
       "      <th>int_rate</th>\n",
       "      <th>term</th>\n",
       "      <th>loan_status</th>\n",
       "    </tr>\n",
       "  </thead>\n",
       "  <tbody>\n",
       "    <tr>\n",
       "      <th>type</th>\n",
       "      <td>float64</td>\n",
       "      <td>float64</td>\n",
       "      <td>float64</td>\n",
       "      <td>float64</td>\n",
       "      <td>float64</td>\n",
       "      <td>float64</td>\n",
       "      <td>float64</td>\n",
       "      <td>float64</td>\n",
       "      <td>object</td>\n",
       "      <td>float64</td>\n",
       "      <td>float64</td>\n",
       "      <td>float64</td>\n",
       "      <td>float64</td>\n",
       "      <td>float64</td>\n",
       "      <td>object</td>\n",
       "      <td>object</td>\n",
       "      <td>float64</td>\n",
       "      <td>float64</td>\n",
       "      <td>int64</td>\n",
       "      <td>float64</td>\n",
       "      <td>float64</td>\n",
       "      <td>float64</td>\n",
       "      <td>float64</td>\n",
       "      <td>float64</td>\n",
       "      <td>float64</td>\n",
       "      <td>object</td>\n",
       "      <td>object</td>\n",
       "      <td>object</td>\n",
       "      <td>object</td>\n",
       "      <td>float64</td>\n",
       "      <td>object</td>\n",
       "      <td>object</td>\n",
       "      <td>object</td>\n",
       "      <td>float64</td>\n",
       "      <td>object</td>\n",
       "      <td>int64</td>\n",
       "    </tr>\n",
       "    <tr>\n",
       "      <th>missing</th>\n",
       "      <td>84.6</td>\n",
       "      <td>75</td>\n",
       "      <td>51.2</td>\n",
       "      <td>7.89</td>\n",
       "      <td>7.89</td>\n",
       "      <td>7.89</td>\n",
       "      <td>0.05</td>\n",
       "      <td>0.02</td>\n",
       "      <td>0</td>\n",
       "      <td>0</td>\n",
       "      <td>0</td>\n",
       "      <td>0</td>\n",
       "      <td>0</td>\n",
       "      <td>0</td>\n",
       "      <td>0</td>\n",
       "      <td>0</td>\n",
       "      <td>0</td>\n",
       "      <td>0</td>\n",
       "      <td>0</td>\n",
       "      <td>0</td>\n",
       "      <td>0</td>\n",
       "      <td>0</td>\n",
       "      <td>0</td>\n",
       "      <td>0</td>\n",
       "      <td>0</td>\n",
       "      <td>0</td>\n",
       "      <td>0</td>\n",
       "      <td>0</td>\n",
       "      <td>0</td>\n",
       "      <td>0</td>\n",
       "      <td>0</td>\n",
       "      <td>0</td>\n",
       "      <td>0</td>\n",
       "      <td>0</td>\n",
       "      <td>0</td>\n",
       "      <td>0</td>\n",
       "    </tr>\n",
       "    <tr>\n",
       "      <th>nunique</th>\n",
       "      <td>122</td>\n",
       "      <td>162</td>\n",
       "      <td>147</td>\n",
       "      <td>14697</td>\n",
       "      <td>251640</td>\n",
       "      <td>8081</td>\n",
       "      <td>1265</td>\n",
       "      <td>9</td>\n",
       "      <td>2</td>\n",
       "      <td>63459</td>\n",
       "      <td>12617</td>\n",
       "      <td>14024</td>\n",
       "      <td>4073</td>\n",
       "      <td>243149</td>\n",
       "      <td>2</td>\n",
       "      <td>98</td>\n",
       "      <td>8</td>\n",
       "      <td>126</td>\n",
       "      <td>1370</td>\n",
       "      <td>28</td>\n",
       "      <td>6442</td>\n",
       "      <td>73</td>\n",
       "      <td>23</td>\n",
       "      <td>26</td>\n",
       "      <td>4058</td>\n",
       "      <td>917</td>\n",
       "      <td>14</td>\n",
       "      <td>2</td>\n",
       "      <td>3</td>\n",
       "      <td>33988</td>\n",
       "      <td>6</td>\n",
       "      <td>12</td>\n",
       "      <td>35</td>\n",
       "      <td>535</td>\n",
       "      <td>2</td>\n",
       "      <td>2</td>\n",
       "    </tr>\n",
       "  </tbody>\n",
       "</table>\n",
       "</div>"
      ],
      "text/plain": [
       "        mths_since_last_record mths_since_last_major_derog mths_since_last_delinq total_rev_hi_lim tot_cur_bal tot_coll_amt revol_util collections_12_mths_ex_med application_type revol_bal collection_recovery_fee recoveries total_rec_late_fee total_rec_int initial_list_status last_week_pay acc_now_delinq total_acc loan_amnt  pub_rec funded_amnt_inv open_acc inq_last_6mths delinq_2yrs      dti zip_code purpose pymnt_plan verification_status annual_inc home_ownership emp_length sub_grade int_rate    term loan_status\n",
       "type                   float64                     float64                float64          float64     float64      float64    float64                    float64           object   float64                 float64    float64            float64       float64              object        object        float64   float64     int64  float64         float64  float64        float64     float64  float64   object  object     object              object    float64         object     object    object  float64  object       int64\n",
       "missing                   84.6                          75                   51.2             7.89        7.89         7.89       0.05                       0.02                0         0                       0          0                  0             0                   0             0              0         0         0        0               0        0              0           0        0        0       0          0                   0          0              0          0         0        0       0           0\n",
       "nunique                    122                         162                    147            14697      251640         8081       1265                          9                2     63459                   12617      14024               4073        243149                   2            98              8       126      1370       28            6442       73             23          26     4058      917      14          2                   3      33988              6         12        35      535       2           2"
      ]
     },
     "execution_count": 52,
     "metadata": {},
     "output_type": "execute_result"
    }
   ],
   "source": [
    "info(train,True).T"
   ]
  },
  {
   "cell_type": "code",
   "execution_count": 53,
   "metadata": {
    "collapsed": true
   },
   "outputs": [],
   "source": [
    "cat_col = train.dtypes[train.dtypes == \"object\"].index"
   ]
  },
  {
   "cell_type": "code",
   "execution_count": 54,
   "metadata": {
    "collapsed": true
   },
   "outputs": [],
   "source": [
    "#Fill NA by No_value\n",
    "train[cat_col] = train[cat_col].fillna('missing')\n",
    "test[cat_col] = test[cat_col].fillna('missing')"
   ]
  },
  {
   "cell_type": "code",
   "execution_count": 55,
   "metadata": {
    "collapsed": true
   },
   "outputs": [],
   "source": [
    "train.mths_since_last_delinq = train.mths_since_last_delinq.apply(lambda x: 999 if np.isnan(x) == True else x)\n",
    "train.mths_since_last_record = train.mths_since_last_record.apply(lambda x: 999 if np.isnan(x) == True else x)\n",
    "train.mths_since_last_major_derog = train.mths_since_last_major_derog.apply(lambda x: 999 if np.isnan(x) == True else x)"
   ]
  },
  {
   "cell_type": "code",
   "execution_count": 56,
   "metadata": {
    "collapsed": true
   },
   "outputs": [],
   "source": [
    "test.mths_since_last_delinq = test.mths_since_last_delinq.apply(lambda x: 999 if np.isnan(x) == True else x)\n",
    "test.mths_since_last_record = test.mths_since_last_record.apply(lambda x: 999 if np.isnan(x) == True else x)\n",
    "test.mths_since_last_major_derog = test.mths_since_last_major_derog.apply(lambda x: 999 if np.isnan(x) == True else x)"
   ]
  },
  {
   "cell_type": "code",
   "execution_count": 62,
   "metadata": {},
   "outputs": [
    {
     "data": {
      "text/plain": [
       "array(['9 years', '< 1 year', '2 years', '10+ years', '5 years', '8 years',\n",
       "       '7 years', '4 years', 'n/a', '1 year', '3 years', '6 years'], dtype=object)"
      ]
     },
     "execution_count": 62,
     "metadata": {},
     "output_type": "execute_result"
    }
   ],
   "source": [
    "train['emp_length'].unique()"
   ]
  },
  {
   "cell_type": "code",
   "execution_count": 63,
   "metadata": {
    "collapsed": true
   },
   "outputs": [],
   "source": [
    "#emp_length\n",
    "emp_len_dict = {'< 1 year' : 0, '1 year' : 1,'2 years' : 2, '3 years' : 3,'4 years' : 4, \n",
    "           '5 years' : 5, '6 years' : 6,'7 years' : 7, \\\n",
    "              '8 years' : 8, '9 years' : 9,'10+ years' :10, 'n/a':0} #'n/a':0\n",
    "\n",
    "train['emp_length'] = train['emp_length'].apply(lambda x: emp_len_dict[x])  \n",
    "test['emp_length'] = test['emp_length'].apply(lambda x: emp_len_dict[x])    "
   ]
  },
  {
   "cell_type": "code",
   "execution_count": 64,
   "metadata": {
    "collapsed": true
   },
   "outputs": [],
   "source": [
    "#home ownership\n",
    "col = 'home_ownership'\n",
    "dummies = pd.DataFrame()\n",
    "dummies[col + \"_\" + 'MORTGAGE'] = train[col] == 'MORTGAGE'\n",
    "dummies[col + \"_\" + 'MORTGAGE'] = dummies[col + \"_\" + 'MORTGAGE'].apply(lambda x: 1 if x == True else 0)\n",
    "dummies[col + \"_\" + 'RENT'] = train[col] == 'RENT'\n",
    "dummies[col + \"_\" + 'RENT'] = dummies[col + \"_\" + 'RENT'].apply(lambda x: 1 if x == True else 0)\n",
    "dummies[col + \"_\" + 'OWN'] = train[col] == 'OWN'\n",
    "dummies[col + \"_\" + 'OWN'] = dummies[col + \"_\" + 'OWN'].apply(lambda x: 1 if x == True else 0)\n",
    "\n",
    "count = dummies.sum(axis=1)\n",
    "dummies[col + \"_\" + 'Other'] = count == 0    \n",
    "dummies[col + \"_\" + 'Other'] = dummies[col + \"_\" + 'Other'].apply(lambda x: 1 if x == True else 0)\n",
    "dummies.drop(['home_ownership_MORTGAGE'],axis=1,inplace = True)\n",
    "train.drop(['home_ownership'],axis=1,inplace = True)\n",
    "train = pd.concat([train,dummies],axis=1)"
   ]
  },
  {
   "cell_type": "code",
   "execution_count": 65,
   "metadata": {
    "collapsed": true
   },
   "outputs": [],
   "source": [
    "dummies = pd.DataFrame()\n",
    "dummies[col + \"_\" + 'MORTGAGE'] = test[col] == 'MORTGAGE'\n",
    "dummies[col + \"_\" + 'MORTGAGE'] = dummies[col + \"_\" + 'MORTGAGE'].apply(lambda x: 1 if x == True else 0)\n",
    "dummies[col + \"_\" + 'RENT'] = test[col] == 'RENT'\n",
    "dummies[col + \"_\" + 'RENT'] = dummies[col + \"_\" + 'RENT'].apply(lambda x: 1 if x == True else 0)\n",
    "dummies[col + \"_\" + 'OWN'] = test[col] == 'OWN'\n",
    "dummies[col + \"_\" + 'OWN'] = dummies[col + \"_\" + 'OWN'].apply(lambda x: 1 if x == True else 0)\n",
    "\n",
    "count = dummies.sum(axis=1)\n",
    "dummies[col + \"_\" + 'Other'] = count == 0    \n",
    "dummies[col + \"_\" + 'Other'] = dummies[col + \"_\" + 'Other'].apply(lambda x: 1 if x == True else 0)\n",
    "dummies.drop(['home_ownership_MORTGAGE'],axis=1,inplace = True)\n",
    "test.drop(['home_ownership'],axis=1,inplace = True)\n",
    "test = pd.concat([test,dummies],axis=1)"
   ]
  },
  {
   "cell_type": "code",
   "execution_count": 66,
   "metadata": {
    "collapsed": true
   },
   "outputs": [],
   "source": [
    "#zip code\n",
    "train['zip_code'] = train['zip_code'].apply(lambda x: x[:2])"
   ]
  },
  {
   "cell_type": "code",
   "execution_count": 67,
   "metadata": {
    "collapsed": true
   },
   "outputs": [],
   "source": [
    "test['zip_code'] = test['zip_code'].apply(lambda x: x[:2])"
   ]
  },
  {
   "cell_type": "code",
   "execution_count": 68,
   "metadata": {
    "collapsed": true
   },
   "outputs": [],
   "source": [
    "highest_cat = train['zip_code'].value_counts().index[0]\n",
    "values_cat = [i for i in list(train.zip_code.unique()) if i not in [highest_cat]]"
   ]
  },
  {
   "cell_type": "code",
   "execution_count": 69,
   "metadata": {},
   "outputs": [
    {
     "name": "stdout",
     "output_type": "stream",
     "text": [
      "Time taken:  23.392150402069092\n"
     ]
    }
   ],
   "source": [
    "start = time.time()\n",
    "train = create_cat(train,'zip_code',values_cat)\n",
    "print(\"Time taken: \", time.time() - start)\n",
    "train.drop('zip_code',axis=1, inplace=True)"
   ]
  },
  {
   "cell_type": "code",
   "execution_count": 70,
   "metadata": {},
   "outputs": [
    {
     "name": "stdout",
     "output_type": "stream",
     "text": [
      "Time taken:  39.64023804664612\n"
     ]
    }
   ],
   "source": [
    "test = create_cat(test,'zip_code',values_cat)\n",
    "print(\"Time taken: \", time.time() - start)\n",
    "test.drop('zip_code',axis=1, inplace=True)"
   ]
  },
  {
   "cell_type": "code",
   "execution_count": 71,
   "metadata": {
    "collapsed": true
   },
   "outputs": [],
   "source": [
    "import re"
   ]
  },
  {
   "cell_type": "code",
   "execution_count": 72,
   "metadata": {
    "collapsed": true
   },
   "outputs": [],
   "source": [
    "train['last_week_pay'] = train['last_week_pay'].apply(lambda x: '0th week' if x == 'NAth week' else x)\n",
    "train['last_week_pay'] = train['last_week_pay'].apply(lambda x: int(re.findall(r'\\d{1,4}',x)[0]))"
   ]
  },
  {
   "cell_type": "code",
   "execution_count": 73,
   "metadata": {
    "collapsed": true
   },
   "outputs": [],
   "source": [
    "test['last_week_pay'] = test['last_week_pay'].apply(lambda x: '0th week' if x == 'NAth week' else x)\n",
    "test['last_week_pay'] = test['last_week_pay'].apply(lambda x: int(re.findall(r'\\d{1,4}',x)[0]))"
   ]
  },
  {
   "cell_type": "code",
   "execution_count": 74,
   "metadata": {
    "collapsed": true
   },
   "outputs": [],
   "source": [
    "df_info = info(train,False)"
   ]
  },
  {
   "cell_type": "code",
   "execution_count": 75,
   "metadata": {},
   "outputs": [
    {
     "data": {
      "text/html": [
       "<div>\n",
       "<style>\n",
       "    .dataframe thead tr:only-child th {\n",
       "        text-align: right;\n",
       "    }\n",
       "\n",
       "    .dataframe thead th {\n",
       "        text-align: left;\n",
       "    }\n",
       "\n",
       "    .dataframe tbody tr th {\n",
       "        vertical-align: top;\n",
       "    }\n",
       "</style>\n",
       "<table border=\"1\" class=\"dataframe\">\n",
       "  <thead>\n",
       "    <tr style=\"text-align: right;\">\n",
       "      <th></th>\n",
       "      <th>loan_amnt</th>\n",
       "      <th>funded_amnt_inv</th>\n",
       "      <th>term</th>\n",
       "      <th>int_rate</th>\n",
       "      <th>sub_grade</th>\n",
       "      <th>emp_length</th>\n",
       "      <th>annual_inc</th>\n",
       "      <th>verification_status</th>\n",
       "      <th>pymnt_plan</th>\n",
       "      <th>purpose</th>\n",
       "      <th>dti</th>\n",
       "      <th>delinq_2yrs</th>\n",
       "      <th>inq_last_6mths</th>\n",
       "      <th>mths_since_last_delinq</th>\n",
       "      <th>mths_since_last_record</th>\n",
       "      <th>open_acc</th>\n",
       "      <th>pub_rec</th>\n",
       "      <th>revol_bal</th>\n",
       "      <th>revol_util</th>\n",
       "      <th>total_acc</th>\n",
       "      <th>initial_list_status</th>\n",
       "      <th>total_rec_int</th>\n",
       "      <th>total_rec_late_fee</th>\n",
       "      <th>recoveries</th>\n",
       "      <th>collection_recovery_fee</th>\n",
       "      <th>collections_12_mths_ex_med</th>\n",
       "      <th>mths_since_last_major_derog</th>\n",
       "      <th>application_type</th>\n",
       "      <th>last_week_pay</th>\n",
       "      <th>acc_now_delinq</th>\n",
       "      <th>tot_coll_amt</th>\n",
       "      <th>tot_cur_bal</th>\n",
       "      <th>total_rev_hi_lim</th>\n",
       "      <th>loan_status</th>\n",
       "      <th>home_ownership_RENT</th>\n",
       "      <th>home_ownership_OWN</th>\n",
       "      <th>home_ownership_Other</th>\n",
       "      <th>zip_code_34</th>\n",
       "      <th>zip_code_20</th>\n",
       "      <th>zip_code_44</th>\n",
       "      <th>zip_code_22</th>\n",
       "      <th>zip_code_90</th>\n",
       "      <th>zip_code_46</th>\n",
       "      <th>zip_code_91</th>\n",
       "      <th>zip_code_35</th>\n",
       "      <th>zip_code_42</th>\n",
       "      <th>zip_code_87</th>\n",
       "      <th>zip_code_92</th>\n",
       "      <th>zip_code_38</th>\n",
       "      <th>zip_code_77</th>\n",
       "      <th>zip_code_19</th>\n",
       "      <th>zip_code_66</th>\n",
       "      <th>zip_code_60</th>\n",
       "      <th>zip_code_32</th>\n",
       "      <th>zip_code_11</th>\n",
       "      <th>zip_code_63</th>\n",
       "      <th>zip_code_28</th>\n",
       "      <th>zip_code_76</th>\n",
       "      <th>zip_code_75</th>\n",
       "      <th>zip_code_07</th>\n",
       "      <th>zip_code_06</th>\n",
       "      <th>zip_code_95</th>\n",
       "      <th>zip_code_47</th>\n",
       "      <th>zip_code_17</th>\n",
       "      <th>zip_code_93</th>\n",
       "      <th>zip_code_12</th>\n",
       "      <th>zip_code_10</th>\n",
       "      <th>zip_code_16</th>\n",
       "      <th>zip_code_03</th>\n",
       "      <th>zip_code_49</th>\n",
       "      <th>zip_code_43</th>\n",
       "      <th>zip_code_08</th>\n",
       "      <th>zip_code_85</th>\n",
       "      <th>zip_code_30</th>\n",
       "      <th>zip_code_84</th>\n",
       "      <th>zip_code_74</th>\n",
       "      <th>zip_code_89</th>\n",
       "      <th>zip_code_55</th>\n",
       "      <th>zip_code_79</th>\n",
       "      <th>zip_code_27</th>\n",
       "      <th>zip_code_05</th>\n",
       "      <th>zip_code_01</th>\n",
       "      <th>zip_code_70</th>\n",
       "      <th>zip_code_94</th>\n",
       "      <th>zip_code_67</th>\n",
       "      <th>zip_code_98</th>\n",
       "      <th>zip_code_02</th>\n",
       "      <th>zip_code_23</th>\n",
       "      <th>zip_code_56</th>\n",
       "      <th>zip_code_62</th>\n",
       "      <th>zip_code_72</th>\n",
       "      <th>zip_code_41</th>\n",
       "      <th>zip_code_78</th>\n",
       "      <th>zip_code_37</th>\n",
       "      <th>zip_code_81</th>\n",
       "      <th>zip_code_25</th>\n",
       "      <th>zip_code_48</th>\n",
       "      <th>zip_code_40</th>\n",
       "      <th>zip_code_86</th>\n",
       "      <th>zip_code_96</th>\n",
       "      <th>zip_code_45</th>\n",
       "      <th>zip_code_21</th>\n",
       "      <th>zip_code_54</th>\n",
       "      <th>zip_code_36</th>\n",
       "      <th>zip_code_31</th>\n",
       "      <th>zip_code_18</th>\n",
       "      <th>zip_code_24</th>\n",
       "      <th>zip_code_64</th>\n",
       "      <th>zip_code_57</th>\n",
       "      <th>zip_code_68</th>\n",
       "      <th>zip_code_73</th>\n",
       "      <th>zip_code_88</th>\n",
       "      <th>zip_code_71</th>\n",
       "      <th>zip_code_82</th>\n",
       "      <th>zip_code_13</th>\n",
       "      <th>zip_code_29</th>\n",
       "      <th>zip_code_80</th>\n",
       "      <th>zip_code_53</th>\n",
       "      <th>zip_code_61</th>\n",
       "      <th>zip_code_99</th>\n",
       "      <th>zip_code_39</th>\n",
       "      <th>zip_code_15</th>\n",
       "      <th>zip_code_59</th>\n",
       "      <th>zip_code_69</th>\n",
       "      <th>zip_code_97</th>\n",
       "      <th>zip_code_04</th>\n",
       "      <th>zip_code_14</th>\n",
       "      <th>zip_code_65</th>\n",
       "      <th>zip_code_26</th>\n",
       "      <th>zip_code_83</th>\n",
       "      <th>zip_code_58</th>\n",
       "      <th>zip_code_51</th>\n",
       "      <th>zip_code_09</th>\n",
       "      <th>zip_code_50</th>\n",
       "      <th>zip_code_52</th>\n",
       "      <th>zip_code_00</th>\n",
       "    </tr>\n",
       "  </thead>\n",
       "  <tbody>\n",
       "    <tr>\n",
       "      <th>type</th>\n",
       "      <td>int64</td>\n",
       "      <td>float64</td>\n",
       "      <td>object</td>\n",
       "      <td>float64</td>\n",
       "      <td>object</td>\n",
       "      <td>int64</td>\n",
       "      <td>float64</td>\n",
       "      <td>object</td>\n",
       "      <td>object</td>\n",
       "      <td>object</td>\n",
       "      <td>float64</td>\n",
       "      <td>float64</td>\n",
       "      <td>float64</td>\n",
       "      <td>float64</td>\n",
       "      <td>float64</td>\n",
       "      <td>float64</td>\n",
       "      <td>float64</td>\n",
       "      <td>float64</td>\n",
       "      <td>float64</td>\n",
       "      <td>float64</td>\n",
       "      <td>object</td>\n",
       "      <td>float64</td>\n",
       "      <td>float64</td>\n",
       "      <td>float64</td>\n",
       "      <td>float64</td>\n",
       "      <td>float64</td>\n",
       "      <td>float64</td>\n",
       "      <td>object</td>\n",
       "      <td>int64</td>\n",
       "      <td>float64</td>\n",
       "      <td>float64</td>\n",
       "      <td>float64</td>\n",
       "      <td>float64</td>\n",
       "      <td>int64</td>\n",
       "      <td>int64</td>\n",
       "      <td>int64</td>\n",
       "      <td>int64</td>\n",
       "      <td>int64</td>\n",
       "      <td>int64</td>\n",
       "      <td>int64</td>\n",
       "      <td>int64</td>\n",
       "      <td>int64</td>\n",
       "      <td>int64</td>\n",
       "      <td>int64</td>\n",
       "      <td>int64</td>\n",
       "      <td>int64</td>\n",
       "      <td>int64</td>\n",
       "      <td>int64</td>\n",
       "      <td>int64</td>\n",
       "      <td>int64</td>\n",
       "      <td>int64</td>\n",
       "      <td>int64</td>\n",
       "      <td>int64</td>\n",
       "      <td>int64</td>\n",
       "      <td>int64</td>\n",
       "      <td>int64</td>\n",
       "      <td>int64</td>\n",
       "      <td>int64</td>\n",
       "      <td>int64</td>\n",
       "      <td>int64</td>\n",
       "      <td>int64</td>\n",
       "      <td>int64</td>\n",
       "      <td>int64</td>\n",
       "      <td>int64</td>\n",
       "      <td>int64</td>\n",
       "      <td>int64</td>\n",
       "      <td>int64</td>\n",
       "      <td>int64</td>\n",
       "      <td>int64</td>\n",
       "      <td>int64</td>\n",
       "      <td>int64</td>\n",
       "      <td>int64</td>\n",
       "      <td>int64</td>\n",
       "      <td>int64</td>\n",
       "      <td>int64</td>\n",
       "      <td>int64</td>\n",
       "      <td>int64</td>\n",
       "      <td>int64</td>\n",
       "      <td>int64</td>\n",
       "      <td>int64</td>\n",
       "      <td>int64</td>\n",
       "      <td>int64</td>\n",
       "      <td>int64</td>\n",
       "      <td>int64</td>\n",
       "      <td>int64</td>\n",
       "      <td>int64</td>\n",
       "      <td>int64</td>\n",
       "      <td>int64</td>\n",
       "      <td>int64</td>\n",
       "      <td>int64</td>\n",
       "      <td>int64</td>\n",
       "      <td>int64</td>\n",
       "      <td>int64</td>\n",
       "      <td>int64</td>\n",
       "      <td>int64</td>\n",
       "      <td>int64</td>\n",
       "      <td>int64</td>\n",
       "      <td>int64</td>\n",
       "      <td>int64</td>\n",
       "      <td>int64</td>\n",
       "      <td>int64</td>\n",
       "      <td>int64</td>\n",
       "      <td>int64</td>\n",
       "      <td>int64</td>\n",
       "      <td>int64</td>\n",
       "      <td>int64</td>\n",
       "      <td>int64</td>\n",
       "      <td>int64</td>\n",
       "      <td>int64</td>\n",
       "      <td>int64</td>\n",
       "      <td>int64</td>\n",
       "      <td>int64</td>\n",
       "      <td>int64</td>\n",
       "      <td>int64</td>\n",
       "      <td>int64</td>\n",
       "      <td>int64</td>\n",
       "      <td>int64</td>\n",
       "      <td>int64</td>\n",
       "      <td>int64</td>\n",
       "      <td>int64</td>\n",
       "      <td>int64</td>\n",
       "      <td>int64</td>\n",
       "      <td>int64</td>\n",
       "      <td>int64</td>\n",
       "      <td>int64</td>\n",
       "      <td>int64</td>\n",
       "      <td>int64</td>\n",
       "      <td>int64</td>\n",
       "      <td>int64</td>\n",
       "      <td>int64</td>\n",
       "      <td>int64</td>\n",
       "      <td>int64</td>\n",
       "      <td>int64</td>\n",
       "      <td>int64</td>\n",
       "      <td>int64</td>\n",
       "      <td>int64</td>\n",
       "    </tr>\n",
       "    <tr>\n",
       "      <th>missing</th>\n",
       "      <td>0</td>\n",
       "      <td>0</td>\n",
       "      <td>0</td>\n",
       "      <td>0</td>\n",
       "      <td>0</td>\n",
       "      <td>0</td>\n",
       "      <td>0</td>\n",
       "      <td>0</td>\n",
       "      <td>0</td>\n",
       "      <td>0</td>\n",
       "      <td>0</td>\n",
       "      <td>0</td>\n",
       "      <td>0</td>\n",
       "      <td>0</td>\n",
       "      <td>0</td>\n",
       "      <td>0</td>\n",
       "      <td>0</td>\n",
       "      <td>0</td>\n",
       "      <td>0.05</td>\n",
       "      <td>0</td>\n",
       "      <td>0</td>\n",
       "      <td>0</td>\n",
       "      <td>0</td>\n",
       "      <td>0</td>\n",
       "      <td>0</td>\n",
       "      <td>0.02</td>\n",
       "      <td>0</td>\n",
       "      <td>0</td>\n",
       "      <td>0</td>\n",
       "      <td>0</td>\n",
       "      <td>7.89</td>\n",
       "      <td>7.89</td>\n",
       "      <td>7.89</td>\n",
       "      <td>0</td>\n",
       "      <td>0</td>\n",
       "      <td>0</td>\n",
       "      <td>0</td>\n",
       "      <td>0</td>\n",
       "      <td>0</td>\n",
       "      <td>0</td>\n",
       "      <td>0</td>\n",
       "      <td>0</td>\n",
       "      <td>0</td>\n",
       "      <td>0</td>\n",
       "      <td>0</td>\n",
       "      <td>0</td>\n",
       "      <td>0</td>\n",
       "      <td>0</td>\n",
       "      <td>0</td>\n",
       "      <td>0</td>\n",
       "      <td>0</td>\n",
       "      <td>0</td>\n",
       "      <td>0</td>\n",
       "      <td>0</td>\n",
       "      <td>0</td>\n",
       "      <td>0</td>\n",
       "      <td>0</td>\n",
       "      <td>0</td>\n",
       "      <td>0</td>\n",
       "      <td>0</td>\n",
       "      <td>0</td>\n",
       "      <td>0</td>\n",
       "      <td>0</td>\n",
       "      <td>0</td>\n",
       "      <td>0</td>\n",
       "      <td>0</td>\n",
       "      <td>0</td>\n",
       "      <td>0</td>\n",
       "      <td>0</td>\n",
       "      <td>0</td>\n",
       "      <td>0</td>\n",
       "      <td>0</td>\n",
       "      <td>0</td>\n",
       "      <td>0</td>\n",
       "      <td>0</td>\n",
       "      <td>0</td>\n",
       "      <td>0</td>\n",
       "      <td>0</td>\n",
       "      <td>0</td>\n",
       "      <td>0</td>\n",
       "      <td>0</td>\n",
       "      <td>0</td>\n",
       "      <td>0</td>\n",
       "      <td>0</td>\n",
       "      <td>0</td>\n",
       "      <td>0</td>\n",
       "      <td>0</td>\n",
       "      <td>0</td>\n",
       "      <td>0</td>\n",
       "      <td>0</td>\n",
       "      <td>0</td>\n",
       "      <td>0</td>\n",
       "      <td>0</td>\n",
       "      <td>0</td>\n",
       "      <td>0</td>\n",
       "      <td>0</td>\n",
       "      <td>0</td>\n",
       "      <td>0</td>\n",
       "      <td>0</td>\n",
       "      <td>0</td>\n",
       "      <td>0</td>\n",
       "      <td>0</td>\n",
       "      <td>0</td>\n",
       "      <td>0</td>\n",
       "      <td>0</td>\n",
       "      <td>0</td>\n",
       "      <td>0</td>\n",
       "      <td>0</td>\n",
       "      <td>0</td>\n",
       "      <td>0</td>\n",
       "      <td>0</td>\n",
       "      <td>0</td>\n",
       "      <td>0</td>\n",
       "      <td>0</td>\n",
       "      <td>0</td>\n",
       "      <td>0</td>\n",
       "      <td>0</td>\n",
       "      <td>0</td>\n",
       "      <td>0</td>\n",
       "      <td>0</td>\n",
       "      <td>0</td>\n",
       "      <td>0</td>\n",
       "      <td>0</td>\n",
       "      <td>0</td>\n",
       "      <td>0</td>\n",
       "      <td>0</td>\n",
       "      <td>0</td>\n",
       "      <td>0</td>\n",
       "      <td>0</td>\n",
       "      <td>0</td>\n",
       "      <td>0</td>\n",
       "      <td>0</td>\n",
       "      <td>0</td>\n",
       "      <td>0</td>\n",
       "      <td>0</td>\n",
       "      <td>0</td>\n",
       "    </tr>\n",
       "    <tr>\n",
       "      <th>nunique</th>\n",
       "      <td>1370</td>\n",
       "      <td>6442</td>\n",
       "      <td>2</td>\n",
       "      <td>535</td>\n",
       "      <td>35</td>\n",
       "      <td>11</td>\n",
       "      <td>33988</td>\n",
       "      <td>3</td>\n",
       "      <td>2</td>\n",
       "      <td>14</td>\n",
       "      <td>4058</td>\n",
       "      <td>26</td>\n",
       "      <td>23</td>\n",
       "      <td>148</td>\n",
       "      <td>123</td>\n",
       "      <td>73</td>\n",
       "      <td>28</td>\n",
       "      <td>63459</td>\n",
       "      <td>1265</td>\n",
       "      <td>126</td>\n",
       "      <td>2</td>\n",
       "      <td>243149</td>\n",
       "      <td>4073</td>\n",
       "      <td>14024</td>\n",
       "      <td>12617</td>\n",
       "      <td>9</td>\n",
       "      <td>163</td>\n",
       "      <td>2</td>\n",
       "      <td>97</td>\n",
       "      <td>8</td>\n",
       "      <td>8081</td>\n",
       "      <td>251640</td>\n",
       "      <td>14697</td>\n",
       "      <td>2</td>\n",
       "      <td>2</td>\n",
       "      <td>2</td>\n",
       "      <td>2</td>\n",
       "      <td>2</td>\n",
       "      <td>2</td>\n",
       "      <td>2</td>\n",
       "      <td>2</td>\n",
       "      <td>2</td>\n",
       "      <td>2</td>\n",
       "      <td>2</td>\n",
       "      <td>2</td>\n",
       "      <td>2</td>\n",
       "      <td>2</td>\n",
       "      <td>2</td>\n",
       "      <td>2</td>\n",
       "      <td>2</td>\n",
       "      <td>2</td>\n",
       "      <td>2</td>\n",
       "      <td>2</td>\n",
       "      <td>2</td>\n",
       "      <td>2</td>\n",
       "      <td>2</td>\n",
       "      <td>2</td>\n",
       "      <td>2</td>\n",
       "      <td>2</td>\n",
       "      <td>2</td>\n",
       "      <td>2</td>\n",
       "      <td>2</td>\n",
       "      <td>2</td>\n",
       "      <td>2</td>\n",
       "      <td>2</td>\n",
       "      <td>2</td>\n",
       "      <td>2</td>\n",
       "      <td>2</td>\n",
       "      <td>2</td>\n",
       "      <td>2</td>\n",
       "      <td>2</td>\n",
       "      <td>2</td>\n",
       "      <td>2</td>\n",
       "      <td>2</td>\n",
       "      <td>2</td>\n",
       "      <td>2</td>\n",
       "      <td>2</td>\n",
       "      <td>2</td>\n",
       "      <td>2</td>\n",
       "      <td>2</td>\n",
       "      <td>2</td>\n",
       "      <td>2</td>\n",
       "      <td>2</td>\n",
       "      <td>2</td>\n",
       "      <td>2</td>\n",
       "      <td>2</td>\n",
       "      <td>2</td>\n",
       "      <td>2</td>\n",
       "      <td>2</td>\n",
       "      <td>2</td>\n",
       "      <td>2</td>\n",
       "      <td>2</td>\n",
       "      <td>2</td>\n",
       "      <td>2</td>\n",
       "      <td>2</td>\n",
       "      <td>2</td>\n",
       "      <td>2</td>\n",
       "      <td>2</td>\n",
       "      <td>2</td>\n",
       "      <td>2</td>\n",
       "      <td>2</td>\n",
       "      <td>2</td>\n",
       "      <td>2</td>\n",
       "      <td>2</td>\n",
       "      <td>2</td>\n",
       "      <td>2</td>\n",
       "      <td>2</td>\n",
       "      <td>2</td>\n",
       "      <td>2</td>\n",
       "      <td>2</td>\n",
       "      <td>2</td>\n",
       "      <td>2</td>\n",
       "      <td>2</td>\n",
       "      <td>2</td>\n",
       "      <td>2</td>\n",
       "      <td>2</td>\n",
       "      <td>2</td>\n",
       "      <td>2</td>\n",
       "      <td>2</td>\n",
       "      <td>2</td>\n",
       "      <td>2</td>\n",
       "      <td>2</td>\n",
       "      <td>2</td>\n",
       "      <td>2</td>\n",
       "      <td>2</td>\n",
       "      <td>2</td>\n",
       "      <td>2</td>\n",
       "      <td>2</td>\n",
       "      <td>2</td>\n",
       "      <td>2</td>\n",
       "      <td>2</td>\n",
       "      <td>2</td>\n",
       "      <td>2</td>\n",
       "      <td>2</td>\n",
       "      <td>2</td>\n",
       "      <td>2</td>\n",
       "    </tr>\n",
       "  </tbody>\n",
       "</table>\n",
       "</div>"
      ],
      "text/plain": [
       "        loan_amnt funded_amnt_inv    term int_rate sub_grade emp_length annual_inc verification_status pymnt_plan purpose      dti delinq_2yrs inq_last_6mths mths_since_last_delinq mths_since_last_record open_acc  pub_rec revol_bal revol_util total_acc initial_list_status total_rec_int total_rec_late_fee recoveries collection_recovery_fee collections_12_mths_ex_med mths_since_last_major_derog application_type last_week_pay acc_now_delinq tot_coll_amt tot_cur_bal total_rev_hi_lim loan_status home_ownership_RENT home_ownership_OWN home_ownership_Other zip_code_34 zip_code_20 zip_code_44 zip_code_22 zip_code_90 zip_code_46 zip_code_91 zip_code_35 zip_code_42 zip_code_87 zip_code_92 zip_code_38 zip_code_77 zip_code_19 zip_code_66 zip_code_60 zip_code_32 zip_code_11 zip_code_63 zip_code_28 zip_code_76 zip_code_75 zip_code_07 zip_code_06 zip_code_95 zip_code_47 zip_code_17 zip_code_93 zip_code_12 zip_code_10 zip_code_16 zip_code_03 zip_code_49 zip_code_43 zip_code_08 zip_code_85  \\\n",
       "type        int64         float64  object  float64    object      int64    float64              object     object  object  float64     float64        float64                float64                float64  float64  float64   float64    float64   float64              object       float64            float64    float64                 float64                    float64                     float64           object         int64        float64      float64     float64          float64       int64               int64              int64                int64       int64       int64       int64       int64       int64       int64       int64       int64       int64       int64       int64       int64       int64       int64       int64       int64       int64       int64       int64       int64       int64       int64       int64       int64       int64       int64       int64       int64       int64       int64       int64       int64       int64       int64       int64       int64   \n",
       "missing         0               0       0        0         0          0          0                   0          0       0        0           0              0                      0                      0        0        0         0       0.05         0                   0             0                  0          0                       0                       0.02                           0                0             0              0         7.89        7.89             7.89           0                   0                  0                    0           0           0           0           0           0           0           0           0           0           0           0           0           0           0           0           0           0           0           0           0           0           0           0           0           0           0           0           0           0           0           0           0           0           0           0           0   \n",
       "nunique      1370            6442       2      535        35         11      33988                   3          2      14     4058          26             23                    148                    123       73       28     63459       1265       126                   2        243149               4073      14024                   12617                          9                         163                2            97              8         8081      251640            14697           2                   2                  2                    2           2           2           2           2           2           2           2           2           2           2           2           2           2           2           2           2           2           2           2           2           2           2           2           2           2           2           2           2           2           2           2           2           2           2           2           2   \n",
       "\n",
       "        zip_code_30 zip_code_84 zip_code_74 zip_code_89 zip_code_55 zip_code_79 zip_code_27 zip_code_05 zip_code_01 zip_code_70 zip_code_94 zip_code_67 zip_code_98 zip_code_02 zip_code_23 zip_code_56 zip_code_62 zip_code_72 zip_code_41 zip_code_78 zip_code_37 zip_code_81 zip_code_25 zip_code_48 zip_code_40 zip_code_86 zip_code_96 zip_code_45 zip_code_21 zip_code_54 zip_code_36 zip_code_31 zip_code_18 zip_code_24 zip_code_64 zip_code_57 zip_code_68 zip_code_73 zip_code_88 zip_code_71 zip_code_82 zip_code_13 zip_code_29 zip_code_80 zip_code_53 zip_code_61 zip_code_99 zip_code_39 zip_code_15 zip_code_59 zip_code_69 zip_code_97 zip_code_04 zip_code_14 zip_code_65 zip_code_26 zip_code_83 zip_code_58 zip_code_51 zip_code_09 zip_code_50 zip_code_52 zip_code_00  \n",
       "type          int64       int64       int64       int64       int64       int64       int64       int64       int64       int64       int64       int64       int64       int64       int64       int64       int64       int64       int64       int64       int64       int64       int64       int64       int64       int64       int64       int64       int64       int64       int64       int64       int64       int64       int64       int64       int64       int64       int64       int64       int64       int64       int64       int64       int64       int64       int64       int64       int64       int64       int64       int64       int64       int64       int64       int64       int64       int64       int64       int64       int64       int64       int64  \n",
       "missing           0           0           0           0           0           0           0           0           0           0           0           0           0           0           0           0           0           0           0           0           0           0           0           0           0           0           0           0           0           0           0           0           0           0           0           0           0           0           0           0           0           0           0           0           0           0           0           0           0           0           0           0           0           0           0           0           0           0           0           0           0           0           0  \n",
       "nunique           2           2           2           2           2           2           2           2           2           2           2           2           2           2           2           2           2           2           2           2           2           2           2           2           2           2           2           2           2           2           2           2           2           2           2           2           2           2           2           2           2           2           2           2           2           2           2           2           2           2           2           2           2           2           2           2           2           2           2           2           2           2           2  "
      ]
     },
     "execution_count": 75,
     "metadata": {},
     "output_type": "execute_result"
    }
   ],
   "source": [
    "df_info.T"
   ]
  },
  {
   "cell_type": "code",
   "execution_count": 76,
   "metadata": {
    "collapsed": true
   },
   "outputs": [],
   "source": [
    "num_missing = list(df_info[(df_info['missing'] > 0) & (df_info['type'] != 'object')].index)"
   ]
  },
  {
   "cell_type": "code",
   "execution_count": 77,
   "metadata": {},
   "outputs": [
    {
     "data": {
      "text/plain": [
       "['revol_util',\n",
       " 'collections_12_mths_ex_med',\n",
       " 'tot_coll_amt',\n",
       " 'tot_cur_bal',\n",
       " 'total_rev_hi_lim']"
      ]
     },
     "execution_count": 77,
     "metadata": {},
     "output_type": "execute_result"
    }
   ],
   "source": [
    "num_missing"
   ]
  },
  {
   "cell_type": "code",
   "execution_count": 78,
   "metadata": {
    "scrolled": true
   },
   "outputs": [
    {
     "name": "stdout",
     "output_type": "stream",
     "text": [
      "revol_util  :  55.0571891660288\n",
      "collections_12_mths_ex_med  :  0.014299320162379564\n",
      "tot_coll_amt  :  213.5622216694126\n",
      "tot_cur_bal  :  139554.1107918862\n",
      "total_rev_hi_lim  :  32080.572918535796\n"
     ]
    }
   ],
   "source": [
    "for col in num_missing:\n",
    "    avg = np.mean(train[col].dropna())\n",
    "    print(col,\" : \",avg)\n",
    "    train[col].fillna(avg,inplace=True)\n",
    "    test[col].fillna(avg,inplace=True)"
   ]
  },
  {
   "cell_type": "code",
   "execution_count": 79,
   "metadata": {
    "collapsed": true
   },
   "outputs": [],
   "source": [
    "train.delinq_2yrs = train.delinq_2yrs.apply(lambda x: 0 if np.isnan(x) == True else x)\n",
    "test.delinq_2yrs = test.delinq_2yrs.apply(lambda x: 0 if np.isnan(x) == True else x)"
   ]
  },
  {
   "cell_type": "code",
   "execution_count": 80,
   "metadata": {
    "collapsed": true
   },
   "outputs": [],
   "source": [
    "train.inq_last_6mths = train.inq_last_6mths.apply(lambda x: 0 if np.isnan(x) == True else x)\n",
    "test.inq_last_6mths = test.inq_last_6mths.apply(lambda x: 0 if np.isnan(x) == True else x)"
   ]
  },
  {
   "cell_type": "code",
   "execution_count": 81,
   "metadata": {
    "collapsed": true
   },
   "outputs": [],
   "source": [
    "train.open_acc = train.open_acc.apply(lambda x: 0 if np.isnan(x) == True else x)\n",
    "test.open_acc = test.open_acc.apply(lambda x: 0 if np.isnan(x) == True else x)"
   ]
  },
  {
   "cell_type": "code",
   "execution_count": 82,
   "metadata": {
    "collapsed": true
   },
   "outputs": [],
   "source": [
    "train.pub_rec = train.pub_rec.apply(lambda x: 0 if np.isnan(x) == True else x)\n",
    "test.pub_rec = test.pub_rec.apply(lambda x: 0 if np.isnan(x) == True else x)"
   ]
  },
  {
   "cell_type": "code",
   "execution_count": 83,
   "metadata": {
    "collapsed": true
   },
   "outputs": [],
   "source": [
    "train.total_acc = train.total_acc.apply(lambda x: 0 if np.isnan(x) == True else x)\n",
    "test.total_acc = test.total_acc.apply(lambda x: 0 if np.isnan(x) == True else x)"
   ]
  },
  {
   "cell_type": "code",
   "execution_count": 84,
   "metadata": {},
   "outputs": [
    {
     "name": "stdout",
     "output_type": "stream",
     "text": [
      "annual_inc  :  75029.84328906404\n"
     ]
    }
   ],
   "source": [
    "avg = np.mean(train['annual_inc'].dropna())\n",
    "print('annual_inc',\" : \",avg)\n",
    "train.annual_inc = train.annual_inc.apply(lambda x: avg if np.isnan(x) == True else x)\n",
    "test.annual_inc = test.annual_inc.apply(lambda x: avg if np.isnan(x) == True else x)"
   ]
  },
  {
   "cell_type": "code",
   "execution_count": 85,
   "metadata": {
    "collapsed": true
   },
   "outputs": [],
   "source": [
    "train.acc_now_delinq = train.acc_now_delinq.apply(lambda x: 0 if np.isnan(x) == True else x)\n",
    "test.acc_now_delinq = test.acc_now_delinq.apply(lambda x: 0 if np.isnan(x) == True else x)"
   ]
  },
  {
   "cell_type": "code",
   "execution_count": 86,
   "metadata": {},
   "outputs": [
    {
     "data": {
      "text/plain": [
       "(0, 136)"
      ]
     },
     "execution_count": 86,
     "metadata": {},
     "output_type": "execute_result"
    }
   ],
   "source": [
    "#Check status\n",
    "train[train.isnull().any(axis=1)].shape"
   ]
  },
  {
   "cell_type": "code",
   "execution_count": 87,
   "metadata": {},
   "outputs": [
    {
     "data": {
      "text/plain": [
       "(0, 135)"
      ]
     },
     "execution_count": 87,
     "metadata": {},
     "output_type": "execute_result"
    }
   ],
   "source": [
    "test[test.isnull().any(axis=1)].shape"
   ]
  },
  {
   "cell_type": "markdown",
   "metadata": {},
   "source": [
    "### Data cleaned"
   ]
  },
  {
   "cell_type": "code",
   "execution_count": null,
   "metadata": {
    "collapsed": true
   },
   "outputs": [],
   "source": [
    "'''\n",
    "#use chi square test to find correlated catgeorical features\n",
    "from scipy.stats import chi2_contingency\n",
    "df_cat = train[list(train.dtypes[train.dtypes == \"object\"].index)]\n",
    "chi2, p_values =[], []\n",
    "for i in range(len(df_cat.columns)):\n",
    "    for j in range(len(df_cat.columns)):\n",
    "        if j > i:\n",
    "            chitest = chi2_contingency(pd.crosstab(df_cat[df_cat.columns[i]], df_cat[df_cat.columns[j]]))\n",
    "            chi2.append(chitest[0])\n",
    "            p_values.append(chitest[1])\n",
    "        else:      # for same factor pair\n",
    "            chi2.append(0)\n",
    "            p_values.append(0)\n",
    "            \n",
    "\n",
    "Crosstab will create contingency table for the pair of features. \n",
    "Null hypothesis is that the features are independent of each other. \n",
    "If p value is less than significance value, i.e < 0.01 then we can reject Null hypothesis and\n",
    "accept alternate hypothesis which stats that the features are related.\n",
    "                     \n",
    "chi2 = np.array(chi2).reshape((df_cat.shape[1],df_cat.shape[1])) # shape it as a matrix\n",
    "chi2 = pd.DataFrame(chi2, index=df_cat.columns.values, columns=df_cat.columns.values)\n",
    "p_values = np.array(p_values).reshape((df_cat.shape[1],df_cat.shape[1])) # shape it as a matrix\n",
    "p_values = pd.DataFrame(p_values, index=df_cat.columns.values, columns=df_cat.columns.values)\n",
    "chi2\n",
    "'''"
   ]
  },
  {
   "cell_type": "code",
   "execution_count": 88,
   "metadata": {
    "collapsed": true
   },
   "outputs": [],
   "source": [
    "cat_col = list(train.dtypes[train.dtypes == \"object\"].index)"
   ]
  },
  {
   "cell_type": "code",
   "execution_count": 89,
   "metadata": {},
   "outputs": [
    {
     "data": {
      "text/plain": [
       "array(['term', 'sub_grade', 'verification_status', 'pymnt_plan', 'purpose',\n",
       "       'initial_list_status', 'application_type'],\n",
       "      dtype='<U19')"
      ]
     },
     "execution_count": 89,
     "metadata": {},
     "output_type": "execute_result"
    }
   ],
   "source": [
    "np.array(cat_col)"
   ]
  },
  {
   "cell_type": "code",
   "execution_count": 90,
   "metadata": {},
   "outputs": [
    {
     "name": "stdout",
     "output_type": "stream",
     "text": [
      "['term', 'pymnt_plan', 'initial_list_status', 'application_type']\n"
     ]
    }
   ],
   "source": [
    "le = LabelEncoder()\n",
    "bin_cols = []\n",
    "for col in cat_col:\n",
    "    if train[col].nunique() <= 2:\n",
    "        bin_cols.append(col)\n",
    "        le.fit(train[col])\n",
    "        train[col] = le.transform(train[col])\n",
    "        test[col] = le.transform(test[col])\n",
    "\n",
    "print(bin_cols)"
   ]
  },
  {
   "cell_type": "code",
   "execution_count": 91,
   "metadata": {},
   "outputs": [
    {
     "data": {
      "text/plain": [
       "['sub_grade', 'verification_status', 'purpose']"
      ]
     },
     "execution_count": 91,
     "metadata": {},
     "output_type": "execute_result"
    }
   ],
   "source": [
    "#cols to create dummies for\n",
    "[i for i in cat_col if i not in bin_cols]"
   ]
  },
  {
   "cell_type": "code",
   "execution_count": 92,
   "metadata": {
    "collapsed": true
   },
   "outputs": [],
   "source": [
    "for col in ['sub_grade', 'verification_status', 'purpose']:\n",
    "    highest_cat = train[col].value_counts().index[0]\n",
    "    values_cat = [i for i in list(train[col].unique()) if i not in [highest_cat]]\n",
    "    train = create_cat(train,col,values_cat)\n",
    "    train.drop(col,axis=1, inplace=True)\n",
    "    test = create_cat(test,col,values_cat)\n",
    "    test.drop(col,axis=1, inplace=True)"
   ]
  },
  {
   "cell_type": "code",
   "execution_count": 93,
   "metadata": {},
   "outputs": [
    {
     "data": {
      "text/plain": [
       "'\\n#drop one column from each categorical feature to solve multi collinearity issue\\n#Drop column with max value count\\ndummies_2_drop = []\\ndummies_col = []\\nfor col in cat_col:\\n    if ((col not in bin_cols) and (col not in high_nunique_cols)):\\n        dummies_col.append(col)\\n        dummies_2_drop.append(col+\"_\"+train[col].value_counts().index[0])\\ndummies_list = pd.DataFrame()\\ndummies_list_test = pd.DataFrame()\\nfor col in dummies_col:\\n    dummies_list = pd.concat([dummies_list,pd.get_dummies(train[col],prefix=col)],axis=1)\\n    dummies_list_test = pd.concat([dummies_list_test,pd.get_dummies(test[col],prefix=col)],axis=1)\\ntrain = pd.concat([train,dummies_list],axis=1)\\ntest = pd.concat([test,dummies_list_test],axis=1)\\ntrain.drop(dummies_col,inplace=True,axis=1)\\ntest.drop(dummies_col,inplace=True,axis=1)\\ntrain.drop(dummies_2_drop,inplace=True,axis=1)\\ntest.drop(dummies_2_drop,inplace=True,axis=1)\\n\\n'"
      ]
     },
     "execution_count": 93,
     "metadata": {},
     "output_type": "execute_result"
    }
   ],
   "source": [
    "#old method\n",
    "'''\n",
    "#drop one column from each categorical feature to solve multi collinearity issue\n",
    "#Drop column with max value count\n",
    "dummies_2_drop = []\n",
    "dummies_col = []\n",
    "for col in cat_col:\n",
    "    if ((col not in bin_cols) and (col not in high_nunique_cols)):\n",
    "        dummies_col.append(col)\n",
    "        dummies_2_drop.append(col+\"_\"+train[col].value_counts().index[0])\n",
    "dummies_list = pd.DataFrame()\n",
    "dummies_list_test = pd.DataFrame()\n",
    "for col in dummies_col:\n",
    "    dummies_list = pd.concat([dummies_list,pd.get_dummies(train[col],prefix=col)],axis=1)\n",
    "    dummies_list_test = pd.concat([dummies_list_test,pd.get_dummies(test[col],prefix=col)],axis=1)\n",
    "train = pd.concat([train,dummies_list],axis=1)\n",
    "test = pd.concat([test,dummies_list_test],axis=1)\n",
    "train.drop(dummies_col,inplace=True,axis=1)\n",
    "test.drop(dummies_col,inplace=True,axis=1)\n",
    "train.drop(dummies_2_drop,inplace=True,axis=1)\n",
    "test.drop(dummies_2_drop,inplace=True,axis=1)\n",
    "\n",
    "'''"
   ]
  },
  {
   "cell_type": "code",
   "execution_count": 94,
   "metadata": {},
   "outputs": [
    {
     "name": "stdout",
     "output_type": "stream",
     "text": [
      "Not in test ['loan_status']\n",
      "Not in train []\n"
     ]
    }
   ],
   "source": [
    "not_in_test = []\n",
    "for col in train.columns:\n",
    "    if col not in test.columns:\n",
    "        not_in_test.append(col)\n",
    "print(\"Not in test\",not_in_test)\n",
    "not_in_train = []\n",
    "for col in test.columns:\n",
    "    if col not in train.columns:\n",
    "        not_in_train.append(col)\n",
    "print(\"Not in train\",not_in_train)"
   ]
  },
  {
   "cell_type": "code",
   "execution_count": 95,
   "metadata": {},
   "outputs": [
    {
     "name": "stdout",
     "output_type": "stream",
     "text": [
      "Training Features shape:  (532428, 182)\n",
      "Testing Features shape:  (354951, 181)\n"
     ]
    }
   ],
   "source": [
    "#align train and test\n",
    "#train, test = train.align(test, join = 'inner', axis = 1)\n",
    "\n",
    "print('Training Features shape: ', train.shape)\n",
    "print('Testing Features shape: ', test.shape)"
   ]
  },
  {
   "cell_type": "code",
   "execution_count": 96,
   "metadata": {},
   "outputs": [
    {
     "data": {
      "text/plain": [
       "(0, 182)"
      ]
     },
     "execution_count": 96,
     "metadata": {},
     "output_type": "execute_result"
    }
   ],
   "source": [
    "train[train.isnull().any(axis=1)].shape"
   ]
  },
  {
   "cell_type": "code",
   "execution_count": 97,
   "metadata": {},
   "outputs": [
    {
     "data": {
      "text/plain": [
       "(0, 181)"
      ]
     },
     "execution_count": 97,
     "metadata": {},
     "output_type": "execute_result"
    }
   ],
   "source": [
    "test[test.isnull().any(axis=1)].shape"
   ]
  },
  {
   "cell_type": "code",
   "execution_count": null,
   "metadata": {
    "collapsed": true
   },
   "outputs": [],
   "source": []
  },
  {
   "cell_type": "code",
   "execution_count": null,
   "metadata": {
    "collapsed": true
   },
   "outputs": [],
   "source": [
    "'''\n",
    "scaler = StandardScaler()\n",
    "df_scaled = scaler.fit_transform(train)\n",
    "corr = pd.DataFrame(df_scaled,columns=list(train.columns)).corr()\n",
    "sns.set(font_scale = 6)\n",
    "plt.subplots( figsize =( 100 , 80 ) )\n",
    "sns_plot = sns.heatmap(corr,cmap = sns.diverging_palette( 10 , 150 , as_cmap = True ))\n",
    "sns_plot.figure.savefig(os.path.join(folder,'sigma_cleaned_corr' + '.png'))\n",
    "plt.show()\n",
    "'''\n",
    "#Drop correlated features"
   ]
  },
  {
   "cell_type": "code",
   "execution_count": null,
   "metadata": {
    "collapsed": true
   },
   "outputs": [],
   "source": [
    "'''\n",
    "grade_dict = {'A': 1, 'B': 2, 'C':3, 'D':4,'E':5,'F':6,'G':7}\n",
    "train['grade_new'] = train['grade'].apply(lambda x: grade_dict[x])\n",
    "train['sub_grade_new'] = train['sub_grade'].apply(lambda x: int(str(grade_dict[x[0]])+x[1]))\n",
    "'''"
   ]
  },
  {
   "cell_type": "code",
   "execution_count": null,
   "metadata": {
    "collapsed": true
   },
   "outputs": [],
   "source": [
    "train.dtypes.value_counts()"
   ]
  },
  {
   "cell_type": "code",
   "execution_count": null,
   "metadata": {
    "collapsed": true
   },
   "outputs": [],
   "source": [
    "test.dtypes.value_counts()"
   ]
  },
  {
   "cell_type": "code",
   "execution_count": null,
   "metadata": {
    "collapsed": true
   },
   "outputs": [],
   "source": [
    "train.dropna(inplace=True)"
   ]
  },
  {
   "cell_type": "code",
   "execution_count": null,
   "metadata": {
    "collapsed": true
   },
   "outputs": [],
   "source": [
    "train.shape"
   ]
  },
  {
   "cell_type": "code",
   "execution_count": 98,
   "metadata": {
    "collapsed": true
   },
   "outputs": [],
   "source": [
    "target = train.pop('loan_status')\n",
    "#done till here"
   ]
  },
  {
   "cell_type": "code",
   "execution_count": null,
   "metadata": {
    "collapsed": true
   },
   "outputs": [],
   "source": [
    "from sklearn.base import BaseEstimator, TransformerMixin\n",
    "# scikit-learn transformer class that can be used to remove columns that have a high VIF factor \n",
    "from statsmodels.stats.outliers_influence import variance_inflation_factor\n",
    "\n",
    "class ReduceVIF(BaseEstimator, TransformerMixin):\n",
    "    def __init__(self, thresh=5.0, impute=True, impute_strategy='median'):\n",
    "        # From looking at documentation, values between 5 and 10 are \"okay\".\n",
    "        # Above 10 is too high and so should be removed.\n",
    "        self.thresh = thresh\n",
    "        \n",
    "        # The statsmodel function will fail with NaN values, as such we have to impute them.\n",
    "        # By default we impute using the median value.\n",
    "        # This imputation could be taken out and added as part of an sklearn Pipeline.\n",
    "        if impute:\n",
    "            self.imputer = Imputer(strategy=impute_strategy)\n",
    "\n",
    "    def fit(self, X, y=None):\n",
    "        print('ReduceVIF fit')\n",
    "        if hasattr(self, 'imputer'):\n",
    "            self.imputer.fit(X)\n",
    "        return self\n",
    "\n",
    "    def transform(self, X, y=None):\n",
    "        print('ReduceVIF transform')\n",
    "        columns = X.columns.tolist()\n",
    "        if hasattr(self, 'imputer'):\n",
    "            X = pd.DataFrame(self.imputer.transform(X), columns=columns)\n",
    "        return ReduceVIF.calculate_vif(X, self.thresh)\n",
    "\n",
    "    @staticmethod\n",
    "    def calculate_vif(X, thresh=5.0):\n",
    "        # Taken from https://stats.stackexchange.com/a/253620/53565 and modified\n",
    "        dropped=True\n",
    "        while dropped:\n",
    "            variables = X.columns\n",
    "            dropped = False\n",
    "            vif = [variance_inflation_factor(X[variables].values, X.columns.get_loc(var)) for var in X.columns]\n",
    "            \n",
    "            max_vif = max(vif)\n",
    "            if max_vif > thresh:\n",
    "                maxloc = vif.index(max_vif)\n",
    "                print(f'Dropping {X.columns[maxloc]} with vif={max_vif}')\n",
    "                X = X.drop([X.columns.tolist()[maxloc]], axis=1)\n",
    "                dropped=True\n",
    "        return X"
   ]
  },
  {
   "cell_type": "code",
   "execution_count": null,
   "metadata": {
    "collapsed": true
   },
   "outputs": [],
   "source": [
    "'''\n",
    "transformer = ReduceVIF()\n",
    "X = transformer.fit_transform(train, target) #[X.columns[-10:]]\n",
    "X\n",
    "'''"
   ]
  },
  {
   "cell_type": "code",
   "execution_count": 99,
   "metadata": {
    "collapsed": true
   },
   "outputs": [],
   "source": [
    "X_train, X_test, y_train, y_test = train_test_split(train, target, random_state=seed)\n",
    "scaler = StandardScaler()\n",
    "X_train_scaled = scaler.fit_transform(X_train)\n",
    "X_test_scaled = scaler.transform(X_test)\n",
    "X_pred = scaler.transform(test)"
   ]
  },
  {
   "cell_type": "code",
   "execution_count": 100,
   "metadata": {},
   "outputs": [
    {
     "name": "stdout",
     "output_type": "stream",
     "text": [
      "(399321, 181) (133107, 181) (399321,) (133107,)\n"
     ]
    }
   ],
   "source": [
    "print(X_train.shape, X_test.shape, y_train.shape, y_test.shape)"
   ]
  },
  {
   "cell_type": "code",
   "execution_count": 91,
   "metadata": {},
   "outputs": [
    {
     "data": {
      "text/plain": [
       "XGBClassifier(base_score=0.5, booster='gbtree', colsample_bylevel=0.8,\n",
       "       colsample_bytree=0.8, gamma=0, learning_rate=0.1, max_delta_step=0,\n",
       "       max_depth=3, min_child_weight=1, missing=None, n_estimators=100,\n",
       "       n_jobs=1, nthread=-1, objective='binary:logistic', random_state=19,\n",
       "       reg_alpha=0, reg_lambda=1, scale_pos_weight=1, seed=42, silent=True,\n",
       "       subsample=1)"
      ]
     },
     "execution_count": 91,
     "metadata": {},
     "output_type": "execute_result"
    }
   ],
   "source": [
    "classifier = xgb.sklearn.XGBClassifier(nthread=-1, seed=42,colsample_bylevel=0.8,\n",
    "                                       colsample_bytree=0.8,random_state=seed,min_child_weight=1)\n",
    "classifier.fit(X_train_scaled, y_train)"
   ]
  },
  {
   "cell_type": "code",
   "execution_count": 92,
   "metadata": {},
   "outputs": [
    {
     "data": {
      "image/png": "[encoded data removed]",
      "text/plain": [
       "<Figure size 1440x1080 with 1 Axes>"
      ]
     },
     "metadata": {},
     "output_type": "display_data"
    }
   ],
   "source": [
    "plt.figure(figsize=(20,15))\n",
    "xgb.plot_importance(classifier, ax=plt.gca())\n",
    "plt.show()"
   ]
  },
  {
   "cell_type": "code",
   "execution_count": 103,
   "metadata": {},
   "outputs": [
    {
     "name": "stdout",
     "output_type": "stream",
     "text": [
      "[0]\tvalidation_0-auc:0.756149\n",
      "Will train until validation_0-auc hasn't improved in 10 rounds.\n",
      "[1]\tvalidation_0-auc:0.775064\n",
      "[2]\tvalidation_0-auc:0.781589\n",
      "[3]\tvalidation_0-auc:0.793018\n",
      "[4]\tvalidation_0-auc:0.798635\n",
      "[5]\tvalidation_0-auc:0.800981\n",
      "[6]\tvalidation_0-auc:0.801506\n",
      "[7]\tvalidation_0-auc:0.804551\n",
      "[8]\tvalidation_0-auc:0.806172\n",
      "[9]\tvalidation_0-auc:0.806061\n",
      "[10]\tvalidation_0-auc:0.806112\n",
      "[11]\tvalidation_0-auc:0.806109\n",
      "[12]\tvalidation_0-auc:0.809196\n",
      "[13]\tvalidation_0-auc:0.810357\n",
      "[14]\tvalidation_0-auc:0.811028\n",
      "[15]\tvalidation_0-auc:0.812886\n",
      "[16]\tvalidation_0-auc:0.813472\n",
      "[17]\tvalidation_0-auc:0.813059\n",
      "[18]\tvalidation_0-auc:0.813754\n",
      "[19]\tvalidation_0-auc:0.81373\n",
      "[20]\tvalidation_0-auc:0.815376\n",
      "[21]\tvalidation_0-auc:0.815455\n",
      "[22]\tvalidation_0-auc:0.815543\n",
      "[23]\tvalidation_0-auc:0.817012\n",
      "[24]\tvalidation_0-auc:0.82316\n",
      "[25]\tvalidation_0-auc:0.823449\n",
      "[26]\tvalidation_0-auc:0.825122\n",
      "[27]\tvalidation_0-auc:0.828775\n",
      "[28]\tvalidation_0-auc:0.829412\n",
      "[29]\tvalidation_0-auc:0.830501\n",
      "[30]\tvalidation_0-auc:0.830969\n",
      "[31]\tvalidation_0-auc:0.83199\n",
      "[32]\tvalidation_0-auc:0.8327\n",
      "[33]\tvalidation_0-auc:0.833266\n",
      "[34]\tvalidation_0-auc:0.833443\n",
      "[35]\tvalidation_0-auc:0.834884\n",
      "[36]\tvalidation_0-auc:0.835647\n",
      "[37]\tvalidation_0-auc:0.837327\n",
      "[38]\tvalidation_0-auc:0.838371\n",
      "[39]\tvalidation_0-auc:0.840074\n",
      "[40]\tvalidation_0-auc:0.841699\n",
      "[41]\tvalidation_0-auc:0.842515\n",
      "[42]\tvalidation_0-auc:0.842857\n",
      "[43]\tvalidation_0-auc:0.843065\n",
      "[44]\tvalidation_0-auc:0.846311\n",
      "[45]\tvalidation_0-auc:0.847747\n",
      "[46]\tvalidation_0-auc:0.848022\n",
      "[47]\tvalidation_0-auc:0.849625\n",
      "[48]\tvalidation_0-auc:0.850019\n",
      "[49]\tvalidation_0-auc:0.851225\n",
      "[50]\tvalidation_0-auc:0.851937\n",
      "[51]\tvalidation_0-auc:0.852691\n",
      "[52]\tvalidation_0-auc:0.853791\n",
      "[53]\tvalidation_0-auc:0.854294\n",
      "[54]\tvalidation_0-auc:0.856304\n",
      "[55]\tvalidation_0-auc:0.857003\n",
      "[56]\tvalidation_0-auc:0.857821\n",
      "[57]\tvalidation_0-auc:0.858314\n",
      "[58]\tvalidation_0-auc:0.859889\n",
      "[59]\tvalidation_0-auc:0.860189\n",
      "[60]\tvalidation_0-auc:0.861544\n",
      "[61]\tvalidation_0-auc:0.862503\n",
      "[62]\tvalidation_0-auc:0.863521\n",
      "[63]\tvalidation_0-auc:0.863804\n",
      "[64]\tvalidation_0-auc:0.86432\n",
      "[65]\tvalidation_0-auc:0.864775\n",
      "[66]\tvalidation_0-auc:0.865371\n",
      "[67]\tvalidation_0-auc:0.865879\n",
      "[68]\tvalidation_0-auc:0.867337\n",
      "[69]\tvalidation_0-auc:0.867448\n",
      "[70]\tvalidation_0-auc:0.868789\n",
      "[71]\tvalidation_0-auc:0.869056\n",
      "[72]\tvalidation_0-auc:0.86997\n",
      "[73]\tvalidation_0-auc:0.873239\n",
      "[74]\tvalidation_0-auc:0.875739\n",
      "[75]\tvalidation_0-auc:0.87801\n",
      "[76]\tvalidation_0-auc:0.880173\n",
      "[77]\tvalidation_0-auc:0.882625\n",
      "[78]\tvalidation_0-auc:0.883917\n",
      "[79]\tvalidation_0-auc:0.883997\n",
      "[80]\tvalidation_0-auc:0.885841\n",
      "[81]\tvalidation_0-auc:0.888196\n",
      "[82]\tvalidation_0-auc:0.889362\n",
      "[83]\tvalidation_0-auc:0.890239\n",
      "[84]\tvalidation_0-auc:0.891762\n",
      "[85]\tvalidation_0-auc:0.893344\n",
      "[86]\tvalidation_0-auc:0.894493\n",
      "[87]\tvalidation_0-auc:0.894656\n",
      "[88]\tvalidation_0-auc:0.895457\n",
      "[89]\tvalidation_0-auc:0.897031\n",
      "[90]\tvalidation_0-auc:0.897346\n",
      "[91]\tvalidation_0-auc:0.89744\n",
      "[92]\tvalidation_0-auc:0.898126\n",
      "[93]\tvalidation_0-auc:0.898577\n",
      "[94]\tvalidation_0-auc:0.89906\n",
      "[95]\tvalidation_0-auc:0.899637\n",
      "[96]\tvalidation_0-auc:0.899793\n",
      "[97]\tvalidation_0-auc:0.900236\n",
      "[98]\tvalidation_0-auc:0.901503\n",
      "[99]\tvalidation_0-auc:0.902494\n"
     ]
    },
    {
     "name": "stderr",
     "output_type": "stream",
     "text": [
      "/home/ws01/anaconda3/lib/python3.6/site-packages/sklearn/preprocessing/label.py:151: DeprecationWarning: The truth value of an empty array is ambiguous. Returning False, but in future this will result in an error. Use `array.size > 0` to check that an array is not empty.\n",
      "  if diff:\n"
     ]
    }
   ],
   "source": [
    "model = xgb.sklearn.XGBClassifier(n_jobs=-1,seed=42,max_depth = 6, colsample_bylevel=0.9,\n",
    "                                       colsample_bytree=0.9,base_score = 0.6, random_state=seed,min_child_weight=1)\n",
    "eval_set = [(X_test_scaled, y_test)]\n",
    "model.fit(X_train_scaled, y_train, early_stopping_rounds=10, eval_metric=\"auc\", eval_set=eval_set, verbose=True)\n",
    "# make predictions for test data\n",
    "y_pred = model.predict(X_test_scaled)\n",
    "#predictions = [round(value) for value in y_pred]\n"
   ]
  },
  {
   "cell_type": "code",
   "execution_count": 104,
   "metadata": {},
   "outputs": [
    {
     "name": "stdout",
     "output_type": "stream",
     "text": [
      "ROC AUC score: 71.96%\n"
     ]
    }
   ],
   "source": [
    "# evaluate predictions\n",
    "accuracy = roc_auc_score(y_test, y_pred)\n",
    "print(\"ROC AUC score: %.2f%%\" % (accuracy * 100.0))"
   ]
  },
  {
   "cell_type": "code",
   "execution_count": null,
   "metadata": {
    "collapsed": true
   },
   "outputs": [],
   "source": []
  },
  {
   "cell_type": "code",
   "execution_count": 112,
   "metadata": {
    "collapsed": true
   },
   "outputs": [],
   "source": [
    "imps = pd.DataFrame(model.feature_importances_,index = train.columns)"
   ]
  },
  {
   "cell_type": "code",
   "execution_count": null,
   "metadata": {
    "collapsed": true
   },
   "outputs": [],
   "source": [
    "for i,k in zip(train.columns,model.feature_importances_):\n",
    "    print(i,\": \", k)"
   ]
  },
  {
   "cell_type": "code",
   "execution_count": 123,
   "metadata": {
    "collapsed": true
   },
   "outputs": [],
   "source": [
    "imp_cols = list(imps.sort_values(by = 0,ascending=False)[:52].index)"
   ]
  },
  {
   "cell_type": "code",
   "execution_count": null,
   "metadata": {
    "collapsed": true
   },
   "outputs": [],
   "source": [
    "model = xgb.sklearn.XGBClassifier(n_jobs=-1,seed=42,max_depth = 6, colsample_bylevel=0.9,\n",
    "                                       colsample_bytree=0.9,base_score = 0.6, random_state=seed,min_child_weight=1)"
   ]
  },
  {
   "cell_type": "code",
   "execution_count": 126,
   "metadata": {
    "collapsed": true
   },
   "outputs": [],
   "source": [
    "param_test1 = {'max_depth':[i for i in range(5,11,2)]}"
   ]
  },
  {
   "cell_type": "code",
   "execution_count": 129,
   "metadata": {
    "collapsed": true
   },
   "outputs": [],
   "source": [
    "from sklearn.model_selection import StratifiedKFold"
   ]
  },
  {
   "cell_type": "code",
   "execution_count": 132,
   "metadata": {},
   "outputs": [
    {
     "name": "stdout",
     "output_type": "stream",
     "text": [
      "Fitting 5 folds for each of 3 candidates, totalling 15 fits\n"
     ]
    },
    {
     "name": "stderr",
     "output_type": "stream",
     "text": [
      "[Parallel(n_jobs=-1)]: Done  15 out of  15 | elapsed: 28.4min finished\n"
     ]
    }
   ],
   "source": [
    "kfold = StratifiedKFold(n_splits=5, shuffle=True, random_state=7)\n",
    "grid_search1 = GridSearchCV(model, param_grid = param_test1, scoring=\"roc_auc\", n_jobs=-1, cv=kfold, verbose=1)\n",
    "result = grid_search1.fit(X_train_scaled,y_train)"
   ]
  },
  {
   "cell_type": "code",
   "execution_count": 134,
   "metadata": {},
   "outputs": [
    {
     "data": {
      "text/plain": [
       "{'max_depth': 9}"
      ]
     },
     "execution_count": 134,
     "metadata": {},
     "output_type": "execute_result"
    }
   ],
   "source": [
    "grid_search1.best_params_"
   ]
  },
  {
   "cell_type": "code",
   "execution_count": 136,
   "metadata": {},
   "outputs": [
    {
     "data": {
      "text/plain": [
       "0.9297057862169886"
      ]
     },
     "execution_count": 136,
     "metadata": {},
     "output_type": "execute_result"
    }
   ],
   "source": [
    "grid_search1.best_score_"
   ]
  },
  {
   "cell_type": "code",
   "execution_count": 137,
   "metadata": {
    "collapsed": true
   },
   "outputs": [],
   "source": [
    "model = xgb.sklearn.XGBClassifier(n_jobs=-1,seed=42,max_depth = 9, colsample_bylevel=0.9,\n",
    "                                       colsample_bytree=0.9,random_state=seed,min_child_weight=1)"
   ]
  },
  {
   "cell_type": "code",
   "execution_count": 138,
   "metadata": {
    "collapsed": true
   },
   "outputs": [],
   "source": [
    "param_test2 = {'base_score':[i/10. for i in range(5,10)]}"
   ]
  },
  {
   "cell_type": "code",
   "execution_count": 139,
   "metadata": {},
   "outputs": [
    {
     "name": "stdout",
     "output_type": "stream",
     "text": [
      "Fitting 5 folds for each of 5 candidates, totalling 25 fits\n",
      "[CV] base_score=0.5 ..................................................\n",
      "[CV] base_score=0.5 ..................................................\n",
      "[CV] base_score=0.5 ..................................................\n",
      "[CV] base_score=0.5 ..................................................\n",
      "[CV] base_score=0.5 ..................................................\n",
      "[CV] base_score=0.6 ..................................................\n",
      "[CV] base_score=0.6 ..................................................\n",
      "[CV] base_score=0.6 ..................................................\n",
      "[CV] ......... base_score=0.5, score=0.9294625493667148, total=19.6min\n",
      "[CV] .......... base_score=0.5, score=0.927555284428746, total=19.4min\n",
      "[CV] ......... base_score=0.6, score=0.9311032864174096, total=19.5min\n",
      "[CV] ......... base_score=0.5, score=0.9323704436653155, total=19.2min\n",
      "[CV] ......... base_score=0.6, score=0.9282881344946071, total=19.5min\n",
      "[CV] ......... base_score=0.6, score=0.9288592900745782, total=19.5min\n",
      "[CV] ........... base_score=0.5, score=0.92820177933896, total=19.3min\n",
      "[CV] ......... base_score=0.5, score=0.9315192953087827, total=19.3min\n",
      "[CV] base_score=0.6 ..................................................\n",
      "[CV] base_score=0.6 ..................................................\n",
      "[CV] base_score=0.7 ..................................................\n",
      "[CV] base_score=0.7 ..................................................\n",
      "[CV] base_score=0.7 ..................................................\n",
      "[CV] base_score=0.7 ..................................................\n",
      "[CV] base_score=0.7 ..................................................\n",
      "[CV] base_score=0.8 ..................................................\n",
      "[CV] .......... base_score=0.6, score=0.932444706240262, total=12.7min\n",
      "[CV] base_score=0.8 ..................................................\n",
      "[CV] ......... base_score=0.6, score=0.9278334835151686, total=19.2min\n",
      "[CV] base_score=0.8 ..................................................\n",
      "[CV] ......... base_score=0.7, score=0.9298564406535909, total=19.3min\n",
      "[CV] base_score=0.8 ..................................................\n",
      "[CV] ......... base_score=0.7, score=0.9287065237964349, total=19.3min\n",
      "[CV] base_score=0.8 ..................................................\n",
      "[CV] ........... base_score=0.7, score=0.92507033573646, total=19.4min\n",
      "[CV] base_score=0.9 ..................................................\n",
      "[CV] .......... base_score=0.7, score=0.927767321696148, total=19.5min\n",
      "[CV] base_score=0.9 ..................................................\n",
      "[CV] ......... base_score=0.8, score=0.9286677753598284, total=19.4min\n",
      "[CV] ......... base_score=0.7, score=0.9323536582143884, total=19.5min\n",
      "[CV] base_score=0.9 ..................................................\n",
      "[CV] base_score=0.9 ..................................................\n",
      "[CV] ......... base_score=0.8, score=0.9322590873858799, total=19.5min\n",
      "[CV] base_score=0.9 ..................................................\n",
      "[CV] ......... base_score=0.8, score=0.9302092737358355, total=19.6min\n",
      "[CV] ......... base_score=0.8, score=0.9316038304450285, total=19.5min\n"
     ]
    },
    {
     "name": "stderr",
     "output_type": "stream",
     "text": [
      "[Parallel(n_jobs=-1)]: Done  19 out of  25 | elapsed: 59.9min remaining: 18.9min\n"
     ]
    },
    {
     "name": "stdout",
     "output_type": "stream",
     "text": [
      "[CV] ......... base_score=0.8, score=0.9277776666403327, total=19.6min\n",
      "[CV] ......... base_score=0.9, score=0.9305168707194362, total=19.5min\n",
      "[CV] ......... base_score=0.9, score=0.9293485614593002, total=19.6min\n",
      "[CV] ......... base_score=0.9, score=0.9292766547390627, total=19.6min\n",
      "[CV] ......... base_score=0.9, score=0.9307987631922343, total=19.7min\n",
      "[CV] .......... base_score=0.9, score=0.927457636856038, total= 8.9min\n"
     ]
    },
    {
     "name": "stderr",
     "output_type": "stream",
     "text": [
      "[Parallel(n_jobs=-1)]: Done  25 out of  25 | elapsed: 61.3min finished\n"
     ]
    }
   ],
   "source": [
    "grid_search2 = GridSearchCV(model, param_grid = param_test2, scoring=\"roc_auc\", n_jobs=-1, cv=kfold, verbose=3)\n",
    "result2 = grid_search2.fit(X_train_scaled,y_train)"
   ]
  },
  {
   "cell_type": "code",
   "execution_count": 140,
   "metadata": {},
   "outputs": [
    {
     "data": {
      "text/plain": [
       "{'base_score': 0.8}"
      ]
     },
     "execution_count": 140,
     "metadata": {},
     "output_type": "execute_result"
    }
   ],
   "source": [
    "grid_search2.best_params_"
   ]
  },
  {
   "cell_type": "code",
   "execution_count": 141,
   "metadata": {},
   "outputs": [
    {
     "data": {
      "text/plain": [
       "0.9301035343405016"
      ]
     },
     "execution_count": 141,
     "metadata": {},
     "output_type": "execute_result"
    }
   ],
   "source": [
    "grid_search2.best_score_"
   ]
  },
  {
   "cell_type": "code",
   "execution_count": 142,
   "metadata": {
    "collapsed": true
   },
   "outputs": [],
   "source": [
    "model = xgb.sklearn.XGBClassifier(n_jobs=-1,seed=42,max_depth = 9, colsample_bylevel=1,\n",
    "                                       colsample_bytree=1,base_score = 0.8,random_state=seed)"
   ]
  },
  {
   "cell_type": "code",
   "execution_count": 143,
   "metadata": {
    "collapsed": true
   },
   "outputs": [],
   "source": [
    "param_test3 = {'min_child_weight':[i for i in range(1,7,2)]}"
   ]
  },
  {
   "cell_type": "code",
   "execution_count": 144,
   "metadata": {},
   "outputs": [
    {
     "name": "stdout",
     "output_type": "stream",
     "text": [
      "Fitting 5 folds for each of 3 candidates, totalling 15 fits\n",
      "[CV] min_child_weight=1 ..............................................\n",
      "[CV] min_child_weight=1 ..............................................\n",
      "[CV] min_child_weight=1 ..............................................\n",
      "[CV] min_child_weight=1 ..............................................\n",
      "[CV] min_child_weight=1 ..............................................\n",
      "[CV] min_child_weight=3 ..............................................\n",
      "[CV] min_child_weight=3 ..............................................\n",
      "[CV] min_child_weight=3 ..............................................\n",
      "[CV] ..... min_child_weight=1, score=0.9274169324014636, total=23.5min\n",
      "[CV] min_child_weight=3 ..............................................\n",
      "[CV] ..... min_child_weight=1, score=0.9280994181775728, total=23.7min\n",
      "[CV] ..... min_child_weight=3, score=0.9290806464843104, total=23.6min\n",
      "[CV] ..... min_child_weight=1, score=0.9282777112044733, total=23.8min\n",
      "[CV] ..... min_child_weight=3, score=0.9293830689791326, total=23.7min\n",
      "[CV] ...... min_child_weight=3, score=0.927182175427842, total=23.8min\n",
      "[CV] ..... min_child_weight=1, score=0.9276302402311247, total=23.9min\n"
     ]
    },
    {
     "name": "stderr",
     "output_type": "stream",
     "text": [
      "[Parallel(n_jobs=-1)]: Done   6 out of  15 | elapsed: 24.1min remaining: 36.1min\n"
     ]
    },
    {
     "name": "stdout",
     "output_type": "stream",
     "text": [
      "[CV] ..... min_child_weight=1, score=0.9258849453528637, total=23.9min\n",
      "[CV] min_child_weight=3 ..............................................\n",
      "[CV] min_child_weight=5 ..............................................\n",
      "[CV] min_child_weight=5 ..............................................\n",
      "[CV] min_child_weight=5 ..............................................\n",
      "[CV] min_child_weight=5 ..............................................\n",
      "[CV] min_child_weight=5 ..............................................\n",
      "[CV] ..... min_child_weight=3, score=0.9290886918391839, total=16.2min\n",
      "[CV] ..... min_child_weight=5, score=0.9269576625686784, total=19.3min\n",
      "[CV] ...... min_child_weight=3, score=0.927580839810983, total=19.3min\n",
      "[CV] ..... min_child_weight=5, score=0.9289835973545048, total=19.4min\n"
     ]
    },
    {
     "name": "stderr",
     "output_type": "stream",
     "text": [
      "[Parallel(n_jobs=-1)]: Done  12 out of  15 | elapsed: 44.2min remaining: 11.0min\n"
     ]
    },
    {
     "name": "stdout",
     "output_type": "stream",
     "text": [
      "[CV] ..... min_child_weight=5, score=0.9273645769735034, total=19.4min\n",
      "[CV] ..... min_child_weight=5, score=0.9290168063305282, total=19.4min\n",
      "[CV] ...... min_child_weight=5, score=0.925439452303933, total=19.4min\n"
     ]
    },
    {
     "name": "stderr",
     "output_type": "stream",
     "text": [
      "[Parallel(n_jobs=-1)]: Done  15 out of  15 | elapsed: 44.2min finished\n"
     ]
    }
   ],
   "source": [
    "grid_search3 = GridSearchCV(model, param_grid = param_test3, scoring=\"roc_auc\", n_jobs=-1, cv=kfold, verbose=3)\n",
    "result3 = grid_search3.fit(X_train_scaled,y_train)"
   ]
  },
  {
   "cell_type": "code",
   "execution_count": 145,
   "metadata": {},
   "outputs": [
    {
     "data": {
      "text/plain": [
       "{'min_child_weight': 3}"
      ]
     },
     "execution_count": 145,
     "metadata": {},
     "output_type": "execute_result"
    }
   ],
   "source": [
    "grid_search3.best_params_"
   ]
  },
  {
   "cell_type": "code",
   "execution_count": 146,
   "metadata": {},
   "outputs": [
    {
     "data": {
      "text/plain": [
       "0.9284630858138065"
      ]
     },
     "execution_count": 146,
     "metadata": {},
     "output_type": "execute_result"
    }
   ],
   "source": [
    "grid_search3.best_score_"
   ]
  },
  {
   "cell_type": "code",
   "execution_count": 149,
   "metadata": {
    "collapsed": true
   },
   "outputs": [],
   "source": [
    "model = xgb.sklearn.XGBClassifier(n_jobs=-1,seed=42,max_depth = 9, colsample_bylevel=0.9,\n",
    "                                       colsample_bytree=0.9,base_score = 0.8,random_state=seed,min_child_weight=3)"
   ]
  },
  {
   "cell_type": "code",
   "execution_count": 150,
   "metadata": {
    "collapsed": true
   },
   "outputs": [],
   "source": [
    "param_test4 = {'n_estimators':[100 + i for i in range(10,70,10)]}"
   ]
  },
  {
   "cell_type": "code",
   "execution_count": 151,
   "metadata": {},
   "outputs": [
    {
     "name": "stdout",
     "output_type": "stream",
     "text": [
      "Fitting 5 folds for each of 6 candidates, totalling 30 fits\n",
      "[CV] n_estimators=110 ................................................\n",
      "[CV] n_estimators=110 ................................................\n",
      "[CV] n_estimators=110 ................................................\n",
      "[CV] n_estimators=110 ................................................\n",
      "[CV] n_estimators=110 ................................................\n",
      "[CV] n_estimators=120 ................................................\n",
      "[CV] n_estimators=120 ................................................\n",
      "[CV] n_estimators=120 ................................................\n",
      "[CV] ........ n_estimators=110, score=0.930334907013185, total=20.9min\n",
      "[CV] n_estimators=120 ................................................\n",
      "[CV] ....... n_estimators=110, score=0.9328976131460095, total=21.0min\n",
      "[CV] ....... n_estimators=110, score=0.9342886357962072, total=21.1min\n",
      "[CV] ....... n_estimators=110, score=0.9312471994341457, total=21.1min\n",
      "[CV] n_estimators=120 ................................................\n",
      "[CV] ....... n_estimators=110, score=0.9319125974961712, total=21.2min\n",
      "[CV] n_estimators=130 ................................................\n",
      "[CV] n_estimators=130 ................................................\n",
      "[CV] n_estimators=130 ................................................\n",
      "[CV] ....... n_estimators=120, score=0.9332370436104717, total=22.8min\n",
      "[CV] n_estimators=130 ................................................\n",
      "[CV] ....... n_estimators=120, score=0.9345488650750753, total=23.0min\n",
      "[CV] n_estimators=130 ................................................\n",
      "[CV] ....... n_estimators=120, score=0.9331735105940444, total=23.1min\n",
      "[CV] n_estimators=140 ................................................\n",
      "[CV] ....... n_estimators=120, score=0.9360154651837308, total=22.9min\n",
      "[CV] n_estimators=140 ................................................\n",
      "[CV] ....... n_estimators=120, score=0.9325102080877947, total=23.0min\n",
      "[CV] n_estimators=140 ................................................\n",
      "[CV] ....... n_estimators=130, score=0.9360983697203948, total=24.9min\n",
      "[CV] n_estimators=140 ................................................\n",
      "[CV] ....... n_estimators=130, score=0.9349636504773353, total=25.0min\n",
      "[CV] n_estimators=140 ................................................\n",
      "[CV] ....... n_estimators=130, score=0.9337118237809494, total=25.0min\n",
      "[CV] n_estimators=150 ................................................\n",
      "[CV] ....... n_estimators=130, score=0.9376209034310384, total=24.8min\n",
      "[CV] n_estimators=150 ................................................\n",
      "[CV] ....... n_estimators=130, score=0.9342506765308517, total=25.0min\n",
      "[CV] n_estimators=150 ................................................\n",
      "[CV] ....... n_estimators=140, score=0.9357435648291698, total=26.8min\n",
      "[CV] n_estimators=150 ................................................\n",
      "[CV] ....... n_estimators=140, score=0.9374883224350954, total=26.8min\n",
      "[CV] n_estimators=150 ................................................\n",
      "[CV] ....... n_estimators=140, score=0.9354662577251787, total=27.0min\n",
      "[CV] n_estimators=160 ................................................\n",
      "[CV] ....... n_estimators=140, score=0.9354764474296329, total=26.9min\n",
      "[CV] n_estimators=160 ................................................\n",
      "[CV] ....... n_estimators=140, score=0.9386756939027119, total=27.1min\n",
      "[CV] n_estimators=160 ................................................\n",
      "[CV] ....... n_estimators=150, score=0.9366553448911796, total=28.7min\n",
      "[CV] n_estimators=160 ................................................\n",
      "[CV] ....... n_estimators=150, score=0.9387654087135682, total=28.7min\n",
      "[CV] n_estimators=160 ................................................\n",
      "[CV] ........ n_estimators=150, score=0.936710773367043, total=28.9min\n",
      "[CV] ....... n_estimators=150, score=0.9396211580078431, total=28.5min\n",
      "[CV] ....... n_estimators=150, score=0.9369221435935902, total=22.4min\n",
      "[CV] ........ n_estimators=160, score=0.937898448498843, total=23.2min\n"
     ]
    },
    {
     "name": "stderr",
     "output_type": "stream",
     "text": [
      "[Parallel(n_jobs=-1)]: Done  26 out of  30 | elapsed: 95.2min remaining: 14.6min\n"
     ]
    },
    {
     "name": "stdout",
     "output_type": "stream",
     "text": [
      "[CV] ....... n_estimators=160, score=0.9393888628778695, total=22.2min\n",
      "[CV] ....... n_estimators=160, score=0.9377865138263644, total=22.1min\n",
      "[CV] ....... n_estimators=160, score=0.9405395059171736, total=20.7min\n",
      "[CV] ....... n_estimators=160, score=0.9374512941715547, total=19.3min\n"
     ]
    },
    {
     "name": "stderr",
     "output_type": "stream",
     "text": [
      "[Parallel(n_jobs=-1)]: Done  30 out of  30 | elapsed: 96.6min finished\n"
     ]
    }
   ],
   "source": [
    "grid_search4 = GridSearchCV(model, param_grid = param_test4, scoring=\"roc_auc\", n_jobs=-1, cv=kfold, verbose=3)\n",
    "result4 = grid_search4.fit(X_train_scaled,y_train)"
   ]
  },
  {
   "cell_type": "code",
   "execution_count": 152,
   "metadata": {},
   "outputs": [
    {
     "data": {
      "text/plain": [
       "({'n_estimators': 160}, 0.9386129281212906)"
      ]
     },
     "execution_count": 152,
     "metadata": {},
     "output_type": "execute_result"
    }
   ],
   "source": [
    "grid_search4.best_params_,grid_search4.best_score_"
   ]
  },
  {
   "cell_type": "code",
   "execution_count": null,
   "metadata": {
    "collapsed": true
   },
   "outputs": [],
   "source": [
    "y_pred = model.predict(X_test_scaled)"
   ]
  },
  {
   "cell_type": "code",
   "execution_count": null,
   "metadata": {
    "collapsed": true
   },
   "outputs": [],
   "source": []
  },
  {
   "cell_type": "code",
   "execution_count": 101,
   "metadata": {},
   "outputs": [
    {
     "name": "stdout",
     "output_type": "stream",
     "text": [
      "[0]\tvalidation_0-auc:0.777728\n",
      "Will train until validation_0-auc hasn't improved in 10 rounds.\n",
      "[1]\tvalidation_0-auc:0.793486\n",
      "[2]\tvalidation_0-auc:0.811161\n",
      "[3]\tvalidation_0-auc:0.819923\n",
      "[4]\tvalidation_0-auc:0.827965\n",
      "[5]\tvalidation_0-auc:0.833716\n",
      "[6]\tvalidation_0-auc:0.83759\n",
      "[7]\tvalidation_0-auc:0.839229\n",
      "[8]\tvalidation_0-auc:0.840783\n",
      "[9]\tvalidation_0-auc:0.845247\n",
      "[10]\tvalidation_0-auc:0.847766\n",
      "[11]\tvalidation_0-auc:0.847737\n",
      "[12]\tvalidation_0-auc:0.848994\n",
      "[13]\tvalidation_0-auc:0.850583\n",
      "[14]\tvalidation_0-auc:0.851811\n",
      "[15]\tvalidation_0-auc:0.853548\n",
      "[16]\tvalidation_0-auc:0.85511\n",
      "[17]\tvalidation_0-auc:0.8573\n",
      "[18]\tvalidation_0-auc:0.858826\n",
      "[19]\tvalidation_0-auc:0.859172\n",
      "[20]\tvalidation_0-auc:0.860453\n",
      "[21]\tvalidation_0-auc:0.862757\n",
      "[22]\tvalidation_0-auc:0.863456\n",
      "[23]\tvalidation_0-auc:0.863638\n",
      "[24]\tvalidation_0-auc:0.863932\n",
      "[25]\tvalidation_0-auc:0.86411\n",
      "[26]\tvalidation_0-auc:0.864775\n",
      "[27]\tvalidation_0-auc:0.866249\n",
      "[28]\tvalidation_0-auc:0.869084\n",
      "[29]\tvalidation_0-auc:0.871975\n",
      "[30]\tvalidation_0-auc:0.874885\n",
      "[31]\tvalidation_0-auc:0.875668\n",
      "[32]\tvalidation_0-auc:0.875882\n",
      "[33]\tvalidation_0-auc:0.876302\n",
      "[34]\tvalidation_0-auc:0.876548\n",
      "[35]\tvalidation_0-auc:0.88018\n",
      "[36]\tvalidation_0-auc:0.884005\n",
      "[37]\tvalidation_0-auc:0.884385\n",
      "[38]\tvalidation_0-auc:0.885518\n",
      "[39]\tvalidation_0-auc:0.885777\n",
      "[40]\tvalidation_0-auc:0.885864\n",
      "[41]\tvalidation_0-auc:0.886051\n",
      "[42]\tvalidation_0-auc:0.890195\n",
      "[43]\tvalidation_0-auc:0.891015\n",
      "[44]\tvalidation_0-auc:0.892276\n",
      "[45]\tvalidation_0-auc:0.893956\n",
      "[46]\tvalidation_0-auc:0.89449\n",
      "[47]\tvalidation_0-auc:0.895608\n",
      "[48]\tvalidation_0-auc:0.89851\n",
      "[49]\tvalidation_0-auc:0.898704\n",
      "[50]\tvalidation_0-auc:0.901667\n",
      "[51]\tvalidation_0-auc:0.902755\n",
      "[52]\tvalidation_0-auc:0.90562\n",
      "[53]\tvalidation_0-auc:0.908151\n",
      "[54]\tvalidation_0-auc:0.908383\n",
      "[55]\tvalidation_0-auc:0.90887\n",
      "[56]\tvalidation_0-auc:0.910103\n",
      "[57]\tvalidation_0-auc:0.91083\n",
      "[58]\tvalidation_0-auc:0.911083\n",
      "[59]\tvalidation_0-auc:0.912463\n",
      "[60]\tvalidation_0-auc:0.914302\n",
      "[61]\tvalidation_0-auc:0.915109\n",
      "[62]\tvalidation_0-auc:0.915404\n",
      "[63]\tvalidation_0-auc:0.916819\n",
      "[64]\tvalidation_0-auc:0.91767\n",
      "[65]\tvalidation_0-auc:0.918024\n",
      "[66]\tvalidation_0-auc:0.918163\n",
      "[67]\tvalidation_0-auc:0.918635\n",
      "[68]\tvalidation_0-auc:0.91895\n",
      "[69]\tvalidation_0-auc:0.919349\n",
      "[70]\tvalidation_0-auc:0.920382\n",
      "[71]\tvalidation_0-auc:0.920573\n",
      "[72]\tvalidation_0-auc:0.920879\n",
      "[73]\tvalidation_0-auc:0.922404\n",
      "[74]\tvalidation_0-auc:0.923174\n",
      "[75]\tvalidation_0-auc:0.923647\n",
      "[76]\tvalidation_0-auc:0.923752\n",
      "[77]\tvalidation_0-auc:0.923941\n",
      "[78]\tvalidation_0-auc:0.925342\n",
      "[79]\tvalidation_0-auc:0.925722\n",
      "[80]\tvalidation_0-auc:0.925839\n",
      "[81]\tvalidation_0-auc:0.925913\n",
      "[82]\tvalidation_0-auc:0.926282\n",
      "[83]\tvalidation_0-auc:0.926311\n",
      "[84]\tvalidation_0-auc:0.926388\n",
      "[85]\tvalidation_0-auc:0.927105\n",
      "[86]\tvalidation_0-auc:0.927512\n",
      "[87]\tvalidation_0-auc:0.92767\n",
      "[88]\tvalidation_0-auc:0.927806\n",
      "[89]\tvalidation_0-auc:0.927947\n",
      "[90]\tvalidation_0-auc:0.928152\n",
      "[91]\tvalidation_0-auc:0.928652\n",
      "[92]\tvalidation_0-auc:0.929043\n",
      "[93]\tvalidation_0-auc:0.929668\n",
      "[94]\tvalidation_0-auc:0.930013\n",
      "[95]\tvalidation_0-auc:0.930501\n",
      "[96]\tvalidation_0-auc:0.930566\n",
      "[97]\tvalidation_0-auc:0.931042\n",
      "[98]\tvalidation_0-auc:0.931085\n",
      "[99]\tvalidation_0-auc:0.931686\n",
      "[100]\tvalidation_0-auc:0.93173\n",
      "[101]\tvalidation_0-auc:0.931852\n",
      "[102]\tvalidation_0-auc:0.932118\n",
      "[103]\tvalidation_0-auc:0.932152\n",
      "[104]\tvalidation_0-auc:0.932478\n",
      "[105]\tvalidation_0-auc:0.932507\n",
      "[106]\tvalidation_0-auc:0.932506\n",
      "[107]\tvalidation_0-auc:0.93253\n",
      "[108]\tvalidation_0-auc:0.932934\n",
      "[109]\tvalidation_0-auc:0.933369\n",
      "[110]\tvalidation_0-auc:0.933473\n",
      "[111]\tvalidation_0-auc:0.933959\n",
      "[112]\tvalidation_0-auc:0.934011\n",
      "[113]\tvalidation_0-auc:0.934151\n",
      "[114]\tvalidation_0-auc:0.934447\n",
      "[115]\tvalidation_0-auc:0.934684\n",
      "[116]\tvalidation_0-auc:0.934998\n",
      "[117]\tvalidation_0-auc:0.935157\n",
      "[118]\tvalidation_0-auc:0.935458\n",
      "[119]\tvalidation_0-auc:0.935569\n",
      "[120]\tvalidation_0-auc:0.935594\n",
      "[121]\tvalidation_0-auc:0.935652\n",
      "[122]\tvalidation_0-auc:0.935652\n",
      "[123]\tvalidation_0-auc:0.935904\n",
      "[124]\tvalidation_0-auc:0.935914\n",
      "[125]\tvalidation_0-auc:0.935962\n",
      "[126]\tvalidation_0-auc:0.935998\n",
      "[127]\tvalidation_0-auc:0.936073\n",
      "[128]\tvalidation_0-auc:0.936091\n",
      "[129]\tvalidation_0-auc:0.9361\n",
      "[130]\tvalidation_0-auc:0.936139\n",
      "[131]\tvalidation_0-auc:0.936385\n",
      "[132]\tvalidation_0-auc:0.936709\n",
      "[133]\tvalidation_0-auc:0.937115\n",
      "[134]\tvalidation_0-auc:0.937263\n",
      "[135]\tvalidation_0-auc:0.937319\n",
      "[136]\tvalidation_0-auc:0.937382\n",
      "[137]\tvalidation_0-auc:0.937469\n",
      "[138]\tvalidation_0-auc:0.937607\n",
      "[139]\tvalidation_0-auc:0.937645\n",
      "[140]\tvalidation_0-auc:0.937715\n",
      "[141]\tvalidation_0-auc:0.937716\n",
      "[142]\tvalidation_0-auc:0.937771\n",
      "[143]\tvalidation_0-auc:0.937806\n",
      "[144]\tvalidation_0-auc:0.937874\n",
      "[145]\tvalidation_0-auc:0.937946\n",
      "[146]\tvalidation_0-auc:0.937948\n",
      "[147]\tvalidation_0-auc:0.938086\n",
      "[148]\tvalidation_0-auc:0.938187\n",
      "[149]\tvalidation_0-auc:0.938679\n",
      "[150]\tvalidation_0-auc:0.938729\n",
      "[151]\tvalidation_0-auc:0.938769\n",
      "[152]\tvalidation_0-auc:0.93877\n",
      "[153]\tvalidation_0-auc:0.938843\n",
      "[154]\tvalidation_0-auc:0.93903\n",
      "[155]\tvalidation_0-auc:0.939121\n",
      "[156]\tvalidation_0-auc:0.939157\n",
      "[157]\tvalidation_0-auc:0.939158\n",
      "[158]\tvalidation_0-auc:0.939381\n",
      "[159]\tvalidation_0-auc:0.939431\n"
     ]
    }
   ],
   "source": [
    "model = xgb.sklearn.XGBClassifier(n_jobs=-1,seed=42,max_depth = 9, colsample_bylevel=0.9,\n",
    "                                       colsample_bytree=0.9,base_score = 0.8,\n",
    "                                  random_state=seed,min_child_weight=3,n_estimators = 160)\n",
    "eval_set = [(X_test_scaled, y_test)]\n",
    "model.fit(X_train_scaled, y_train, early_stopping_rounds=10, eval_metric=\"auc\", eval_set=eval_set, verbose=True)\n",
    "# make predictions for test data\n",
    "#y_pred = model.predict(X_test_scaled)\n",
    "#predictions = [round(value) for value in y_pred]\n",
    "y_pred = model.predict(X_pred)"
   ]
  },
  {
   "cell_type": "code",
   "execution_count": 102,
   "metadata": {
    "collapsed": true
   },
   "outputs": [],
   "source": [
    "preds = model.predict_proba(X_pred)[:,1]"
   ]
  },
  {
   "cell_type": "code",
   "execution_count": 103,
   "metadata": {
    "collapsed": true
   },
   "outputs": [],
   "source": [
    "sub = pd.DataFrame({'member_id':test.index, 'loan_status':preds})"
   ]
  },
  {
   "cell_type": "code",
   "execution_count": 106,
   "metadata": {
    "collapsed": true
   },
   "outputs": [],
   "source": [
    "sub = sub[['member_id','loan_status']]"
   ]
  },
  {
   "cell_type": "code",
   "execution_count": 107,
   "metadata": {
    "collapsed": true
   },
   "outputs": [],
   "source": [
    "sub.to_csv(os.path.join(folder,'submission.csv'), index=False)"
   ]
  },
  {
   "cell_type": "code",
   "execution_count": 148,
   "metadata": {},
   "outputs": [
    {
     "name": "stdout",
     "output_type": "stream",
     "text": [
      "ROC AUC score: 80.33%\n"
     ]
    }
   ],
   "source": [
    "# evaluate predictions\n",
    "accuracy = roc_auc_score(y_test, y_pred)\n",
    "print(\"ROC AUC score: %.2f%%\" % (accuracy * 100.0))"
   ]
  },
  {
   "cell_type": "code",
   "execution_count": null,
   "metadata": {
    "collapsed": true
   },
   "outputs": [],
   "source": []
  },
  {
   "cell_type": "code",
   "execution_count": 94,
   "metadata": {},
   "outputs": [
    {
     "data": {
      "text/plain": [
       "0    0.763\n",
       "1    0.237\n",
       "Name: loan_status, dtype: float64"
      ]
     },
     "execution_count": 94,
     "metadata": {},
     "output_type": "execute_result"
    }
   ],
   "source": [
    "y_test.value_counts(normalize=True)"
   ]
  },
  {
   "cell_type": "code",
   "execution_count": 95,
   "metadata": {},
   "outputs": [
    {
     "name": "stdout",
     "output_type": "stream",
     "text": [
      "Baseline score is 0.50\n"
     ]
    }
   ],
   "source": [
    "#Baseline model\n",
    "from sklearn.metrics import roc_auc_score\n",
    "\n",
    "# Get predictions on the test set\n",
    "baseline_predictions = np.zeros(y_test.shape)\n",
    "\n",
    "# Compute MAE\n",
    "baseline = roc_auc_score(y_test, baseline_predictions)\n",
    "\n",
    "print(\"Baseline score is {:.2f}\".format(baseline))"
   ]
  }
 ],
 "metadata": {
  "kernelspec": {
   "display_name": "Python 3",
   "language": "python",
   "name": "python3"
  },
  "language_info": {
   "codemirror_mode": {
    "name": "ipython",
    "version": 3
   },
   "file_extension": ".py",
   "mimetype": "text/x-python",
   "name": "python",
   "nbconvert_exporter": "python",
   "pygments_lexer": "ipython3",
   "version": "3.6.2"
  }
 },
 "nbformat": 4,
 "nbformat_minor": 2
}
